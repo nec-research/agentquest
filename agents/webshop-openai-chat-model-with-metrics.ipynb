{
 "cells": [
  {
   "cell_type": "markdown",
   "metadata": {},
   "source": [
    "# OpenAI Simple Chat Model"
   ]
  },
  {
   "cell_type": "code",
   "execution_count": 1,
   "metadata": {},
   "outputs": [],
   "source": [
    "# ! pip install openai"
   ]
  },
  {
   "cell_type": "markdown",
   "metadata": {},
   "source": [
    "Load a generic webshop goal"
   ]
  },
  {
   "cell_type": "code",
   "execution_count": 4,
   "metadata": {},
   "outputs": [
    {
     "name": "stdout",
     "output_type": "stream",
     "text": [
      "http://localhost:5555\n",
      "2025-01-07 15:27 - INFO - Connection test to interface successful.\n",
      "{\n",
      "  \"test\": \"okay\"\n",
      "}\n",
      "\n"
     ]
    }
   ],
   "source": [
    "from agentquest.benchmarks.webshop import WebshopDriver, WebshopUtils\n",
    "from dotenv import load_dotenv\n",
    "import os\n",
    "\n",
    "load_dotenv()\n",
    "\n",
    "# proxy_settings(set=False)\n",
    "WebshopUtils.test_interface_api()"
   ]
  },
  {
   "cell_type": "markdown",
   "metadata": {},
   "source": [
    "Initialize the prompt and the LLM"
   ]
  },
  {
   "cell_type": "code",
   "execution_count": 5,
   "metadata": {},
   "outputs": [],
   "source": [
    "from openai import OpenAI\n",
    "\n",
    "client = OpenAI(\n",
    "    api_key=os.environ.get(\"OPENAI_API_KEY\"),\n",
    ")\n",
    "\n",
    "# Initalize the system prompt\n",
    "messages = [\n",
    "    {\n",
    "        \"role\": \"developer\",\n",
    "        \"content\": \"You are a web shopping agent. Follow the instructions provided.\",\n",
    "    },\n",
    "]"
   ]
  },
  {
   "cell_type": "markdown",
   "metadata": {},
   "source": [
    "Initialize the Webshop driver and get the first observation. Reset method calls automatically loads a task."
   ]
  },
  {
   "cell_type": "code",
   "execution_count": 6,
   "metadata": {},
   "outputs": [
    {
     "name": "stdout",
     "output_type": "stream",
     "text": [
      "Welcome to WebShop, a simulated e-commerce website environment. Your goal is to find and buy the best product matching the instruction provided.\n",
      "There are two possible actions `search[<query>]` and `click[<clickable>]`. These actions will help you navigate through the WebShop environment. The list of possible actions and clickables are provided in the observation output after every action.\n",
      "Your output should in the following format:\n",
      "Action: <action>\n",
      "WebShop [SEP] Instruction: [SEP] Find me slim fit, machine wash women's jumpsuits, rompers & overalls with short sleeve, high waist, polyester spandex for daily wear with color: green stripe, and size: large, and price lower than 50.00 dollars [SEP] Search\n",
      "Available actions in json:\n",
      "{\"clickables\": [\"search\"], \"has_search_bar\": true}\n"
     ]
    }
   ],
   "source": [
    "driver = WebshopDriver(base_url=\"http://localhost:5555\")\n",
    "obs = driver.reset()\n",
    "print(obs.output)"
   ]
  },
  {
   "cell_type": "markdown",
   "metadata": {},
   "source": [
    "Start the LLM loop solving the task"
   ]
  },
  {
   "cell_type": "code",
   "execution_count": 7,
   "metadata": {},
   "outputs": [
    {
     "name": "stdout",
     "output_type": "stream",
     "text": [
      "Action: search[slim fit, machine wash women's jumpsuits, rompers & overalls with short sleeve, high waist, polyester spandex for daily wear green stripe large under 50.00 dollars]\n",
      "WebShop [SEP] Instruction: [SEP] Find me slim fit, machine wash women's jumpsuits, rompers & overalls with short sleeve, high waist, polyester spandex for daily wear with color: green stripe, and size: large, and price lower than 50.00 dollars [SEP] Search\n",
      "Available actions in json:\n",
      "{\"clickables\": [\"search\"], \"has_search_bar\": true}\n",
      "Instruction: [SEP] Find me slim fit, machine wash women's jumpsuits, rompers & overalls with short sleeve, high waist, polyester spandex for daily wear with color: green stripe, and size: large, and price lower than 50.00 dollars [SEP] Back to Search [SEP] Page 1 (Total results: 50) [SEP] Next > [SEP] B099WX3CV5 [SEP] Women Aesthetic Short Sleeve Jumpsuit Bodycon Sexy V Neck Button Shorts Rompers Knitted One Piece Bodysuit Overall [SEP] $13.99 to $24.89 [SEP] B09QCVCYVY [SEP] Burband Womens High Waist Bike Shorts Tummy Control Workout Yoga Pants Running Exercise Running Shorts with Side Pockets [SEP] $6.82 [SEP] B099231V35 [SEP] Mens Casual Cargo Pants Hi Vis Viz Reflective Overalls High Visibility Safe Work Pants Outdoor Hiking Trousers Big and Tall [SEP] $16.79 [SEP] B09NDS8F4V [SEP] AODONG Onesie Pajamas for Women Onesies Romper Pajamas Printed Bodycon Jumpsuit Shorts Sexy One Piece Pjs Overall [SEP] $2.99 to $7.99 [SEP] B09PBPZ24Z [SEP] myhehthw Women's High Waisted Jeans for Women Distressed Ripped Jeans Slim Fit Butt Lifting Skinny Stretch Jeans Trousers [SEP] $22.99 to $25.99 [SEP] B09QQP3356 [SEP] HAUKLIE Men's Sports Waffle Ribbed Polo Shirts Summer Short Sleeve Cotton Muscle Quarter-Zip Henley T-Shirt Tunics Tops [SEP] $10.99 [SEP] B09M63B87V [SEP] YALFJV Women Long Sleeve Crew Neck Side Button T Shirts Tunic Dress Loose Asymmetric Hem Tunic Pullover to Wear with Leggings [SEP] $10.71 to $18.34 [SEP] B09Q37JQZ6 [SEP] Women's Sexy Swimsuit One Piece High Neck Halter Bikini Floral Stiching See Through Monokini Tummy Control Beachwear [SEP] $10.99 to $18.99 [SEP] B09Q5ZHRVM [SEP] Yinimo Mens Gym Shorts Fashionable Loose Beach Drawstring Turkey Print Beach Cool Shorts [SEP] $19.19 [SEP] B09R9YCM6R [SEP] XXBR Summer T-shirts for Mens, Soldier Short Sleeve 3D Street Vintage Printed Shirt Slim Fit Muscle Casual Tee Tops [SEP] $8.98 to $11.99\n",
      "Available actions in json\n",
      "{\"clickables\": [\"back to search\", \"next >\", \"b099wx3cv5\", \"b09qcvcyvy\", \"b099231v35\", \"b09nds8f4v\", \"b09pbpz24z\", \"b09qqp3356\", \"b09m63b87v\", \"b09q37jqz6\", \"b09q5zhrvm\", \"b09r9ycm6r\"], \"has_search_bar\": false}\n",
      "Action: click[b099wx3cv5]\n",
      "WebShop [SEP] Instruction: [SEP] Find me slim fit, machine wash women's jumpsuits, rompers & overalls with short sleeve, high waist, polyester spandex for daily wear with color: green stripe, and size: large, and price lower than 50.00 dollars [SEP] Search\n",
      "Available actions in json:\n",
      "{\"clickables\": [\"add to cart\", \"back to search\"], \"has_search_bar\": false}\n",
      "Instruction: [SEP] Find me slim fit, machine wash women's jumpsuits, rompers & overalls with short sleeve, high waist, polyester spandex for daily wear with color: green stripe, and size: large, and price lower than 50.00 dollars [SEP] Back to Search [SEP] < Prev [SEP] color [SEP] green stripe [SEP] letter blue [SEP] letter green [SEP] floral purple [SEP] floral yellow [SEP] letter green b [SEP] tie dye blue [SEP] green whirlpool [SEP] yellow [SEP] tie dye pink [SEP] size [SEP] small [SEP] medium [SEP] large [SEP] x-large [SEP] xx-large [SEP] Women Aesthetic Short Sleeve Jumpsuit Bodycon Sexy V Neck Button Shorts Rompers Knitted One Piece Bodysuit Overall [SEP] Price: $13.99 to $24.89 [SEP] Rating: N.A. [SEP] Description [SEP] Features [SEP] Reviews [SEP] Buy Now\n",
      "Available actions in json\n",
      "{\"clickables\": [\"back to search\", \"< prev\", \"description\", \"features\", \"reviews\", \"buy now\", \"green stripe\", \"letter blue\", \"letter green\", \"floral purple\", \"floral yellow\", \"letter green b\", \"tie dye blue\", \"green whirlpool\", \"yellow\", \"tie dye pink\", \"small\", \"medium\", \"large\", \"x-large\", \"xx-large\"], \"has_search_bar\": false}\n",
      "Action: click[buy now]\n",
      "WebShop [SEP] Instruction: [SEP] Find me slim fit, machine wash women's jumpsuits, rompers & overalls with short sleeve, high waist, polyester spandex for daily wear with color: green stripe, and size: large, and price lower than 50.00 dollars [SEP] Search\n",
      "Available actions in json:\n",
      "{\"clickables\": [\"add to cart\", \"back to search\"], \"has_search_bar\": false}\n",
      "Thank you for shopping with us! [SEP] Your code: [SEP] None [SEP] (Paste it in your MTurk interface.) [SEP] Purchased [SEP] asin [SEP] B099WX3CV5 [SEP] options [SEP] {} [SEP] attrs [SEP] None [SEP] category [SEP] None [SEP] query [SEP] None [SEP] product category [SEP] None [SEP] Target [SEP] asin [SEP] options [SEP] attrs [SEP] price upper [SEP] instuction text [SEP] category [SEP] product category [SEP] query [SEP] Goal [SEP] None [SEP] Reward [SEP] Your score (min 0.0, max 1.0) [SEP] 0.7777777777777778 [SEP] Reward Details [SEP] None\n",
      "Available actions in json\n",
      "{\"clickables\": [], \"has_search_bar\": false}\n"
     ]
    }
   ],
   "source": [
    "step_cnt = 0\n",
    "max_steps = 10\n",
    "while not obs.success and obs.can_proceed and step_cnt < max_steps:\n",
    "    # Provide the observation to the LLM\n",
    "    messages.append({\"role\": \"user\", \"content\": obs.output})\n",
    "\n",
    "    # Get the LLM output\n",
    "    agent_choice = (\n",
    "        client.chat.completions.create(model=\"gpt-4o-mini\", messages=messages)\n",
    "        .choices[0]\n",
    "        .message.content\n",
    "    )\n",
    "\n",
    "    # Provide the choice to the LLM as history\n",
    "    messages.append({\"role\": \"assistant\", \"content\": agent_choice})\n",
    "    print(agent_choice)\n",
    "\n",
    "    # Build the action\n",
    "    obs = driver.step_raw(agent_choice)\n",
    "    print(obs.output)\n",
    "\n",
    "    step_cnt += 1"
   ]
  },
  {
   "cell_type": "code",
   "execution_count": 8,
   "metadata": {},
   "outputs": [
    {
     "name": "stdout",
     "output_type": "stream",
     "text": [
      "2025-01-07 15:28 - WARNING - Exception encountered: Metrics.get_repetition_rate() missing 1 required positional argument: 'num_execution_steps'. Unable to calculate repetition rate.\n"
     ]
    },
    {
     "data": {
      "text/plain": [
       "{'goal': \"WebShop [SEP] Instruction: [SEP] Find me slim fit, machine wash women's jumpsuits, rompers & overalls with short sleeve, high waist, polyester spandex for daily wear with color: green stripe, and size: large, and price lower than 50.00 dollars [SEP] Search\",\n",
       " 'success': False,\n",
       " 'actions': [{'value': \"search[slim fit, machine wash women's jumpsuits, rompers & overalls with short sleeve, high waist, polyester spandex for daily wear green stripe large under 50.00 dollars]\"},\n",
       "  {'value': 'click[b099wx3cv5]'},\n",
       "  {'value': 'click[buy now]'}],\n",
       " 'states': [{'value': {'available_actions': {'clickables': ['back to search',\n",
       "      'next >',\n",
       "      'b099wx3cv5',\n",
       "      'b09qcvcyvy',\n",
       "      'b099231v35',\n",
       "      'b09nds8f4v',\n",
       "      'b09pbpz24z',\n",
       "      'b09qqp3356',\n",
       "      'b09m63b87v',\n",
       "      'b09q37jqz6',\n",
       "      'b09q5zhrvm',\n",
       "      'b09r9ycm6r'],\n",
       "     'has_search_bar': False},\n",
       "    'done': False,\n",
       "    'info': None,\n",
       "    'obs': \"Instruction: [SEP] Find me slim fit, machine wash women's jumpsuits, rompers & overalls with short sleeve, high waist, polyester spandex for daily wear with color: green stripe, and size: large, and price lower than 50.00 dollars [SEP] Back to Search [SEP] Page 1 (Total results: 50) [SEP] Next > [SEP] B099WX3CV5 [SEP] Women Aesthetic Short Sleeve Jumpsuit Bodycon Sexy V Neck Button Shorts Rompers Knitted One Piece Bodysuit Overall [SEP] $13.99 to $24.89 [SEP] B09QCVCYVY [SEP] Burband Womens High Waist Bike Shorts Tummy Control Workout Yoga Pants Running Exercise Running Shorts with Side Pockets [SEP] $6.82 [SEP] B099231V35 [SEP] Mens Casual Cargo Pants Hi Vis Viz Reflective Overalls High Visibility Safe Work Pants Outdoor Hiking Trousers Big and Tall [SEP] $16.79 [SEP] B09NDS8F4V [SEP] AODONG Onesie Pajamas for Women Onesies Romper Pajamas Printed Bodycon Jumpsuit Shorts Sexy One Piece Pjs Overall [SEP] $2.99 to $7.99 [SEP] B09PBPZ24Z [SEP] myhehthw Women's High Waisted Jeans for Women Distressed Ripped Jeans Slim Fit Butt Lifting Skinny Stretch Jeans Trousers [SEP] $22.99 to $25.99 [SEP] B09QQP3356 [SEP] HAUKLIE Men's Sports Waffle Ribbed Polo Shirts Summer Short Sleeve Cotton Muscle Quarter-Zip Henley T-Shirt Tunics Tops [SEP] $10.99 [SEP] B09M63B87V [SEP] YALFJV Women Long Sleeve Crew Neck Side Button T Shirts Tunic Dress Loose Asymmetric Hem Tunic Pullover to Wear with Leggings [SEP] $10.71 to $18.34 [SEP] B09Q37JQZ6 [SEP] Women's Sexy Swimsuit One Piece High Neck Halter Bikini Floral Stiching See Through Monokini Tummy Control Beachwear [SEP] $10.99 to $18.99 [SEP] B09Q5ZHRVM [SEP] Yinimo Mens Gym Shorts Fashionable Loose Beach Drawstring Turkey Print Beach Cool Shorts [SEP] $19.19 [SEP] B09R9YCM6R [SEP] XXBR Summer T-shirts for Mens, Soldier Short Sleeve 3D Street Vintage Printed Shirt Slim Fit Muscle Casual Tee Tops [SEP] $8.98 to $11.99\",\n",
       "    'reward': 0.0}},\n",
       "  {'value': {'available_actions': {'clickables': ['back to search',\n",
       "      '< prev',\n",
       "      'description',\n",
       "      'features',\n",
       "      'reviews',\n",
       "      'buy now',\n",
       "      'green stripe',\n",
       "      'letter blue',\n",
       "      'letter green',\n",
       "      'floral purple',\n",
       "      'floral yellow',\n",
       "      'letter green b',\n",
       "      'tie dye blue',\n",
       "      'green whirlpool',\n",
       "      'yellow',\n",
       "      'tie dye pink',\n",
       "      'small',\n",
       "      'medium',\n",
       "      'large',\n",
       "      'x-large',\n",
       "      'xx-large'],\n",
       "     'has_search_bar': False},\n",
       "    'done': False,\n",
       "    'info': None,\n",
       "    'obs': \"Instruction: [SEP] Find me slim fit, machine wash women's jumpsuits, rompers & overalls with short sleeve, high waist, polyester spandex for daily wear with color: green stripe, and size: large, and price lower than 50.00 dollars [SEP] Back to Search [SEP] < Prev [SEP] color [SEP] green stripe [SEP] letter blue [SEP] letter green [SEP] floral purple [SEP] floral yellow [SEP] letter green b [SEP] tie dye blue [SEP] green whirlpool [SEP] yellow [SEP] tie dye pink [SEP] size [SEP] small [SEP] medium [SEP] large [SEP] x-large [SEP] xx-large [SEP] Women Aesthetic Short Sleeve Jumpsuit Bodycon Sexy V Neck Button Shorts Rompers Knitted One Piece Bodysuit Overall [SEP] Price: $13.99 to $24.89 [SEP] Rating: N.A. [SEP] Description [SEP] Features [SEP] Reviews [SEP] Buy Now\",\n",
       "    'reward': 0.0}},\n",
       "  {'value': {'available_actions': {'clickables': [], 'has_search_bar': False},\n",
       "    'done': True,\n",
       "    'info': None,\n",
       "    'obs': 'Thank you for shopping with us! [SEP] Your code: [SEP] None [SEP] (Paste it in your MTurk interface.) [SEP] Purchased [SEP] asin [SEP] B099WX3CV5 [SEP] options [SEP] {} [SEP] attrs [SEP] None [SEP] category [SEP] None [SEP] query [SEP] None [SEP] product category [SEP] None [SEP] Target [SEP] asin [SEP] options [SEP] attrs [SEP] price upper [SEP] instuction text [SEP] category [SEP] product category [SEP] query [SEP] Goal [SEP] None [SEP] Reward [SEP] Your score (min 0.0, max 1.0) [SEP] 0.7777777777777778 [SEP] Reward Details [SEP] None',\n",
       "    'reward': 0.7777777777777778}}],\n",
       " 'observations': [{'output': 'Instruction: [SEP] Find me slim fit, machine wash women\\'s jumpsuits, rompers & overalls with short sleeve, high waist, polyester spandex for daily wear with color: green stripe, and size: large, and price lower than 50.00 dollars [SEP] Back to Search [SEP] Page 1 (Total results: 50) [SEP] Next > [SEP] B099WX3CV5 [SEP] Women Aesthetic Short Sleeve Jumpsuit Bodycon Sexy V Neck Button Shorts Rompers Knitted One Piece Bodysuit Overall [SEP] $13.99 to $24.89 [SEP] B09QCVCYVY [SEP] Burband Womens High Waist Bike Shorts Tummy Control Workout Yoga Pants Running Exercise Running Shorts with Side Pockets [SEP] $6.82 [SEP] B099231V35 [SEP] Mens Casual Cargo Pants Hi Vis Viz Reflective Overalls High Visibility Safe Work Pants Outdoor Hiking Trousers Big and Tall [SEP] $16.79 [SEP] B09NDS8F4V [SEP] AODONG Onesie Pajamas for Women Onesies Romper Pajamas Printed Bodycon Jumpsuit Shorts Sexy One Piece Pjs Overall [SEP] $2.99 to $7.99 [SEP] B09PBPZ24Z [SEP] myhehthw Women\\'s High Waisted Jeans for Women Distressed Ripped Jeans Slim Fit Butt Lifting Skinny Stretch Jeans Trousers [SEP] $22.99 to $25.99 [SEP] B09QQP3356 [SEP] HAUKLIE Men\\'s Sports Waffle Ribbed Polo Shirts Summer Short Sleeve Cotton Muscle Quarter-Zip Henley T-Shirt Tunics Tops [SEP] $10.99 [SEP] B09M63B87V [SEP] YALFJV Women Long Sleeve Crew Neck Side Button T Shirts Tunic Dress Loose Asymmetric Hem Tunic Pullover to Wear with Leggings [SEP] $10.71 to $18.34 [SEP] B09Q37JQZ6 [SEP] Women\\'s Sexy Swimsuit One Piece High Neck Halter Bikini Floral Stiching See Through Monokini Tummy Control Beachwear [SEP] $10.99 to $18.99 [SEP] B09Q5ZHRVM [SEP] Yinimo Mens Gym Shorts Fashionable Loose Beach Drawstring Turkey Print Beach Cool Shorts [SEP] $19.19 [SEP] B09R9YCM6R [SEP] XXBR Summer T-shirts for Mens, Soldier Short Sleeve 3D Street Vintage Printed Shirt Slim Fit Muscle Casual Tee Tops [SEP] $8.98 to $11.99\\nAvailable actions in json\\n{\"clickables\": [\"back to search\", \"next >\", \"b099wx3cv5\", \"b09qcvcyvy\", \"b099231v35\", \"b09nds8f4v\", \"b09pbpz24z\", \"b09qqp3356\", \"b09m63b87v\", \"b09q37jqz6\", \"b09q5zhrvm\", \"b09r9ycm6r\"], \"has_search_bar\": false}',\n",
       "   'success': False,\n",
       "   'can_proceed': True},\n",
       "  {'output': 'Instruction: [SEP] Find me slim fit, machine wash women\\'s jumpsuits, rompers & overalls with short sleeve, high waist, polyester spandex for daily wear with color: green stripe, and size: large, and price lower than 50.00 dollars [SEP] Back to Search [SEP] < Prev [SEP] color [SEP] green stripe [SEP] letter blue [SEP] letter green [SEP] floral purple [SEP] floral yellow [SEP] letter green b [SEP] tie dye blue [SEP] green whirlpool [SEP] yellow [SEP] tie dye pink [SEP] size [SEP] small [SEP] medium [SEP] large [SEP] x-large [SEP] xx-large [SEP] Women Aesthetic Short Sleeve Jumpsuit Bodycon Sexy V Neck Button Shorts Rompers Knitted One Piece Bodysuit Overall [SEP] Price: $13.99 to $24.89 [SEP] Rating: N.A. [SEP] Description [SEP] Features [SEP] Reviews [SEP] Buy Now\\nAvailable actions in json\\n{\"clickables\": [\"back to search\", \"< prev\", \"description\", \"features\", \"reviews\", \"buy now\", \"green stripe\", \"letter blue\", \"letter green\", \"floral purple\", \"floral yellow\", \"letter green b\", \"tie dye blue\", \"green whirlpool\", \"yellow\", \"tie dye pink\", \"small\", \"medium\", \"large\", \"x-large\", \"xx-large\"], \"has_search_bar\": false}',\n",
       "   'success': False,\n",
       "   'can_proceed': True},\n",
       "  {'output': 'Thank you for shopping with us! [SEP] Your code: [SEP] None [SEP] (Paste it in your MTurk interface.) [SEP] Purchased [SEP] asin [SEP] B099WX3CV5 [SEP] options [SEP] {} [SEP] attrs [SEP] None [SEP] category [SEP] None [SEP] query [SEP] None [SEP] product category [SEP] None [SEP] Target [SEP] asin [SEP] options [SEP] attrs [SEP] price upper [SEP] instuction text [SEP] category [SEP] product category [SEP] query [SEP] Goal [SEP] None [SEP] Reward [SEP] Your score (min 0.0, max 1.0) [SEP] 0.7777777777777778 [SEP] Reward Details [SEP] None\\nAvailable actions in json\\n{\"clickables\": [], \"has_search_bar\": false}',\n",
       "   'success': True,\n",
       "   'can_proceed': False}],\n",
       " 'progress': [0.0, 0.0, 0.7777777777777778]}"
      ]
     },
     "execution_count": 8,
     "metadata": {},
     "output_type": "execute_result"
    }
   ],
   "source": [
    "driver.metrics.export()"
   ]
  },
  {
   "cell_type": "code",
   "execution_count": null,
   "metadata": {},
   "outputs": [],
   "source": []
  }
 ],
 "metadata": {
  "kernelspec": {
   "display_name": ".venv",
   "language": "python",
   "name": "python3"
  },
  "language_info": {
   "codemirror_mode": {
    "name": "ipython",
    "version": 3
   },
   "file_extension": ".py",
   "mimetype": "text/x-python",
   "name": "python",
   "nbconvert_exporter": "python",
   "pygments_lexer": "ipython3",
   "version": "3.12.3"
  }
 },
 "nbformat": 4,
 "nbformat_minor": 2
}
