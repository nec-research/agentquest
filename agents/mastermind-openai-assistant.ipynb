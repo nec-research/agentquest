{
 "cells": [
  {
   "cell_type": "markdown",
   "metadata": {},
   "source": [
    "# OpenAI Assistant agent"
   ]
  },
  {
   "cell_type": "code",
   "execution_count": 1,
   "metadata": {},
   "outputs": [],
   "source": [
    "# ! pip3 install openai"
   ]
  },
  {
   "cell_type": "code",
   "execution_count": 2,
   "metadata": {},
   "outputs": [
    {
     "data": {
      "text/plain": [
       "True"
      ]
     },
     "execution_count": 2,
     "metadata": {},
     "output_type": "execute_result"
    }
   ],
   "source": [
    "from dotenv import load_dotenv\n",
    "\n",
    "load_dotenv()"
   ]
  },
  {
   "cell_type": "code",
   "execution_count": 3,
   "metadata": {},
   "outputs": [
    {
     "data": {
      "text/plain": [
       "'9605'"
      ]
     },
     "execution_count": 3,
     "metadata": {},
     "output_type": "execute_result"
    }
   ],
   "source": [
    "from agentquest.benchmarks.mastermind import MasterMindDriver, MasterMindUtils\n",
    "\n",
    "game = MasterMindUtils.load_data(data_path=\"__default__\", category=\"4 digits\")[2]\n",
    "game"
   ]
  },
  {
   "cell_type": "markdown",
   "metadata": {},
   "source": [
    "Initialize the prompt and the OpenAI Assistant agent"
   ]
  },
  {
   "cell_type": "code",
   "execution_count": 4,
   "metadata": {},
   "outputs": [],
   "source": [
    "from openai import OpenAI"
   ]
  },
  {
   "cell_type": "markdown",
   "metadata": {},
   "source": [
    "Initialize the mastermind driver and get the first observation"
   ]
  },
  {
   "cell_type": "code",
   "execution_count": 5,
   "metadata": {},
   "outputs": [
    {
     "name": "stdout",
     "output_type": "stream",
     "text": [
      "OBSERVATION: You are tasked to play the Mastermind game.\n",
      "The host chooses a number and gives you the amount of digits. You have to guess the correct number as fast as you can.\n",
      "The number can contain repetitions and any possible digit between: 0, 1, 2, 3, 4, 5, 6, 7, 8, 9.\n",
      "At each round, you provide a number as a guess. At each step, the host provides you this information:\n",
      "1. The number of correct digits in the wrong position.\n",
      "2. The number of correct digits in the correct position.\n",
      "The game ends when the host outputs 'You Won!'\n",
      "Carefully choose your strategy. Avoid brute force.\n",
      "The guess must be in the following format:\n",
      "Guess: <number>\n",
      "Start guessing the 4 digits number.\n"
     ]
    }
   ],
   "source": [
    "driver = MasterMindDriver(game)\n",
    "obs = driver.reset()  # Get the first observation\n",
    "print(f\"OBSERVATION: {obs.output}\")"
   ]
  },
  {
   "cell_type": "code",
   "execution_count": 6,
   "metadata": {},
   "outputs": [],
   "source": [
    "client = OpenAI()\n",
    "\n",
    "assistant = client.beta.assistants.create(\n",
    "    name=\"Mastermind Numbers Game Playing Agent\",\n",
    "    instructions=\"Your goal is to play mastermind number game following the instructions provided.\",\n",
    "    tools=[],\n",
    "    model=\"gpt-4o\",\n",
    ")"
   ]
  },
  {
   "cell_type": "code",
   "execution_count": 7,
   "metadata": {},
   "outputs": [
    {
     "name": "stdout",
     "output_type": "stream",
     "text": [
      "asst_HuwMROOeetYJax5CWR9eGRrs\n"
     ]
    }
   ],
   "source": [
    "print(assistant.id)"
   ]
  },
  {
   "cell_type": "markdown",
   "metadata": {},
   "source": [
    "Start the Agent loop solving the task"
   ]
  },
  {
   "cell_type": "code",
   "execution_count": 8,
   "metadata": {},
   "outputs": [
    {
     "data": {
      "text/plain": [
       "MasterMindObservation(output=\"You are tasked to play the Mastermind game.\\nThe host chooses a number and gives you the amount of digits. You have to guess the correct number as fast as you can.\\nThe number can contain repetitions and any possible digit between: 0, 1, 2, 3, 4, 5, 6, 7, 8, 9.\\nAt each round, you provide a number as a guess. At each step, the host provides you this information:\\n1. The number of correct digits in the wrong position.\\n2. The number of correct digits in the correct position.\\nThe game ends when the host outputs 'You Won!'\\nCarefully choose your strategy. Avoid brute force.\\nThe guess must be in the following format:\\nGuess: <number>\\nStart guessing the 4 digits number.\", success=False, can_proceed=True)"
      ]
     },
     "execution_count": 8,
     "metadata": {},
     "output_type": "execute_result"
    }
   ],
   "source": [
    "obs"
   ]
  },
  {
   "cell_type": "code",
   "execution_count": 9,
   "metadata": {},
   "outputs": [
    {
     "name": "stdout",
     "output_type": "stream",
     "text": [
      "thread_sDZSmLyrtUgzHl3IR1rPpADT\n",
      "Agent is running...\n",
      "Agent output:  Let's begin playing the Mastermind game for a 4-digit number.\n",
      "\n",
      "For my first guess, I'll try to get some initial information about which digits might be in the correct number. A common strategy is to start with repeated digits, such as:\n",
      "\n",
      "Guess: 1111\n",
      "\n",
      "Please let me know the feedback: number of correct digits in wrong positions, and number of correct digits in correct positions.\n",
      "Wrong! Your guess has 0 correct digit in the correct position and 0 correct digit in the wrong position. Keep guessing.\n",
      "Agent is running...\n",
      "Agent output:  You're correct! The digit '1' is not in the secret number at all. Let's try a different guess:\n",
      "\n",
      "Guess: 2222\n",
      "\n",
      "Please provide feedback on this guess.\n",
      "Wrong! Your guess has 0 correct digit in the correct position and 0 correct digit in the wrong position. Keep guessing.\n",
      "Agent is running...\n",
      "Agent output:  Let’s try another guess with a different digit:\n",
      "\n",
      "Guess: 3456\n",
      "\n",
      "Please provide feedback on this guess.\n",
      "Wrong! Your guess has 0 correct digit in the correct position and 2 correct digits in the wrong positions. Keep guessing.\n",
      "Agent is running...\n",
      "Agent output:  The feedback from the previous guesses indicated that '3', '4', '5', and '6' do not seem to be in the correct positions, but two of these digits are correct, just in the wrong positions. Let me try a different combination:\n",
      "\n",
      "Guess: 5634\n",
      "\n",
      "Please provide feedback on this guess.\n",
      "Wrong! Your guess has 1 correct digit in the correct position and 1 correct digit in the wrong position. Keep guessing.\n",
      "Agent is running...\n",
      "Agent output:  Using the feedback from the previous guess:\n",
      "\n",
      "- One digit was in the correct position.\n",
      "- One digit was correct but was in the wrong position.\n",
      "\n",
      "Now let's try another guess:\n",
      "\n",
      "Guess: 2546\n",
      "\n",
      "Please provide feedback on this guess.\n",
      "Wrong! Your guess has 0 correct digit in the correct position and 2 correct digits in the wrong positions. Keep guessing.\n"
     ]
    }
   ],
   "source": [
    "thread = client.beta.threads.create()\n",
    "print(thread.id)\n",
    "\n",
    "# message = client.beta.threads.messages.create(\n",
    "#     thread_id=thread.id,\n",
    "#     role=\"user\",\n",
    "#     content=obs.output\n",
    "# )\n",
    "\n",
    "step_cnt = 0\n",
    "\n",
    "while not obs.success and obs.can_proceed and step_cnt < 5:\n",
    "    run = client.beta.threads.runs.create_and_poll(\n",
    "        thread_id=thread.id, assistant_id=assistant.id, instructions=obs.output\n",
    "    )\n",
    "    print(\"Agent is running...\")\n",
    "    while run.status != \"completed\":\n",
    "        pass\n",
    "    messages = client.beta.threads.messages.list(thread_id=thread.id)\n",
    "    agent_output = list(messages)[0].content[0].text.value\n",
    "    print(\"Agent output: \", agent_output)\n",
    "    obs = driver.step_raw(agent_output)\n",
    "    print(obs.output)\n",
    "    step_cnt += 1"
   ]
  },
  {
   "cell_type": "code",
   "execution_count": 13,
   "metadata": {},
   "outputs": [
    {
     "data": {
      "text/plain": [
       "{'goal': '9605',\n",
       " 'success': False,\n",
       " 'actions': [{'value': '1111'},\n",
       "  {'value': '2222'},\n",
       "  {'value': '3456'},\n",
       "  {'value': '5634'},\n",
       "  {'value': '2546'}],\n",
       " 'states': [{'value': '1111'},\n",
       "  {'value': '2222'},\n",
       "  {'value': '3456'},\n",
       "  {'value': '5634'},\n",
       "  {'value': '2546'}],\n",
       " 'observations': [{'output': 'Wrong! Your guess has 0 correct digit in the correct position and 0 correct digit in the wrong position. Keep guessing.',\n",
       "   'success': False,\n",
       "   'can_proceed': True},\n",
       "  {'output': 'Wrong! Your guess has 0 correct digit in the correct position and 0 correct digit in the wrong position. Keep guessing.',\n",
       "   'success': False,\n",
       "   'can_proceed': True},\n",
       "  {'output': 'Wrong! Your guess has 0 correct digit in the correct position and 2 correct digits in the wrong positions. Keep guessing.',\n",
       "   'success': False,\n",
       "   'can_proceed': True},\n",
       "  {'output': 'Wrong! Your guess has 1 correct digit in the correct position and 1 correct digit in the wrong position. Keep guessing.',\n",
       "   'success': False,\n",
       "   'can_proceed': True},\n",
       "  {'output': 'Wrong! Your guess has 0 correct digit in the correct position and 2 correct digits in the wrong positions. Keep guessing.',\n",
       "   'success': False,\n",
       "   'can_proceed': True}],\n",
       " 'repetition_rate': 0.0,\n",
       " 'progress': [0.0, 0.0, 0.0, 0.25, 0.0]}"
      ]
     },
     "execution_count": 13,
     "metadata": {},
     "output_type": "execute_result"
    }
   ],
   "source": [
    "driver.metrics.export(\n",
    "    repetition_function_kwargs={\"theta_a\": 1, \"num_execution_steps\": 5}\n",
    ")"
   ]
  },
  {
   "cell_type": "code",
   "execution_count": null,
   "metadata": {},
   "outputs": [],
   "source": []
  }
 ],
 "metadata": {
  "kernelspec": {
   "display_name": ".venv",
   "language": "python",
   "name": "python3"
  },
  "language_info": {
   "codemirror_mode": {
    "name": "ipython",
    "version": 3
   },
   "file_extension": ".py",
   "mimetype": "text/x-python",
   "name": "python",
   "nbconvert_exporter": "python",
   "pygments_lexer": "ipython3",
   "version": "3.12.3"
  }
 },
 "nbformat": 4,
 "nbformat_minor": 2
}
