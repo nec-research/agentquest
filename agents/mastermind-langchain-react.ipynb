{
 "cells": [
  {
   "cell_type": "markdown",
   "metadata": {},
   "source": [
    "# LangChain ReAct agent"
   ]
  },
  {
   "cell_type": "code",
   "execution_count": null,
   "metadata": {},
   "outputs": [],
   "source": [
    "# ! pip3 install openai\n",
    "# ! pip3 install langchain"
   ]
  },
  {
   "cell_type": "code",
   "execution_count": null,
   "metadata": {},
   "outputs": [
    {
     "data": {
      "text/plain": [
       "'8863'"
      ]
     },
     "execution_count": 1,
     "metadata": {},
     "output_type": "execute_result"
    }
   ],
   "source": [
    "from agentquest.benchmarks.mastermind import MasterMindDriver, MasterMindUtils\n",
    "from dotenv import load_dotenv\n",
    "\n",
    "load_dotenv()\n",
    "game = MasterMindUtils.load_data(data_path=\"__default__\", category=\"4 digits\")[4]\n",
    "game"
   ]
  },
  {
   "cell_type": "markdown",
   "metadata": {},
   "source": [
    "Initialize the mastermind driver and get the first observation"
   ]
  },
  {
   "cell_type": "code",
   "execution_count": 2,
   "metadata": {},
   "outputs": [
    {
     "name": "stdout",
     "output_type": "stream",
     "text": [
      "OBSERVATION: You are tasked to play the Mastermind game.\n",
      "The host chooses a number and gives you the amount of digits. You have to guess the correct number as fast as you can.\n",
      "The number can contain repetitions and any possible digit between: 0, 1, 2, 3, 4, 5, 6, 7, 8, 9.\n",
      "At each round, you provide a number as a guess. At each step, the host provides you this information:\n",
      "1. The number of correct digits in the wrong position.\n",
      "2. The number of correct digits in the correct position.\n",
      "The game ends when the host outputs 'You Won!'\n",
      "Carefully choose your strategy. Avoid brute force.\n",
      "The guess must be in the following format:\n",
      "Guess: <number>\n",
      "Start guessing the 4 digits number.\n"
     ]
    }
   ],
   "source": [
    "driver = MasterMindDriver(game)\n",
    "obs = driver.reset()  # Get the first observation\n",
    "print(f\"OBSERVATION: {obs.output}\")"
   ]
  },
  {
   "cell_type": "markdown",
   "metadata": {},
   "source": [
    "Initialize the prompt and the ReAct agent"
   ]
  },
  {
   "cell_type": "code",
   "execution_count": 3,
   "metadata": {},
   "outputs": [
    {
     "name": "stderr",
     "output_type": "stream",
     "text": [
      "/tmp/ipykernel_277208/568656746.py:25: LangChainDeprecationWarning: The class `AzureChatOpenAI` was deprecated in LangChain 0.0.10 and will be removed in 1.0. An updated version of the class exists in the :class:`~langchain-openai package and should be used instead. To use it run `pip install -U :class:`~langchain-openai` and import as `from :class:`~langchain_openai import AzureChatOpenAI``.\n",
      "  llm = AzureChatOpenAI(\n"
     ]
    }
   ],
   "source": [
    "from langchain.agents import create_react_agent\n",
    "from langchain.chat_models import AzureChatOpenAI\n",
    "from langchain.prompts import StringPromptTemplate\n",
    "from langchain.tools.base import BaseTool\n",
    "from typing import List\n",
    "\n",
    "prompt = (\n",
    "    obs.output\n",
    "    + \"\"\"\n",
    "Use the following tools:\n",
    "{tools}\n",
    "\n",
    "Use the following format:\n",
    "\n",
    "Thought: summarize the info in the last observation and think about what to do.\n",
    "Action: the action to take, should be one of [{tool_names}]\n",
    "Action Input: the input to the action.\n",
    "Observation: the result of the action.\n",
    "... (this Thought/Action/Action Input/Observation can repeat N times)\n",
    "Final Answer: always provide the final answer or summarise what you did. Remember the keyword 'Final Answer' before\n",
    "\n",
    "Input task: {input}\n",
    "\n",
    "{agent_scratchpad}\n",
    "\"\"\"\n",
    ")\n",
    "\n",
    "llm = AzureChatOpenAI(\n",
    "    azure_deployment=\"gpt-4-default\", api_version=\"2024-05-01-preview\"\n",
    ")\n",
    "\n",
    "\n",
    "class CustomPromptTemplate(StringPromptTemplate):\n",
    "    template: str\n",
    "    tools: List[BaseTool]\n",
    "\n",
    "    def format(self, **kwargs) -> str:\n",
    "        # Get the intermediate steps (AgentAction, Observation tuples)\n",
    "        # Format them in a particular way\n",
    "        intermediate_steps = kwargs.pop(\"intermediate_steps\")\n",
    "\n",
    "        thoughts = \"\"\n",
    "        for action, observation in intermediate_steps:\n",
    "            thoughts += action.log\n",
    "            thoughts += f\"\\nObservation: {observation}\\nThought: \"\n",
    "\n",
    "        # Set the agent_scratchpad variable to that value\n",
    "        kwargs[\"agent_scratchpad\"] = thoughts\n",
    "        # print(thoughts)\n",
    "\n",
    "        # Create a tools variable from the list of tools provided\n",
    "        kwargs[\"tools\"] = \"\\n\".join(\n",
    "            [f\"{tool.name}: {tool.description}\" for tool in self.tools]\n",
    "        )\n",
    "\n",
    "        # Create a list of tool names for the tools provided\n",
    "        kwargs[\"tool_names\"] = \", \".join([tool.name for tool in self.tools])\n",
    "\n",
    "        return self.template.format(**kwargs)\n",
    "\n",
    "\n",
    "# Define a dummy tool for closed-box environments\n",
    "class ProxyTool(BaseTool):\n",
    "    name: str = \"proxytool\"\n",
    "    description: str = \"Provide the action you want to perform\"\n",
    "\n",
    "    def _run(self):\n",
    "        pass"
   ]
  },
  {
   "cell_type": "code",
   "execution_count": 4,
   "metadata": {},
   "outputs": [],
   "source": [
    "prompt = CustomPromptTemplate(\n",
    "    template=prompt,\n",
    "    tools=[ProxyTool()],\n",
    "    input_variables=[\n",
    "        \"input\",\n",
    "        \"intermediate_steps\",\n",
    "        \"tools\",\n",
    "        \"tool_names\",\n",
    "        \"agent_scratchpad\",\n",
    "    ],\n",
    ")\n",
    "agent = create_react_agent(llm, [ProxyTool()], prompt)\n",
    "intermediate_steps = []"
   ]
  },
  {
   "cell_type": "markdown",
   "metadata": {},
   "source": [
    "Start the Agent loop solving the task"
   ]
  },
  {
   "cell_type": "code",
   "execution_count": 5,
   "metadata": {},
   "outputs": [
    {
     "name": "stdout",
     "output_type": "stream",
     "text": [
      "Guess: 1234\n",
      "Wrong! Your guess has 0 correct digit in the correct position and 1 correct digit in the wrong position. Keep guessing.\n",
      "Guess: 4321\n",
      "Wrong! Your guess has 0 correct digit in the correct position and 1 correct digit in the wrong position. Keep guessing.\n",
      "Guess: 2413\n",
      "Wrong! Your guess has 1 correct digit in the correct position and 0 correct digit in the wrong position. Keep guessing.\n",
      "Guess: 2513\n",
      "Wrong! Your guess has 1 correct digit in the correct position and 0 correct digit in the wrong position. Keep guessing.\n",
      "Guess: 2431\n",
      "Wrong! Your guess has 0 correct digit in the correct position and 1 correct digit in the wrong position. Keep guessing.\n"
     ]
    }
   ],
   "source": [
    "step_cnt = 0\n",
    "while not obs.success and obs.can_proceed and step_cnt < 5:\n",
    "    # Retrieve the agent output\n",
    "    agent_choice = agent.invoke(\n",
    "        {\"input\": obs.output, \"intermediate_steps\": intermediate_steps}\n",
    "    )\n",
    "\n",
    "    print(agent_choice.tool_input)\n",
    "    # Perform the step\n",
    "    obs = driver.step_raw(agent_choice.tool_input)\n",
    "    print(obs.output)\n",
    "    # Update intermediate steps\n",
    "    intermediate_steps.append((agent_choice, obs.output))\n",
    "\n",
    "    step_cnt += 1"
   ]
  },
  {
   "cell_type": "code",
   "execution_count": 7,
   "metadata": {},
   "outputs": [
    {
     "data": {
      "text/plain": [
       "{'goal': '8863',\n",
       " 'success': False,\n",
       " 'actions': [{'value': '1234'},\n",
       "  {'value': '4321'},\n",
       "  {'value': '2413'},\n",
       "  {'value': '2513'},\n",
       "  {'value': '2431'}],\n",
       " 'states': [{'value': '1234'},\n",
       "  {'value': '4321'},\n",
       "  {'value': '2413'},\n",
       "  {'value': '2513'},\n",
       "  {'value': '2431'}],\n",
       " 'observations': [{'output': 'Wrong! Your guess has 0 correct digit in the correct position and 1 correct digit in the wrong position. Keep guessing.',\n",
       "   'success': False,\n",
       "   'can_proceed': True},\n",
       "  {'output': 'Wrong! Your guess has 0 correct digit in the correct position and 1 correct digit in the wrong position. Keep guessing.',\n",
       "   'success': False,\n",
       "   'can_proceed': True},\n",
       "  {'output': 'Wrong! Your guess has 1 correct digit in the correct position and 0 correct digit in the wrong position. Keep guessing.',\n",
       "   'success': False,\n",
       "   'can_proceed': True},\n",
       "  {'output': 'Wrong! Your guess has 1 correct digit in the correct position and 0 correct digit in the wrong position. Keep guessing.',\n",
       "   'success': False,\n",
       "   'can_proceed': True},\n",
       "  {'output': 'Wrong! Your guess has 0 correct digit in the correct position and 1 correct digit in the wrong position. Keep guessing.',\n",
       "   'success': False,\n",
       "   'can_proceed': True}],\n",
       " 'repetition_rate': 0.0,\n",
       " 'progress': [0.0, 0.0, 0.25, 0.25, 0.0]}"
      ]
     },
     "execution_count": 7,
     "metadata": {},
     "output_type": "execute_result"
    }
   ],
   "source": [
    "driver.metrics.export(\n",
    "    repetition_function_kwargs={\"theta_a\": 1, \"num_execution_steps\": 5}\n",
    ")"
   ]
  },
  {
   "cell_type": "code",
   "execution_count": null,
   "metadata": {},
   "outputs": [],
   "source": []
  }
 ],
 "metadata": {
  "kernelspec": {
   "display_name": ".venv",
   "language": "python",
   "name": "python3"
  },
  "language_info": {
   "codemirror_mode": {
    "name": "ipython",
    "version": 3
   },
   "file_extension": ".py",
   "mimetype": "text/x-python",
   "name": "python",
   "nbconvert_exporter": "python",
   "pygments_lexer": "ipython3",
   "version": "3.10.14"
  }
 },
 "nbformat": 4,
 "nbformat_minor": 2
}
