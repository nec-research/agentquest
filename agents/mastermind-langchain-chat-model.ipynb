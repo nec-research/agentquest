{
 "cells": [
  {
   "cell_type": "markdown",
   "metadata": {},
   "source": [
    "# LangChain Simple Chat Model (Azure)"
   ]
  },
  {
   "cell_type": "code",
   "execution_count": 1,
   "metadata": {},
   "outputs": [],
   "source": [
    "# !pip install langchain\n",
    "# !pip install langchain-openai\n",
    "# !pip install openai"
   ]
  },
  {
   "cell_type": "code",
   "execution_count": 2,
   "metadata": {},
   "outputs": [
    {
     "data": {
      "text/plain": [
       "True"
      ]
     },
     "execution_count": 2,
     "metadata": {},
     "output_type": "execute_result"
    }
   ],
   "source": [
    "from dotenv import load_dotenv\n",
    "\n",
    "load_dotenv()"
   ]
  },
  {
   "cell_type": "code",
   "execution_count": 6,
   "metadata": {},
   "outputs": [
    {
     "data": {
      "text/plain": [
       "'5918'"
      ]
     },
     "execution_count": 6,
     "metadata": {},
     "output_type": "execute_result"
    }
   ],
   "source": [
    "from agentquest.benchmarks.mastermind import MasterMindDriver, MasterMindUtils\n",
    "\n",
    "game = MasterMindUtils.load_data(data_path=\"__default__\", category=\"4 digits\")[0]\n",
    "game"
   ]
  },
  {
   "cell_type": "markdown",
   "metadata": {},
   "source": [
    "Initialize the prompt and the LLM"
   ]
  },
  {
   "cell_type": "code",
   "execution_count": 3,
   "metadata": {},
   "outputs": [
    {
     "name": "stderr",
     "output_type": "stream",
     "text": [
      "/tmp/ipykernel_243859/2839392786.py:6: LangChainDeprecationWarning: The class `AzureChatOpenAI` was deprecated in LangChain 0.0.10 and will be removed in 1.0. An updated version of the class exists in the :class:`~langchain-openai package and should be used instead. To use it run `pip install -U :class:`~langchain-openai` and import as `from :class:`~langchain_openai import AzureChatOpenAI``.\n",
      "  llm = AzureChatOpenAI(\n"
     ]
    }
   ],
   "source": [
    "from langchain_openai import AzureChatOpenAI\n",
    "from langchain.prompts import ChatPromptTemplate\n",
    "\n",
    "# Initialize the LLM\n",
    "llm = AzureChatOpenAI(\n",
    "    azure_deployment=\"gpt-4-default\", api_version=\"2024-05-01-preview\"\n",
    ")"
   ]
  },
  {
   "cell_type": "markdown",
   "metadata": {},
   "source": [
    "Initialize the mastermind driver and get the first observation"
   ]
  },
  {
   "cell_type": "code",
   "execution_count": 6,
   "metadata": {},
   "outputs": [
    {
     "name": "stdout",
     "output_type": "stream",
     "text": [
      "OBSERVATION: You are tasked to play the Mastermind game.\n",
      "The host chooses a number and gives you the amount of digits. You have to guess the correct number as fast as you can.\n",
      "The number can contain repetitions and any possible digit between: 0, 1, 2, 3, 4, 5, 6, 7, 8, 9.\n",
      "At each round, you provide a number as a guess. At each step, the host provides you this information:\n",
      "1. The number of correct digits in the wrong position.\n",
      "2. The number of correct digits in the correct position.\n",
      "The game ends when the host outputs 'You Won!'\n",
      "Carefully choose your strategy. Avoid brute force.\n",
      "The guess must be in the following format:\n",
      "Guess: <number>\n",
      "Start guessing the 4 digits number.\n"
     ]
    }
   ],
   "source": [
    "driver = MasterMindDriver(game)\n",
    "obs = driver.reset()\n",
    "print(f\"OBSERVATION: {obs.output}\")\n",
    "\n",
    "# Initalize the system prompt\n",
    "chat_template = ChatPromptTemplate.from_messages([])\n",
    "messages = chat_template.format_messages()"
   ]
  },
  {
   "cell_type": "markdown",
   "metadata": {},
   "source": [
    "Start the LLM loop solving the task"
   ]
  },
  {
   "cell_type": "code",
   "execution_count": 20,
   "metadata": {},
   "outputs": [
    {
     "name": "stdout",
     "output_type": "stream",
     "text": [
      "Guess: 5917\n",
      "OBSERVATION: Wrong! Your guess has 3 correct digits in the correct positions and 0 correct digit in the wrong position. Keep guessing.\n",
      "Guess: 5918\n",
      "OBSERVATION: You Won!\n"
     ]
    }
   ],
   "source": [
    "from langchain.schema.messages import HumanMessage, AIMessage\n",
    "\n",
    "step_cnt = 0\n",
    "while not obs.success and obs.can_proceed and step_cnt < 20:\n",
    "    # Provide the observation to the LLM\n",
    "    messages.append(HumanMessage(content=obs.output))\n",
    "\n",
    "    # Get the LLM output\n",
    "    agent_output = llm(messages).content\n",
    "    print(agent_output)\n",
    "\n",
    "    # Provide the choice to the LLM as history\n",
    "    messages.append(AIMessage(content=agent_output))\n",
    "\n",
    "    obs = driver.step_raw(raw_text=agent_output)\n",
    "    print(f\"OBSERVATION: {obs.output}\")\n",
    "\n",
    "    step_cnt += 1"
   ]
  },
  {
   "cell_type": "code",
   "execution_count": 21,
   "metadata": {},
   "outputs": [
    {
     "data": {
      "text/plain": [
       "{'goal': '5918',\n",
       " 'success': True,\n",
       " 'actions': [{'value': '1234'},\n",
       "  {'value': '2345'},\n",
       "  {'value': '3456'},\n",
       "  {'value': '4567'},\n",
       "  {'value': '5678'},\n",
       "  {'value': '5670'},\n",
       "  {'value': '5679'},\n",
       "  {'value': '5698'},\n",
       "  {'value': '5869'},\n",
       "  {'value': '5986'},\n",
       "  {'value': '5896'},\n",
       "  {'value': '9685'},\n",
       "  {'value': '8569'},\n",
       "  {'value': '6598'},\n",
       "  {'value': '6958'},\n",
       "  {'value': '6985'},\n",
       "  {'value': '8956'},\n",
       "  {'value': '8596'},\n",
       "  {'value': '5968'},\n",
       "  {'value': '5969'},\n",
       "  {'value': '5960'},\n",
       "  {'value': '5961'},\n",
       "  {'value': '5619'},\n",
       "  {'value': '5916'},\n",
       "  {'value': '5917'},\n",
       "  {'value': '5918'}],\n",
       " 'states': [{'value': '1234'},\n",
       "  {'value': '2345'},\n",
       "  {'value': '3456'},\n",
       "  {'value': '4567'},\n",
       "  {'value': '5678'},\n",
       "  {'value': '5670'},\n",
       "  {'value': '5679'},\n",
       "  {'value': '5698'},\n",
       "  {'value': '5869'},\n",
       "  {'value': '5986'},\n",
       "  {'value': '5896'},\n",
       "  {'value': '9685'},\n",
       "  {'value': '8569'},\n",
       "  {'value': '6598'},\n",
       "  {'value': '6958'},\n",
       "  {'value': '6985'},\n",
       "  {'value': '8956'},\n",
       "  {'value': '8596'},\n",
       "  {'value': '5968'},\n",
       "  {'value': '5969'},\n",
       "  {'value': '5960'},\n",
       "  {'value': '5961'},\n",
       "  {'value': '5619'},\n",
       "  {'value': '5916'},\n",
       "  {'value': '5917'},\n",
       "  {'value': '5918'}],\n",
       " 'observations': [{'output': 'Wrong! Your guess has 0 correct digit in the correct position and 1 correct digit in the wrong position. Keep guessing.',\n",
       "   'success': False,\n",
       "   'can_proceed': True},\n",
       "  {'output': 'Wrong! Your guess has 0 correct digit in the correct position and 1 correct digit in the wrong position. Keep guessing.',\n",
       "   'success': False,\n",
       "   'can_proceed': True},\n",
       "  {'output': 'Wrong! Your guess has 0 correct digit in the correct position and 1 correct digit in the wrong position. Keep guessing.',\n",
       "   'success': False,\n",
       "   'can_proceed': True},\n",
       "  {'output': 'Wrong! Your guess has 0 correct digit in the correct position and 1 correct digit in the wrong position. Keep guessing.',\n",
       "   'success': False,\n",
       "   'can_proceed': True},\n",
       "  {'output': 'Wrong! Your guess has 2 correct digits in the correct positions and 0 correct digit in the wrong position. Keep guessing.',\n",
       "   'success': False,\n",
       "   'can_proceed': True},\n",
       "  {'output': 'Wrong! Your guess has 1 correct digit in the correct position and 0 correct digit in the wrong position. Keep guessing.',\n",
       "   'success': False,\n",
       "   'can_proceed': True},\n",
       "  {'output': 'Wrong! Your guess has 1 correct digit in the correct position and 1 correct digit in the wrong position. Keep guessing.',\n",
       "   'success': False,\n",
       "   'can_proceed': True},\n",
       "  {'output': 'Wrong! Your guess has 2 correct digits in the correct positions and 1 correct digit in the wrong position. Keep guessing.',\n",
       "   'success': False,\n",
       "   'can_proceed': True},\n",
       "  {'output': 'Wrong! Your guess has 1 correct digit in the correct position and 2 correct digits in the wrong positions. Keep guessing.',\n",
       "   'success': False,\n",
       "   'can_proceed': True},\n",
       "  {'output': 'Wrong! Your guess has 2 correct digits in the correct positions and 1 correct digit in the wrong position. Keep guessing.',\n",
       "   'success': False,\n",
       "   'can_proceed': True},\n",
       "  {'output': 'Wrong! Your guess has 1 correct digit in the correct position and 2 correct digits in the wrong positions. Keep guessing.',\n",
       "   'success': False,\n",
       "   'can_proceed': True},\n",
       "  {'output': 'Wrong! Your guess has 0 correct digit in the correct position and 3 correct digits in the wrong positions. Keep guessing.',\n",
       "   'success': False,\n",
       "   'can_proceed': True},\n",
       "  {'output': 'Wrong! Your guess has 0 correct digit in the correct position and 3 correct digits in the wrong positions. Keep guessing.',\n",
       "   'success': False,\n",
       "   'can_proceed': True},\n",
       "  {'output': 'Wrong! Your guess has 1 correct digit in the correct position and 2 correct digits in the wrong positions. Keep guessing.',\n",
       "   'success': False,\n",
       "   'can_proceed': True},\n",
       "  {'output': 'Wrong! Your guess has 2 correct digits in the correct positions and 1 correct digit in the wrong position. Keep guessing.',\n",
       "   'success': False,\n",
       "   'can_proceed': True},\n",
       "  {'output': 'Wrong! Your guess has 1 correct digit in the correct position and 2 correct digits in the wrong positions. Keep guessing.',\n",
       "   'success': False,\n",
       "   'can_proceed': True},\n",
       "  {'output': 'Wrong! Your guess has 1 correct digit in the correct position and 2 correct digits in the wrong positions. Keep guessing.',\n",
       "   'success': False,\n",
       "   'can_proceed': True},\n",
       "  {'output': 'Wrong! Your guess has 0 correct digit in the correct position and 3 correct digits in the wrong positions. Keep guessing.',\n",
       "   'success': False,\n",
       "   'can_proceed': True},\n",
       "  {'output': 'Wrong! Your guess has 3 correct digits in the correct positions and 0 correct digit in the wrong position. Keep guessing.',\n",
       "   'success': False,\n",
       "   'can_proceed': True},\n",
       "  {'output': 'Wrong! Your guess has 2 correct digits in the correct positions and 0 correct digit in the wrong position. Keep guessing.',\n",
       "   'success': False,\n",
       "   'can_proceed': True},\n",
       "  {'output': 'Wrong! Your guess has 2 correct digits in the correct positions and 0 correct digit in the wrong position. Keep guessing.',\n",
       "   'success': False,\n",
       "   'can_proceed': True},\n",
       "  {'output': 'Wrong! Your guess has 2 correct digits in the correct positions and 1 correct digit in the wrong position. Keep guessing.',\n",
       "   'success': False,\n",
       "   'can_proceed': True},\n",
       "  {'output': 'Wrong! Your guess has 2 correct digits in the correct positions and 1 correct digit in the wrong position. Keep guessing.',\n",
       "   'success': False,\n",
       "   'can_proceed': True},\n",
       "  {'output': 'Wrong! Your guess has 3 correct digits in the correct positions and 0 correct digit in the wrong position. Keep guessing.',\n",
       "   'success': False,\n",
       "   'can_proceed': True},\n",
       "  {'output': 'Wrong! Your guess has 3 correct digits in the correct positions and 0 correct digit in the wrong position. Keep guessing.',\n",
       "   'success': False,\n",
       "   'can_proceed': True},\n",
       "  {'output': 'You Won!', 'success': True, 'can_proceed': False}],\n",
       " 'repetition_rate': 0.0,\n",
       " 'progress': [0.0,\n",
       "  0.0,\n",
       "  0.0,\n",
       "  0.0,\n",
       "  0.5,\n",
       "  0.25,\n",
       "  0.25,\n",
       "  0.5,\n",
       "  0.25,\n",
       "  0.5,\n",
       "  0.25,\n",
       "  0.0,\n",
       "  0.0,\n",
       "  0.25,\n",
       "  0.5,\n",
       "  0.25,\n",
       "  0.25,\n",
       "  0.0,\n",
       "  0.75,\n",
       "  0.5,\n",
       "  0.5,\n",
       "  0.5,\n",
       "  0.5,\n",
       "  0.75,\n",
       "  0.75,\n",
       "  1.0]}"
      ]
     },
     "execution_count": 21,
     "metadata": {},
     "output_type": "execute_result"
    }
   ],
   "source": [
    "driver.metrics.export(\n",
    "    repetition_function_kwargs={\"theta_a\": 1, \"num_execution_steps\": 20}\n",
    ")"
   ]
  },
  {
   "cell_type": "code",
   "execution_count": null,
   "metadata": {},
   "outputs": [],
   "source": []
  }
 ],
 "metadata": {
  "kernelspec": {
   "display_name": ".venv",
   "language": "python",
   "name": "python3"
  },
  "language_info": {
   "codemirror_mode": {
    "name": "ipython",
    "version": 3
   },
   "file_extension": ".py",
   "mimetype": "text/x-python",
   "name": "python",
   "nbconvert_exporter": "python",
   "pygments_lexer": "ipython3",
   "version": "3.12.3"
  }
 },
 "nbformat": 4,
 "nbformat_minor": 2
}
