{
 "cells": [
  {
   "cell_type": "markdown",
   "metadata": {},
   "source": [
    "# OpenAI Simple Chat Model"
   ]
  },
  {
   "cell_type": "code",
   "execution_count": 2,
   "metadata": {},
   "outputs": [],
   "source": [
    "# ! pip3 install openai"
   ]
  },
  {
   "cell_type": "code",
   "execution_count": 1,
   "metadata": {},
   "outputs": [
    {
     "data": {
      "text/plain": [
       "'9439'"
      ]
     },
     "execution_count": 1,
     "metadata": {},
     "output_type": "execute_result"
    }
   ],
   "source": [
    "from agentquest.benchmarks.mastermind import MasterMindDriver, MasterMindUtils\n",
    "from dotenv import load_dotenv\n",
    "\n",
    "load_dotenv()\n",
    "game = MasterMindUtils.load_data(data_path=\"__default__\", category=\"4 digits\")[5]\n",
    "game"
   ]
  },
  {
   "cell_type": "markdown",
   "metadata": {},
   "source": [
    "Initialize the prompt and the LLM"
   ]
  },
  {
   "cell_type": "code",
   "execution_count": 4,
   "metadata": {},
   "outputs": [],
   "source": [
    "import os\n",
    "from openai import OpenAI\n",
    "\n",
    "# Initialize the LLM\n",
    "client = OpenAI(\n",
    "    api_key=os.environ.get(\"OPENAI_API_KEY\"),\n",
    ")\n",
    "\n",
    "# Initalize the system prompt\n",
    "messages = [\n",
    "    {\n",
    "        \"role\": \"system\",\n",
    "        \"content\": \"You are a Mastermind (a numbers game) playing agent.\",\n",
    "    },\n",
    "]"
   ]
  },
  {
   "cell_type": "markdown",
   "metadata": {},
   "source": [
    "Initialize the mastermind driver and get the first observation"
   ]
  },
  {
   "cell_type": "code",
   "execution_count": 5,
   "metadata": {},
   "outputs": [
    {
     "name": "stdout",
     "output_type": "stream",
     "text": [
      "OBSERVATION: You are tasked to play the Mastermind game.\n",
      "The host chooses a number and gives you the amount of digits. You have to guess the correct number as fast as you can.\n",
      "The number can contain repetitions and any possible digit between: 0, 1, 2, 3, 4, 5, 6, 7, 8, 9.\n",
      "At each round, you provide a number as a guess. At each step, the host provides you this information:\n",
      "1. The number of correct digits in the wrong position.\n",
      "2. The number of correct digits in the correct position.\n",
      "The game ends when the host outputs 'You Won!'\n",
      "Carefully choose your strategy. Avoid brute force.\n",
      "The guess must be in the following format:\n",
      "Guess: <number>\n",
      "Start guessing the 4 digits number.\n"
     ]
    }
   ],
   "source": [
    "driver = MasterMindDriver(game)\n",
    "obs = driver.reset()\n",
    "print(f\"OBSERVATION: {obs.output}\")"
   ]
  },
  {
   "cell_type": "markdown",
   "metadata": {},
   "source": [
    "Start the LLM loop solving the task"
   ]
  },
  {
   "cell_type": "code",
   "execution_count": 7,
   "metadata": {},
   "outputs": [
    {
     "name": "stdout",
     "output_type": "stream",
     "text": [
      "Guess: 3041\n",
      "Wrong! Your guess has 0 correct digit in the correct position and 2 correct digits in the wrong positions. Keep guessing.\n",
      "Guess: 1403\n",
      "Wrong! Your guess has 1 correct digit in the correct position and 1 correct digit in the wrong position. Keep guessing.\n",
      "Guess: 1430\n",
      "Wrong! Your guess has 2 correct digits in the correct positions and 0 correct digit in the wrong position. Keep guessing.\n",
      "Guess: 1432\n",
      "Wrong! Your guess has 2 correct digits in the correct positions and 0 correct digit in the wrong position. Keep guessing.\n",
      "Guess: 1435\n",
      "Wrong! Your guess has 2 correct digits in the correct positions and 0 correct digit in the wrong position. Keep guessing.\n"
     ]
    }
   ],
   "source": [
    "actions, progress, repetitions = [], [], []\n",
    "step_cnt = 0\n",
    "while not obs.success and obs.can_proceed and step_cnt < 5:\n",
    "    # Provide the observation to the LLM\n",
    "    messages.append({\"role\": \"user\", \"content\": obs.output})\n",
    "\n",
    "    # Get the LLM output\n",
    "    agent_choice = (\n",
    "        client.chat.completions.create(model=\"gpt-4\", messages=messages)\n",
    "        .choices[0]\n",
    "        .message.content\n",
    "    )\n",
    "\n",
    "    # Provide the choice to the LLM as history\n",
    "    messages.append({\"role\": \"assistant\", \"content\": agent_choice})\n",
    "    print(agent_choice)\n",
    "\n",
    "    # Run a mastermind round and get the observation\n",
    "    obs = driver.step_raw(agent_choice)\n",
    "    print(obs.output)\n",
    "\n",
    "    step_cnt += 1"
   ]
  },
  {
   "cell_type": "code",
   "execution_count": 6,
   "metadata": {},
   "outputs": [
    {
     "data": {
      "text/plain": [
       "{'goal': '9439',\n",
       " 'success': False,\n",
       " 'actions': [{'value': '1234'},\n",
       "  {'value': '1253'},\n",
       "  {'value': '3410'},\n",
       "  {'value': '4310'},\n",
       "  {'value': '341'}],\n",
       " 'states': [{'value': '1234'},\n",
       "  {'value': '1253'},\n",
       "  {'value': '3410'},\n",
       "  {'value': '4310'},\n",
       "  {'value': '341'}],\n",
       " 'observations': [{'output': 'Wrong! Your guess has 1 correct digit in the correct position and 1 correct digit in the wrong position. Keep guessing.',\n",
       "   'success': False,\n",
       "   'can_proceed': True},\n",
       "  {'output': 'Wrong! Your guess has 0 correct digit in the correct position and 1 correct digit in the wrong position. Keep guessing.',\n",
       "   'success': False,\n",
       "   'can_proceed': True},\n",
       "  {'output': 'Wrong! Your guess has 1 correct digit in the correct position and 1 correct digit in the wrong position. Keep guessing.',\n",
       "   'success': False,\n",
       "   'can_proceed': True},\n",
       "  {'output': 'Wrong! Your guess has 0 correct digit in the correct position and 2 correct digits in the wrong positions. Keep guessing.',\n",
       "   'success': False,\n",
       "   'can_proceed': True},\n",
       "  {'output': 'Wrong! Your guess has 1 correct digit in the correct position and 1 correct digit in the wrong position. Keep guessing.',\n",
       "   'success': False,\n",
       "   'can_proceed': True}],\n",
       " 'repetition_rate': 0.0,\n",
       " 'progress': [0.25, 0.0, 0.25, 0.0, 0.25]}"
      ]
     },
     "execution_count": 6,
     "metadata": {},
     "output_type": "execute_result"
    }
   ],
   "source": [
    "driver.metrics.export(\n",
    "    repetition_function_kwargs={\"theta_a\": 1, \"num_execution_steps\": 5}\n",
    ")"
   ]
  },
  {
   "cell_type": "code",
   "execution_count": null,
   "metadata": {},
   "outputs": [],
   "source": []
  }
 ],
 "metadata": {
  "kernelspec": {
   "display_name": ".venv",
   "language": "python",
   "name": "python3"
  },
  "language_info": {
   "codemirror_mode": {
    "name": "ipython",
    "version": 3
   },
   "file_extension": ".py",
   "mimetype": "text/x-python",
   "name": "python",
   "nbconvert_exporter": "python",
   "pygments_lexer": "ipython3",
   "version": "3.12.3"
  }
 },
 "nbformat": 4,
 "nbformat_minor": 2
}
