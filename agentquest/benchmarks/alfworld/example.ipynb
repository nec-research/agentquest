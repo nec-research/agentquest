{
 "cells": [
  {
   "cell_type": "markdown",
   "metadata": {},
   "source": [
    "## ALFWorld\n",
    "This example file runs the ALFWorld driver, it's metrics, reset and step functions."
   ]
  },
  {
   "cell_type": "code",
   "execution_count": 1,
   "metadata": {},
   "outputs": [],
   "source": [
    "from agentquest.benchmarks.alfworld import AlfWorldDriver, AlfWorldUtils, AlfWorldAction"
   ]
  },
  {
   "cell_type": "code",
   "execution_count": 2,
   "metadata": {},
   "outputs": [
    {
     "name": "stdout",
     "output_type": "stream",
     "text": [
      "34\n",
      "/home/bgautam/.cache/alfworld/json_2.1.1/valid_seen/pick_heat_then_place_in_recep-Mug-None-Cabinet-3/trial_T20190909_014639_335717\n"
     ]
    }
   ],
   "source": [
    "sources = [\"train\", \"valid_seen\", \"valid_unseen\", \"valid_train\", \"all\"]\n",
    "categories = [\n",
    "    \"pick_and_place\",\n",
    "    \"look_at_obj_in_light\",\n",
    "    \"pick_clean_then_place\",\n",
    "    \"pick_heat_then_place\",\n",
    "    \"pick_cool_then_place\",\n",
    "    \"pick_two_obj_and_place\",\n",
    "    \"all\",\n",
    "]\n",
    "data = AlfWorldUtils.load_data(category=\"pick_heat_then_place\", source=\"valid_seen\")\n",
    "print(len(data))\n",
    "print(data[5])"
   ]
  },
  {
   "cell_type": "code",
   "execution_count": 3,
   "metadata": {},
   "outputs": [
    {
     "name": "stdout",
     "output_type": "stream",
     "text": [
      "2025-01-15 10:55 - INFO - Playing /home/bgautam/.cache/alfworld/json_2.1.1/valid_seen/pick_heat_then_place_in_recep-Potato-None-Fridge-12/trial_T20190908_014451_271080\n",
      "-= Welcome to TextWorld, ALFRED! =-\n",
      "\n",
      "You are in the middle of a room. Looking quickly around you, you see a cabinet 19, a cabinet 18, a cabinet 17, a cabinet 16, a cabinet 15, a cabinet 14, a cabinet 13, a cabinet 12, a cabinet 11, a cabinet 10, a cabinet 9, a cabinet 8, a cabinet 7, a cabinet 6, a cabinet 5, a cabinet 4, a cabinet 3, a cabinet 2, a cabinet 1, a coffeemachine 1, a countertop 3, a countertop 2, a countertop 1, a drawer 4, a drawer 3, a drawer 2, a drawer 1, a fridge 1, a garbagecan 1, a microwave 1, a sinkbasin 1, a stoveburner 4, a stoveburner 3, a stoveburner 2, a stoveburner 1, and a toaster 1.\n",
      "\n",
      "Your task is to: heat some potato and put it in fridge.\n",
      "Admissible commands:\n",
      "['go to cabinet 1', 'go to cabinet 10', 'go to cabinet 11', 'go to cabinet 12', 'go to cabinet 13', 'go to cabinet 14', 'go to cabinet 15', 'go to cabinet 16', 'go to cabinet 17', 'go to cabinet 18', 'go to cabinet 19', 'go to cabinet 2', 'go to cabinet 3', 'go to cabinet 4', 'go to cabinet 5', 'go to cabinet 6', 'go to cabinet 7', 'go to cabinet 8', 'go to cabinet 9', 'go to coffeemachine 1', 'go to countertop 1', 'go to countertop 2', 'go to countertop 3', 'go to drawer 1', 'go to drawer 2', 'go to drawer 3', 'go to drawer 4', 'go to fridge 1', 'go to garbagecan 1', 'go to microwave 1', 'go to sinkbasin 1', 'go to stoveburner 1', 'go to stoveburner 2', 'go to stoveburner 3', 'go to stoveburner 4', 'go to toaster 1', 'inventory', 'look']\n",
      "Your response should be in format: 'Action: <action_command>'\n"
     ]
    }
   ],
   "source": [
    "driver = AlfWorldDriver(problem=data[0])\n",
    "obs = driver.reset()\n",
    "# If you encounter KeyError: 'val1' error for some problem files, it means the game is unsolvable or PDDL problem is ill-defined.\n",
    "# Skip the problem file and move forward to next file.\n",
    "print(obs.output)"
   ]
  },
  {
   "cell_type": "code",
   "execution_count": 4,
   "metadata": {},
   "outputs": [
    {
     "data": {
      "text/plain": [
       "['go to fridge 1',\n",
       " 'open fridge 1',\n",
       " 'take potato 2 from fridge 1',\n",
       " 'go to microwave 1',\n",
       " 'heat potato 2 with microwave 1',\n",
       " 'go to fridge 1',\n",
       " 'put potato 2 in/on fridge 1']"
      ]
     },
     "execution_count": 4,
     "metadata": {},
     "output_type": "execute_result"
    }
   ],
   "source": [
    "driver.metrics.milestones"
   ]
  },
  {
   "cell_type": "code",
   "execution_count": 5,
   "metadata": {},
   "outputs": [
    {
     "name": "stdout",
     "output_type": "stream",
     "text": [
      "You arrive at loc 40. The fridge 1 is closed.\n",
      "Admissible commands:\n",
      "['examine fridge 1', 'go to cabinet 1', 'go to cabinet 10', 'go to cabinet 11', 'go to cabinet 12', 'go to cabinet 13', 'go to cabinet 14', 'go to cabinet 15', 'go to cabinet 16', 'go to cabinet 17', 'go to cabinet 18', 'go to cabinet 19', 'go to cabinet 2', 'go to cabinet 3', 'go to cabinet 4', 'go to cabinet 5', 'go to cabinet 6', 'go to cabinet 7', 'go to cabinet 8', 'go to cabinet 9', 'go to coffeemachine 1', 'go to countertop 1', 'go to countertop 2', 'go to countertop 3', 'go to drawer 1', 'go to drawer 2', 'go to drawer 3', 'go to drawer 4', 'go to garbagecan 1', 'go to microwave 1', 'go to sinkbasin 1', 'go to stoveburner 1', 'go to stoveburner 2', 'go to stoveburner 3', 'go to stoveburner 4', 'go to toaster 1', 'inventory', 'look', 'open fridge 1']\n",
      "Your response should be in format: 'Action: <action_command>'\n"
     ]
    }
   ],
   "source": [
    "obs = driver.step(AlfWorldAction(value=\"go to fridge 1\"))\n",
    "print(obs.output)"
   ]
  },
  {
   "cell_type": "code",
   "execution_count": 6,
   "metadata": {},
   "outputs": [
    {
     "name": "stdout",
     "output_type": "stream",
     "text": [
      "You open the fridge 1. The fridge 1 is open. In it, you see a apple 3, a apple 2, a bowl 3, a bread 1, and a potato 2.\n",
      "Admissible commands:\n",
      "['close fridge 1', 'examine fridge 1', 'go to cabinet 1', 'go to cabinet 10', 'go to cabinet 11', 'go to cabinet 12', 'go to cabinet 13', 'go to cabinet 14', 'go to cabinet 15', 'go to cabinet 16', 'go to cabinet 17', 'go to cabinet 18', 'go to cabinet 19', 'go to cabinet 2', 'go to cabinet 3', 'go to cabinet 4', 'go to cabinet 5', 'go to cabinet 6', 'go to cabinet 7', 'go to cabinet 8', 'go to cabinet 9', 'go to coffeemachine 1', 'go to countertop 1', 'go to countertop 2', 'go to countertop 3', 'go to drawer 1', 'go to drawer 2', 'go to drawer 3', 'go to drawer 4', 'go to garbagecan 1', 'go to microwave 1', 'go to sinkbasin 1', 'go to stoveburner 1', 'go to stoveburner 2', 'go to stoveburner 3', 'go to stoveburner 4', 'go to toaster 1', 'inventory', 'look', 'take apple 2 from fridge 1', 'take apple 3 from fridge 1', 'take bowl 3 from fridge 1', 'take bread 1 from fridge 1', 'take potato 2 from fridge 1']\n",
      "Your response should be in format: 'Action: <action_command>'\n"
     ]
    }
   ],
   "source": [
    "obs = driver.step(AlfWorldAction(value=\"open fridge 1\"))\n",
    "print(obs.output)"
   ]
  },
  {
   "cell_type": "code",
   "execution_count": 7,
   "metadata": {},
   "outputs": [
    {
     "name": "stdout",
     "output_type": "stream",
     "text": [
      "You pick up the potato 2 from the fridge 1.\n",
      "Admissible commands:\n",
      "['close fridge 1', 'cool potato 2 with fridge 1', 'examine fridge 1', 'examine potato 2', 'go to cabinet 1', 'go to cabinet 10', 'go to cabinet 11', 'go to cabinet 12', 'go to cabinet 13', 'go to cabinet 14', 'go to cabinet 15', 'go to cabinet 16', 'go to cabinet 17', 'go to cabinet 18', 'go to cabinet 19', 'go to cabinet 2', 'go to cabinet 3', 'go to cabinet 4', 'go to cabinet 5', 'go to cabinet 6', 'go to cabinet 7', 'go to cabinet 8', 'go to cabinet 9', 'go to coffeemachine 1', 'go to countertop 1', 'go to countertop 2', 'go to countertop 3', 'go to drawer 1', 'go to drawer 2', 'go to drawer 3', 'go to drawer 4', 'go to garbagecan 1', 'go to microwave 1', 'go to sinkbasin 1', 'go to stoveburner 1', 'go to stoveburner 2', 'go to stoveburner 3', 'go to stoveburner 4', 'go to toaster 1', 'inventory', 'look', 'put potato 2 in/on fridge 1']\n",
      "Your response should be in format: 'Action: <action_command>'\n"
     ]
    }
   ],
   "source": [
    "obs = driver.step(AlfWorldAction(value=\"take potato 2 from fridge 1\"))\n",
    "print(obs.output)"
   ]
  },
  {
   "cell_type": "code",
   "execution_count": 8,
   "metadata": {},
   "outputs": [
    {
     "name": "stdout",
     "output_type": "stream",
     "text": [
      "2025-01-15 10:55 - WARNING - Exception encountered: Could not parse agent output. Make sure it is in the format: `Action: <action_command>`\n",
      "Could not parse agent output. Make sure it is in the format: `Action: <action_command>`\n"
     ]
    }
   ],
   "source": [
    "obs = driver.step_raw(\"go to microwave 2\")\n",
    "print(obs.output)"
   ]
  },
  {
   "cell_type": "code",
   "execution_count": 9,
   "metadata": {},
   "outputs": [
    {
     "name": "stdout",
     "output_type": "stream",
     "text": [
      "You arrive at loc 14. The microwave 1 is closed.\n",
      "Admissible commands:\n",
      "['examine microwave 1', 'examine potato 2', 'go to cabinet 1', 'go to cabinet 10', 'go to cabinet 11', 'go to cabinet 12', 'go to cabinet 13', 'go to cabinet 14', 'go to cabinet 15', 'go to cabinet 16', 'go to cabinet 17', 'go to cabinet 18', 'go to cabinet 19', 'go to cabinet 2', 'go to cabinet 3', 'go to cabinet 4', 'go to cabinet 5', 'go to cabinet 6', 'go to cabinet 7', 'go to cabinet 8', 'go to cabinet 9', 'go to coffeemachine 1', 'go to countertop 1', 'go to countertop 2', 'go to countertop 3', 'go to drawer 1', 'go to drawer 2', 'go to drawer 3', 'go to drawer 4', 'go to fridge 1', 'go to garbagecan 1', 'go to sinkbasin 1', 'go to stoveburner 1', 'go to stoveburner 2', 'go to stoveburner 3', 'go to stoveburner 4', 'go to toaster 1', 'heat potato 2 with microwave 1', 'inventory', 'look', 'open microwave 1']\n",
      "Your response should be in format: 'Action: <action_command>'\n"
     ]
    }
   ],
   "source": [
    "obs = driver.step_raw(\"This is our action common Action: go to microwave 1\")\n",
    "print(obs.output)"
   ]
  },
  {
   "cell_type": "code",
   "execution_count": 10,
   "metadata": {},
   "outputs": [
    {
     "name": "stdout",
     "output_type": "stream",
     "text": [
      "2025-01-15 10:55 - WARNING - Exception encountered: Could not parse agent output. Make sure it is in the format: `Action: <action_command>`\n",
      "Could not parse agent output. Make sure it is in the format: `Action: <action_command>`\n"
     ]
    }
   ],
   "source": [
    "obs = driver.step_raw(\"This is our action common Actiond: Invalid action on the way\")\n",
    "print(obs.output)"
   ]
  },
  {
   "cell_type": "code",
   "execution_count": 11,
   "metadata": {},
   "outputs": [
    {
     "name": "stdout",
     "output_type": "stream",
     "text": [
      "You heat the potato 2 using the microwave 1.\n",
      "Admissible commands:\n",
      "['examine microwave 1', 'examine potato 2', 'go to cabinet 1', 'go to cabinet 10', 'go to cabinet 11', 'go to cabinet 12', 'go to cabinet 13', 'go to cabinet 14', 'go to cabinet 15', 'go to cabinet 16', 'go to cabinet 17', 'go to cabinet 18', 'go to cabinet 19', 'go to cabinet 2', 'go to cabinet 3', 'go to cabinet 4', 'go to cabinet 5', 'go to cabinet 6', 'go to cabinet 7', 'go to cabinet 8', 'go to cabinet 9', 'go to coffeemachine 1', 'go to countertop 1', 'go to countertop 2', 'go to countertop 3', 'go to drawer 1', 'go to drawer 2', 'go to drawer 3', 'go to drawer 4', 'go to fridge 1', 'go to garbagecan 1', 'go to sinkbasin 1', 'go to stoveburner 1', 'go to stoveburner 2', 'go to stoveburner 3', 'go to stoveburner 4', 'go to toaster 1', 'heat potato 2 with microwave 1', 'inventory', 'look', 'open microwave 1']\n",
      "Your response should be in format: 'Action: <action_command>'\n"
     ]
    }
   ],
   "source": [
    "obs = driver.step(AlfWorldAction(value=\"heat potato 2 with microwave 1\"))\n",
    "print(obs.output)"
   ]
  },
  {
   "cell_type": "code",
   "execution_count": 12,
   "metadata": {},
   "outputs": [
    {
     "name": "stdout",
     "output_type": "stream",
     "text": [
      "You are facing the microwave 1. Next to it, you see nothing.\n",
      "Admissible commands:\n",
      "['examine microwave 1', 'examine potato 2', 'go to cabinet 1', 'go to cabinet 10', 'go to cabinet 11', 'go to cabinet 12', 'go to cabinet 13', 'go to cabinet 14', 'go to cabinet 15', 'go to cabinet 16', 'go to cabinet 17', 'go to cabinet 18', 'go to cabinet 19', 'go to cabinet 2', 'go to cabinet 3', 'go to cabinet 4', 'go to cabinet 5', 'go to cabinet 6', 'go to cabinet 7', 'go to cabinet 8', 'go to cabinet 9', 'go to coffeemachine 1', 'go to countertop 1', 'go to countertop 2', 'go to countertop 3', 'go to drawer 1', 'go to drawer 2', 'go to drawer 3', 'go to drawer 4', 'go to fridge 1', 'go to garbagecan 1', 'go to sinkbasin 1', 'go to stoveburner 1', 'go to stoveburner 2', 'go to stoveburner 3', 'go to stoveburner 4', 'go to toaster 1', 'heat potato 2 with microwave 1', 'inventory', 'look', 'open microwave 1']\n",
      "Your response should be in format: 'Action: <action_command>'\n"
     ]
    }
   ],
   "source": [
    "obs = driver.step(AlfWorldAction(value=\"look\"))\n",
    "print(obs.output)"
   ]
  },
  {
   "cell_type": "code",
   "execution_count": 13,
   "metadata": {},
   "outputs": [
    {
     "name": "stdout",
     "output_type": "stream",
     "text": [
      "You arrive at loc 40. The fridge 1 is open. In it, you see a apple 3, a apple 2, a bowl 3, and a bread 1.\n",
      "Admissible commands:\n",
      "['close fridge 1', 'cool potato 2 with fridge 1', 'examine fridge 1', 'examine potato 2', 'go to cabinet 1', 'go to cabinet 10', 'go to cabinet 11', 'go to cabinet 12', 'go to cabinet 13', 'go to cabinet 14', 'go to cabinet 15', 'go to cabinet 16', 'go to cabinet 17', 'go to cabinet 18', 'go to cabinet 19', 'go to cabinet 2', 'go to cabinet 3', 'go to cabinet 4', 'go to cabinet 5', 'go to cabinet 6', 'go to cabinet 7', 'go to cabinet 8', 'go to cabinet 9', 'go to coffeemachine 1', 'go to countertop 1', 'go to countertop 2', 'go to countertop 3', 'go to drawer 1', 'go to drawer 2', 'go to drawer 3', 'go to drawer 4', 'go to garbagecan 1', 'go to microwave 1', 'go to sinkbasin 1', 'go to stoveburner 1', 'go to stoveburner 2', 'go to stoveburner 3', 'go to stoveburner 4', 'go to toaster 1', 'inventory', 'look', 'put potato 2 in/on fridge 1']\n",
      "Your response should be in format: 'Action: <action_command>'\n"
     ]
    }
   ],
   "source": [
    "obs = driver.step(AlfWorldAction(value=\"go to fridge 1\"))\n",
    "\n",
    "print(obs.output)"
   ]
  },
  {
   "cell_type": "code",
   "execution_count": 14,
   "metadata": {},
   "outputs": [
    {
     "name": "stdout",
     "output_type": "stream",
     "text": [
      "You Won!!!\n",
      "You put the potato 2 in/on the fridge 1.\n"
     ]
    }
   ],
   "source": [
    "obs = driver.step(AlfWorldAction(value=\"go to countertop 1\"))\n",
    "obs = driver.step(AlfWorldAction(value=\"put potato 2 in/on countertop 1\"))\n",
    "obs = driver.step(AlfWorldAction(value=\"take potato 2 from countertop 1\"))\n",
    "\n",
    "obs = driver.step(AlfWorldAction(value=\"go to fridge 1\"))\n",
    "obs = driver.step(AlfWorldAction(value=\"put potato 2 in/on fridge 1\"))\n",
    "print(obs.output)"
   ]
  },
  {
   "cell_type": "code",
   "execution_count": 20,
   "metadata": {},
   "outputs": [
    {
     "name": "stdout",
     "output_type": "stream",
     "text": [
      "['go to fridge 1', 'open fridge 1', 'take potato 2 from fridge 1', 'go to microwave 1', 'heat potato 2 with microwave 1', 'look', 'go to fridge 1', 'go to countertop 1', 'put potato 2 in/on countertop 1', 'take potato 2 from countertop 1', 'go to fridge 1', 'put potato 2 in/on fridge 1']\n"
     ]
    }
   ],
   "source": [
    "print([act.value for act, _, _ in driver.metrics.interactions])"
   ]
  },
  {
   "cell_type": "code",
   "execution_count": 16,
   "metadata": {},
   "outputs": [
    {
     "data": {
      "text/plain": [
       "True"
      ]
     },
     "execution_count": 16,
     "metadata": {},
     "output_type": "execute_result"
    }
   ],
   "source": [
    "driver.metrics.success"
   ]
  },
  {
   "cell_type": "code",
   "execution_count": 17,
   "metadata": {},
   "outputs": [
    {
     "data": {
      "text/plain": [
       "{'goal': 'heat some potato and put it in fridge',\n",
       " 'success': True,\n",
       " 'actions': [{'value': 'go to fridge 1'},\n",
       "  {'value': 'open fridge 1'},\n",
       "  {'value': 'take potato 2 from fridge 1'},\n",
       "  {'value': 'go to microwave 1'},\n",
       "  {'value': 'heat potato 2 with microwave 1'},\n",
       "  {'value': 'look'},\n",
       "  {'value': 'go to fridge 1'},\n",
       "  {'value': 'go to countertop 1'},\n",
       "  {'value': 'put potato 2 in/on countertop 1'},\n",
       "  {'value': 'take potato 2 from countertop 1'},\n",
       "  {'value': 'go to fridge 1'},\n",
       "  {'value': 'put potato 2 in/on fridge 1'}],\n",
       " 'states': [{'value': 'go to fridge 1',\n",
       "   'policy_commands': ['open fridge 1',\n",
       "    'take potato 2 from fridge 1',\n",
       "    'go to microwave 1',\n",
       "    'heat potato 2 with microwave 1',\n",
       "    'go to fridge 1',\n",
       "    'put potato 2 in/on fridge 1']},\n",
       "  {'value': 'open fridge 1',\n",
       "   'policy_commands': ['take potato 2 from fridge 1',\n",
       "    'go to microwave 1',\n",
       "    'heat potato 2 with microwave 1',\n",
       "    'go to fridge 1',\n",
       "    'put potato 2 in/on fridge 1']},\n",
       "  {'value': 'take potato 2 from fridge 1',\n",
       "   'policy_commands': ['go to microwave 1',\n",
       "    'heat potato 2 with microwave 1',\n",
       "    'go to fridge 1',\n",
       "    'put potato 2 in/on fridge 1']},\n",
       "  {'value': 'go to microwave 1',\n",
       "   'policy_commands': ['heat potato 2 with microwave 1',\n",
       "    'go to fridge 1',\n",
       "    'put potato 2 in/on fridge 1']},\n",
       "  {'value': 'heat potato 2 with microwave 1',\n",
       "   'policy_commands': ['go to fridge 1', 'put potato 2 in/on fridge 1']},\n",
       "  {'value': 'look',\n",
       "   'policy_commands': ['go to fridge 1', 'put potato 2 in/on fridge 1']},\n",
       "  {'value': 'go to fridge 1',\n",
       "   'policy_commands': ['put potato 2 in/on fridge 1']},\n",
       "  {'value': 'go to countertop 1',\n",
       "   'policy_commands': ['go to fridge 1', 'put potato 2 in/on fridge 1']},\n",
       "  {'value': 'put potato 2 in/on countertop 1',\n",
       "   'policy_commands': ['take potato 2 from countertop 1',\n",
       "    'go to fridge 1',\n",
       "    'put potato 2 in/on fridge 1']},\n",
       "  {'value': 'take potato 2 from countertop 1',\n",
       "   'policy_commands': ['go to fridge 1', 'put potato 2 in/on fridge 1']},\n",
       "  {'value': 'go to fridge 1',\n",
       "   'policy_commands': ['put potato 2 in/on fridge 1']},\n",
       "  {'value': 'put potato 2 in/on fridge 1', 'policy_commands': []}],\n",
       " 'observations': [{'output': \"You arrive at loc 40. The fridge 1 is closed.\\nAdmissible commands:\\n['examine fridge 1', 'go to cabinet 1', 'go to cabinet 10', 'go to cabinet 11', 'go to cabinet 12', 'go to cabinet 13', 'go to cabinet 14', 'go to cabinet 15', 'go to cabinet 16', 'go to cabinet 17', 'go to cabinet 18', 'go to cabinet 19', 'go to cabinet 2', 'go to cabinet 3', 'go to cabinet 4', 'go to cabinet 5', 'go to cabinet 6', 'go to cabinet 7', 'go to cabinet 8', 'go to cabinet 9', 'go to coffeemachine 1', 'go to countertop 1', 'go to countertop 2', 'go to countertop 3', 'go to drawer 1', 'go to drawer 2', 'go to drawer 3', 'go to drawer 4', 'go to garbagecan 1', 'go to microwave 1', 'go to sinkbasin 1', 'go to stoveburner 1', 'go to stoveburner 2', 'go to stoveburner 3', 'go to stoveburner 4', 'go to toaster 1', 'inventory', 'look', 'open fridge 1']\\nYour response should be in format: 'Action: <action_command>'\",\n",
       "   'success': False,\n",
       "   'can_proceed': True},\n",
       "  {'output': \"You open the fridge 1. The fridge 1 is open. In it, you see a apple 3, a apple 2, a bowl 3, a bread 1, and a potato 2.\\nAdmissible commands:\\n['close fridge 1', 'examine fridge 1', 'go to cabinet 1', 'go to cabinet 10', 'go to cabinet 11', 'go to cabinet 12', 'go to cabinet 13', 'go to cabinet 14', 'go to cabinet 15', 'go to cabinet 16', 'go to cabinet 17', 'go to cabinet 18', 'go to cabinet 19', 'go to cabinet 2', 'go to cabinet 3', 'go to cabinet 4', 'go to cabinet 5', 'go to cabinet 6', 'go to cabinet 7', 'go to cabinet 8', 'go to cabinet 9', 'go to coffeemachine 1', 'go to countertop 1', 'go to countertop 2', 'go to countertop 3', 'go to drawer 1', 'go to drawer 2', 'go to drawer 3', 'go to drawer 4', 'go to garbagecan 1', 'go to microwave 1', 'go to sinkbasin 1', 'go to stoveburner 1', 'go to stoveburner 2', 'go to stoveburner 3', 'go to stoveburner 4', 'go to toaster 1', 'inventory', 'look', 'take apple 2 from fridge 1', 'take apple 3 from fridge 1', 'take bowl 3 from fridge 1', 'take bread 1 from fridge 1', 'take potato 2 from fridge 1']\\nYour response should be in format: 'Action: <action_command>'\",\n",
       "   'success': False,\n",
       "   'can_proceed': True},\n",
       "  {'output': \"You pick up the potato 2 from the fridge 1.\\nAdmissible commands:\\n['close fridge 1', 'cool potato 2 with fridge 1', 'examine fridge 1', 'examine potato 2', 'go to cabinet 1', 'go to cabinet 10', 'go to cabinet 11', 'go to cabinet 12', 'go to cabinet 13', 'go to cabinet 14', 'go to cabinet 15', 'go to cabinet 16', 'go to cabinet 17', 'go to cabinet 18', 'go to cabinet 19', 'go to cabinet 2', 'go to cabinet 3', 'go to cabinet 4', 'go to cabinet 5', 'go to cabinet 6', 'go to cabinet 7', 'go to cabinet 8', 'go to cabinet 9', 'go to coffeemachine 1', 'go to countertop 1', 'go to countertop 2', 'go to countertop 3', 'go to drawer 1', 'go to drawer 2', 'go to drawer 3', 'go to drawer 4', 'go to garbagecan 1', 'go to microwave 1', 'go to sinkbasin 1', 'go to stoveburner 1', 'go to stoveburner 2', 'go to stoveburner 3', 'go to stoveburner 4', 'go to toaster 1', 'inventory', 'look', 'put potato 2 in/on fridge 1']\\nYour response should be in format: 'Action: <action_command>'\",\n",
       "   'success': False,\n",
       "   'can_proceed': True},\n",
       "  {'output': \"You arrive at loc 14. The microwave 1 is closed.\\nAdmissible commands:\\n['examine microwave 1', 'examine potato 2', 'go to cabinet 1', 'go to cabinet 10', 'go to cabinet 11', 'go to cabinet 12', 'go to cabinet 13', 'go to cabinet 14', 'go to cabinet 15', 'go to cabinet 16', 'go to cabinet 17', 'go to cabinet 18', 'go to cabinet 19', 'go to cabinet 2', 'go to cabinet 3', 'go to cabinet 4', 'go to cabinet 5', 'go to cabinet 6', 'go to cabinet 7', 'go to cabinet 8', 'go to cabinet 9', 'go to coffeemachine 1', 'go to countertop 1', 'go to countertop 2', 'go to countertop 3', 'go to drawer 1', 'go to drawer 2', 'go to drawer 3', 'go to drawer 4', 'go to fridge 1', 'go to garbagecan 1', 'go to sinkbasin 1', 'go to stoveburner 1', 'go to stoveburner 2', 'go to stoveburner 3', 'go to stoveburner 4', 'go to toaster 1', 'heat potato 2 with microwave 1', 'inventory', 'look', 'open microwave 1']\\nYour response should be in format: 'Action: <action_command>'\",\n",
       "   'success': False,\n",
       "   'can_proceed': True},\n",
       "  {'output': \"You heat the potato 2 using the microwave 1.\\nAdmissible commands:\\n['examine microwave 1', 'examine potato 2', 'go to cabinet 1', 'go to cabinet 10', 'go to cabinet 11', 'go to cabinet 12', 'go to cabinet 13', 'go to cabinet 14', 'go to cabinet 15', 'go to cabinet 16', 'go to cabinet 17', 'go to cabinet 18', 'go to cabinet 19', 'go to cabinet 2', 'go to cabinet 3', 'go to cabinet 4', 'go to cabinet 5', 'go to cabinet 6', 'go to cabinet 7', 'go to cabinet 8', 'go to cabinet 9', 'go to coffeemachine 1', 'go to countertop 1', 'go to countertop 2', 'go to countertop 3', 'go to drawer 1', 'go to drawer 2', 'go to drawer 3', 'go to drawer 4', 'go to fridge 1', 'go to garbagecan 1', 'go to sinkbasin 1', 'go to stoveburner 1', 'go to stoveburner 2', 'go to stoveburner 3', 'go to stoveburner 4', 'go to toaster 1', 'heat potato 2 with microwave 1', 'inventory', 'look', 'open microwave 1']\\nYour response should be in format: 'Action: <action_command>'\",\n",
       "   'success': False,\n",
       "   'can_proceed': True},\n",
       "  {'output': \"You are facing the microwave 1. Next to it, you see nothing.\\nAdmissible commands:\\n['examine microwave 1', 'examine potato 2', 'go to cabinet 1', 'go to cabinet 10', 'go to cabinet 11', 'go to cabinet 12', 'go to cabinet 13', 'go to cabinet 14', 'go to cabinet 15', 'go to cabinet 16', 'go to cabinet 17', 'go to cabinet 18', 'go to cabinet 19', 'go to cabinet 2', 'go to cabinet 3', 'go to cabinet 4', 'go to cabinet 5', 'go to cabinet 6', 'go to cabinet 7', 'go to cabinet 8', 'go to cabinet 9', 'go to coffeemachine 1', 'go to countertop 1', 'go to countertop 2', 'go to countertop 3', 'go to drawer 1', 'go to drawer 2', 'go to drawer 3', 'go to drawer 4', 'go to fridge 1', 'go to garbagecan 1', 'go to sinkbasin 1', 'go to stoveburner 1', 'go to stoveburner 2', 'go to stoveburner 3', 'go to stoveburner 4', 'go to toaster 1', 'heat potato 2 with microwave 1', 'inventory', 'look', 'open microwave 1']\\nYour response should be in format: 'Action: <action_command>'\",\n",
       "   'success': False,\n",
       "   'can_proceed': True},\n",
       "  {'output': \"You arrive at loc 40. The fridge 1 is open. In it, you see a apple 3, a apple 2, a bowl 3, and a bread 1.\\nAdmissible commands:\\n['close fridge 1', 'cool potato 2 with fridge 1', 'examine fridge 1', 'examine potato 2', 'go to cabinet 1', 'go to cabinet 10', 'go to cabinet 11', 'go to cabinet 12', 'go to cabinet 13', 'go to cabinet 14', 'go to cabinet 15', 'go to cabinet 16', 'go to cabinet 17', 'go to cabinet 18', 'go to cabinet 19', 'go to cabinet 2', 'go to cabinet 3', 'go to cabinet 4', 'go to cabinet 5', 'go to cabinet 6', 'go to cabinet 7', 'go to cabinet 8', 'go to cabinet 9', 'go to coffeemachine 1', 'go to countertop 1', 'go to countertop 2', 'go to countertop 3', 'go to drawer 1', 'go to drawer 2', 'go to drawer 3', 'go to drawer 4', 'go to garbagecan 1', 'go to microwave 1', 'go to sinkbasin 1', 'go to stoveburner 1', 'go to stoveburner 2', 'go to stoveburner 3', 'go to stoveburner 4', 'go to toaster 1', 'inventory', 'look', 'put potato 2 in/on fridge 1']\\nYour response should be in format: 'Action: <action_command>'\",\n",
       "   'success': False,\n",
       "   'can_proceed': True},\n",
       "  {'output': \"You arrive at loc 16. On the countertop 1, you see a egg 2, a mug 1, a peppershaker 1, and a potato 1.\\nAdmissible commands:\\n['examine countertop 1', 'examine potato 2', 'go to cabinet 1', 'go to cabinet 10', 'go to cabinet 11', 'go to cabinet 12', 'go to cabinet 13', 'go to cabinet 14', 'go to cabinet 15', 'go to cabinet 16', 'go to cabinet 17', 'go to cabinet 18', 'go to cabinet 19', 'go to cabinet 2', 'go to cabinet 3', 'go to cabinet 4', 'go to cabinet 5', 'go to cabinet 6', 'go to cabinet 7', 'go to cabinet 8', 'go to cabinet 9', 'go to coffeemachine 1', 'go to countertop 2', 'go to countertop 3', 'go to drawer 1', 'go to drawer 2', 'go to drawer 3', 'go to drawer 4', 'go to fridge 1', 'go to garbagecan 1', 'go to microwave 1', 'go to sinkbasin 1', 'go to stoveburner 1', 'go to stoveburner 2', 'go to stoveburner 3', 'go to stoveburner 4', 'go to toaster 1', 'inventory', 'look', 'put potato 2 in/on countertop 1']\\nYour response should be in format: 'Action: <action_command>'\",\n",
       "   'success': False,\n",
       "   'can_proceed': True},\n",
       "  {'output': \"You put the potato 2 in/on the countertop 1.\\nAdmissible commands:\\n['examine countertop 1', 'go to cabinet 1', 'go to cabinet 10', 'go to cabinet 11', 'go to cabinet 12', 'go to cabinet 13', 'go to cabinet 14', 'go to cabinet 15', 'go to cabinet 16', 'go to cabinet 17', 'go to cabinet 18', 'go to cabinet 19', 'go to cabinet 2', 'go to cabinet 3', 'go to cabinet 4', 'go to cabinet 5', 'go to cabinet 6', 'go to cabinet 7', 'go to cabinet 8', 'go to cabinet 9', 'go to coffeemachine 1', 'go to countertop 2', 'go to countertop 3', 'go to drawer 1', 'go to drawer 2', 'go to drawer 3', 'go to drawer 4', 'go to fridge 1', 'go to garbagecan 1', 'go to microwave 1', 'go to sinkbasin 1', 'go to stoveburner 1', 'go to stoveburner 2', 'go to stoveburner 3', 'go to stoveburner 4', 'go to toaster 1', 'inventory', 'look', 'take egg 2 from countertop 1', 'take mug 1 from countertop 1', 'take peppershaker 1 from countertop 1', 'take potato 1 from countertop 1', 'take potato 2 from countertop 1']\\nYour response should be in format: 'Action: <action_command>'\",\n",
       "   'success': False,\n",
       "   'can_proceed': True},\n",
       "  {'output': \"You pick up the potato 2 from the countertop 1.\\nAdmissible commands:\\n['examine countertop 1', 'examine potato 2', 'go to cabinet 1', 'go to cabinet 10', 'go to cabinet 11', 'go to cabinet 12', 'go to cabinet 13', 'go to cabinet 14', 'go to cabinet 15', 'go to cabinet 16', 'go to cabinet 17', 'go to cabinet 18', 'go to cabinet 19', 'go to cabinet 2', 'go to cabinet 3', 'go to cabinet 4', 'go to cabinet 5', 'go to cabinet 6', 'go to cabinet 7', 'go to cabinet 8', 'go to cabinet 9', 'go to coffeemachine 1', 'go to countertop 2', 'go to countertop 3', 'go to drawer 1', 'go to drawer 2', 'go to drawer 3', 'go to drawer 4', 'go to fridge 1', 'go to garbagecan 1', 'go to microwave 1', 'go to sinkbasin 1', 'go to stoveburner 1', 'go to stoveburner 2', 'go to stoveburner 3', 'go to stoveburner 4', 'go to toaster 1', 'inventory', 'look', 'put potato 2 in/on countertop 1']\\nYour response should be in format: 'Action: <action_command>'\",\n",
       "   'success': False,\n",
       "   'can_proceed': True},\n",
       "  {'output': \"You arrive at loc 40. The fridge 1 is open. In it, you see a apple 3, a apple 2, a bowl 3, and a bread 1.\\nAdmissible commands:\\n['close fridge 1', 'cool potato 2 with fridge 1', 'examine fridge 1', 'examine potato 2', 'go to cabinet 1', 'go to cabinet 10', 'go to cabinet 11', 'go to cabinet 12', 'go to cabinet 13', 'go to cabinet 14', 'go to cabinet 15', 'go to cabinet 16', 'go to cabinet 17', 'go to cabinet 18', 'go to cabinet 19', 'go to cabinet 2', 'go to cabinet 3', 'go to cabinet 4', 'go to cabinet 5', 'go to cabinet 6', 'go to cabinet 7', 'go to cabinet 8', 'go to cabinet 9', 'go to coffeemachine 1', 'go to countertop 1', 'go to countertop 2', 'go to countertop 3', 'go to drawer 1', 'go to drawer 2', 'go to drawer 3', 'go to drawer 4', 'go to garbagecan 1', 'go to microwave 1', 'go to sinkbasin 1', 'go to stoveburner 1', 'go to stoveburner 2', 'go to stoveburner 3', 'go to stoveburner 4', 'go to toaster 1', 'inventory', 'look', 'put potato 2 in/on fridge 1']\\nYour response should be in format: 'Action: <action_command>'\",\n",
       "   'success': False,\n",
       "   'can_proceed': True},\n",
       "  {'output': 'You Won!!!\\nYou put the potato 2 in/on the fridge 1.',\n",
       "   'success': True,\n",
       "   'can_proceed': False}],\n",
       " 'repetition_rate': 0.03389830508474576,\n",
       " 'progress': [0.14285714285714285,\n",
       "  0.2857142857142857,\n",
       "  0.42857142857142855,\n",
       "  0.5714285714285714,\n",
       "  0.7142857142857143,\n",
       "  0.7142857142857143,\n",
       "  0.8571428571428571,\n",
       "  0.7142857142857143,\n",
       "  0.5714285714285714,\n",
       "  0.7142857142857143,\n",
       "  0.8571428571428571,\n",
       "  1.0],\n",
       " 'milestones': ['go to fridge 1',\n",
       "  'open fridge 1',\n",
       "  'take potato 2 from fridge 1',\n",
       "  'go to microwave 1',\n",
       "  'heat potato 2 with microwave 1',\n",
       "  'go to fridge 1',\n",
       "  'put potato 2 in/on fridge 1'],\n",
       " 'problem': '/home/bgautam/.cache/alfworld/json_2.1.1/valid_seen/pick_heat_then_place_in_recep-Potato-None-Fridge-12/trial_T20190908_014451_271080'}"
      ]
     },
     "execution_count": 17,
     "metadata": {},
     "output_type": "execute_result"
    }
   ],
   "source": [
    "driver.metrics.export(\n",
    "    repetition_function_kwargs={\"theta_a\": 1, \"num_execution_steps\": 60}\n",
    ")"
   ]
  },
  {
   "cell_type": "code",
   "execution_count": 18,
   "metadata": {},
   "outputs": [
    {
     "data": {
      "text/plain": [
       "(AlfWorldAction(value='go to fridge 1'),\n",
       " AlfWorldState(value='go to fridge 1', policy_commands=['open fridge 1', 'take potato 2 from fridge 1', 'go to microwave 1', 'heat potato 2 with microwave 1', 'go to fridge 1', 'put potato 2 in/on fridge 1']),\n",
       " AlfWorldObservation(output=\"You arrive at loc 40. The fridge 1 is closed.\\nAdmissible commands:\\n['examine fridge 1', 'go to cabinet 1', 'go to cabinet 10', 'go to cabinet 11', 'go to cabinet 12', 'go to cabinet 13', 'go to cabinet 14', 'go to cabinet 15', 'go to cabinet 16', 'go to cabinet 17', 'go to cabinet 18', 'go to cabinet 19', 'go to cabinet 2', 'go to cabinet 3', 'go to cabinet 4', 'go to cabinet 5', 'go to cabinet 6', 'go to cabinet 7', 'go to cabinet 8', 'go to cabinet 9', 'go to coffeemachine 1', 'go to countertop 1', 'go to countertop 2', 'go to countertop 3', 'go to drawer 1', 'go to drawer 2', 'go to drawer 3', 'go to drawer 4', 'go to garbagecan 1', 'go to microwave 1', 'go to sinkbasin 1', 'go to stoveburner 1', 'go to stoveburner 2', 'go to stoveburner 3', 'go to stoveburner 4', 'go to toaster 1', 'inventory', 'look', 'open fridge 1']\\nYour response should be in format: 'Action: <action_command>'\", success=False, can_proceed=True))"
      ]
     },
     "execution_count": 18,
     "metadata": {},
     "output_type": "execute_result"
    }
   ],
   "source": [
    "driver.metrics.interactions[0]"
   ]
  },
  {
   "cell_type": "code",
   "execution_count": 19,
   "metadata": {},
   "outputs": [
    {
     "name": "stdout",
     "output_type": "stream",
     "text": [
      "['initial', 'initial', 'object picked up', 'object picked up', 'object heated and picked up', 'object heated and picked up', 'object heated and picked up', 'object heated and picked up', 'object heated and not picked up', 'object heated and picked up', 'object heated and picked up', 'object placed correctly']\n",
      "[0.0, 0.0, 0.25, 0.25, 0.75, 0.75, 0.75, 0.75, 0.5, 0.75, 0.75, 1.0]\n"
     ]
    }
   ],
   "source": [
    "# Only works for task category \"pick_heat_then_place\"\n",
    "from agentquest.benchmarks.alfworld.extras import get_progress_pick_heat_then_place\n",
    "\n",
    "qualitative, quantitative = get_progress_pick_heat_then_place(driver.metrics)\n",
    "\n",
    "print(qualitative)\n",
    "print(quantitative)"
   ]
  },
  {
   "cell_type": "code",
   "execution_count": null,
   "metadata": {},
   "outputs": [],
   "source": []
  }
 ],
 "metadata": {
  "kernelspec": {
   "display_name": ".venv",
   "language": "python",
   "name": "python3"
  },
  "language_info": {
   "codemirror_mode": {
    "name": "ipython",
    "version": 3
   },
   "file_extension": ".py",
   "mimetype": "text/x-python",
   "name": "python",
   "nbconvert_exporter": "python",
   "pygments_lexer": "ipython3",
   "version": "3.10.14"
  }
 },
 "nbformat": 4,
 "nbformat_minor": 2
}
