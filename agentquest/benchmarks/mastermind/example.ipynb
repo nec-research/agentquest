{
 "cells": [
  {
   "cell_type": "markdown",
   "metadata": {},
   "source": [
    "# MasterMind\n",
    "\n",
    "Mastermind is a code-breaking game where one player creates a secret code of a fixed length with digits from 0 to 9, and the other player tries to guess the code. The code-maker provides feedback digit after each guess, indicating the number of correct numbers and their correct positions, allowing the code-breaker to deduce and refine their guesses.\n",
    "\n",
    "We provide games with 4, 5, 6, 7, and 8 digits codes."
   ]
  },
  {
   "cell_type": "code",
   "execution_count": 1,
   "metadata": {},
   "outputs": [],
   "source": [
    "from agentquest.benchmarks.mastermind import (\n",
    "    MasterMindDriver,\n",
    "    MasterMindUtils,\n",
    "    MasterMindAction,\n",
    "    MasterMindState,\n",
    ")\n",
    "\n",
    "metrics_array = []"
   ]
  },
  {
   "cell_type": "markdown",
   "metadata": {},
   "source": [
    "Load MasterMind games and select a generic 4 digits game."
   ]
  },
  {
   "cell_type": "code",
   "execution_count": 37,
   "metadata": {},
   "outputs": [
    {
     "data": {
      "text/plain": [
       "'8863'"
      ]
     },
     "execution_count": 37,
     "metadata": {},
     "output_type": "execute_result"
    }
   ],
   "source": [
    "# Select a generic 4 digits game\n",
    "game = MasterMindUtils.load_data(category=\"4 digits\")[4]\n",
    "goal = game\n",
    "goal"
   ]
  },
  {
   "cell_type": "markdown",
   "metadata": {},
   "source": [
    "Initialize mastermind driver and get the first observation"
   ]
  },
  {
   "cell_type": "code",
   "execution_count": 38,
   "metadata": {},
   "outputs": [
    {
     "name": "stdout",
     "output_type": "stream",
     "text": [
      "You are tasked to play the Mastermind game.\n",
      "The host chooses a number and gives you the amount of digits. You have to guess the correct number as fast as you can.\n",
      "The number can contain repetitions and any possible digit between: 0, 1, 2, 3, 4, 5, 6, 7, 8, 9.\n",
      "At each round, you provide a number as a guess. At each step, the host provides you this information:\n",
      "1. The number of correct digits in the wrong position.\n",
      "2. The number of correct digits in the correct position.\n",
      "The game ends when the host outputs 'You Won!'\n",
      "Carefully choose your strategy. Avoid brute force.\n",
      "The guess must be in the following format:\n",
      "Guess: <number>\n",
      "Start guessing the 4 digits number.\n"
     ]
    }
   ],
   "source": [
    "driver = MasterMindDriver(goal=goal)\n",
    "obs = driver.reset()  # Get the first observation\n",
    "print(obs.output)"
   ]
  },
  {
   "cell_type": "markdown",
   "metadata": {},
   "source": [
    "Start guessing the correct number."
   ]
  },
  {
   "cell_type": "code",
   "execution_count": 39,
   "metadata": {},
   "outputs": [
    {
     "data": {
      "text/plain": [
       "'Wrong! Your guess has 0 correct digit in the correct position and 0 correct digit in the wrong position. Keep guessing.'"
      ]
     },
     "execution_count": 39,
     "metadata": {},
     "output_type": "execute_result"
    }
   ],
   "source": [
    "guess = MasterMindAction(value=\"4040\")\n",
    "obs = driver.step(guess)\n",
    "obs.output"
   ]
  },
  {
   "cell_type": "code",
   "execution_count": 40,
   "metadata": {},
   "outputs": [
    {
     "data": {
      "text/plain": [
       "'Wrong! Your guess has 1 correct digit in the correct position and 1 correct digit in the wrong position. Keep guessing.'"
      ]
     },
     "execution_count": 40,
     "metadata": {},
     "output_type": "execute_result"
    }
   ],
   "source": [
    "guess = MasterMindAction(value=\"8607\")\n",
    "obs = driver.step(guess)\n",
    "obs.output"
   ]
  },
  {
   "cell_type": "code",
   "execution_count": 41,
   "metadata": {},
   "outputs": [
    {
     "data": {
      "text/plain": [
       "'Wrong! Your guess has 0 correct digit in the correct position and 0 correct digit in the wrong position. Keep guessing.'"
      ]
     },
     "execution_count": 41,
     "metadata": {},
     "output_type": "execute_result"
    }
   ],
   "source": [
    "obs = driver.step_raw(\n",
    "    raw_text=\"This is coming from an agent. guess: 9999 in the country\"\n",
    ")\n",
    "obs.output"
   ]
  },
  {
   "cell_type": "code",
   "execution_count": 42,
   "metadata": {},
   "outputs": [
    {
     "data": {
      "text/plain": [
       "'Wrong! Your guess has 0 correct digit in the correct position and 1 correct digit in the wrong position. Keep guessing.'"
      ]
     },
     "execution_count": 42,
     "metadata": {},
     "output_type": "execute_result"
    }
   ],
   "source": [
    "guess = MasterMindAction(value=\"5198\")\n",
    "obs = driver.step(guess)\n",
    "obs.output"
   ]
  },
  {
   "cell_type": "code",
   "execution_count": 43,
   "metadata": {},
   "outputs": [
    {
     "data": {
      "text/plain": [
       "'Wrong! Your guess has 0 correct digit in the correct position and 1 correct digit in the wrong position. Keep guessing.'"
      ]
     },
     "execution_count": 43,
     "metadata": {},
     "output_type": "execute_result"
    }
   ],
   "source": [
    "guess = MasterMindAction(value=\"5918\")\n",
    "obs = driver.step(guess)\n",
    "obs.output"
   ]
  },
  {
   "cell_type": "code",
   "execution_count": 44,
   "metadata": {},
   "outputs": [
    {
     "data": {
      "text/plain": [
       "[(MasterMindAction(value='4040'),\n",
       "  State(value='4040'),\n",
       "  MasterMindObservation(output='Wrong! Your guess has 0 correct digit in the correct position and 0 correct digit in the wrong position. Keep guessing.', success=False, can_proceed=True)),\n",
       " (MasterMindAction(value='8607'),\n",
       "  State(value='8607'),\n",
       "  MasterMindObservation(output='Wrong! Your guess has 1 correct digit in the correct position and 1 correct digit in the wrong position. Keep guessing.', success=False, can_proceed=True)),\n",
       " (MasterMindAction(value='9999'),\n",
       "  State(value='9999'),\n",
       "  MasterMindObservation(output='Wrong! Your guess has 0 correct digit in the correct position and 0 correct digit in the wrong position. Keep guessing.', success=False, can_proceed=True)),\n",
       " (MasterMindAction(value='5198'),\n",
       "  State(value='5198'),\n",
       "  MasterMindObservation(output='Wrong! Your guess has 0 correct digit in the correct position and 1 correct digit in the wrong position. Keep guessing.', success=False, can_proceed=True)),\n",
       " (MasterMindAction(value='5918'),\n",
       "  State(value='5918'),\n",
       "  MasterMindObservation(output='Wrong! Your guess has 0 correct digit in the correct position and 1 correct digit in the wrong position. Keep guessing.', success=False, can_proceed=True))]"
      ]
     },
     "execution_count": 44,
     "metadata": {},
     "output_type": "execute_result"
    }
   ],
   "source": [
    "driver.metrics.interactions"
   ]
  },
  {
   "cell_type": "code",
   "execution_count": 45,
   "metadata": {},
   "outputs": [
    {
     "data": {
      "text/plain": [
       "0.0"
      ]
     },
     "execution_count": 45,
     "metadata": {},
     "output_type": "execute_result"
    }
   ],
   "source": [
    "driver.metrics.get_repetition_rate(theta_a=1, num_execution_steps=10)"
   ]
  },
  {
   "cell_type": "code",
   "execution_count": 46,
   "metadata": {},
   "outputs": [
    {
     "data": {
      "text/plain": [
       "[0.0, 0.25, 0.0, 0.0, 0.0]"
      ]
     },
     "execution_count": 46,
     "metadata": {},
     "output_type": "execute_result"
    }
   ],
   "source": [
    "driver.metrics.get_progresses()"
   ]
  },
  {
   "cell_type": "code",
   "execution_count": 47,
   "metadata": {},
   "outputs": [
    {
     "data": {
      "text/plain": [
       "0"
      ]
     },
     "execution_count": 47,
     "metadata": {},
     "output_type": "execute_result"
    }
   ],
   "source": [
    "driver.metrics.repetition_function(theta_a=1)"
   ]
  },
  {
   "cell_type": "code",
   "execution_count": 48,
   "metadata": {},
   "outputs": [
    {
     "data": {
      "text/plain": [
       "0.0"
      ]
     },
     "execution_count": 48,
     "metadata": {},
     "output_type": "execute_result"
    }
   ],
   "source": [
    "driver.metrics.progress_function(state=MasterMindState(value=\"6718\"))"
   ]
  },
  {
   "cell_type": "code",
   "execution_count": 49,
   "metadata": {},
   "outputs": [
    {
     "data": {
      "text/plain": [
       "0.75"
      ]
     },
     "execution_count": 49,
     "metadata": {},
     "output_type": "execute_result"
    }
   ],
   "source": [
    "driver.metrics.similarity_function(\n",
    "    action_1=MasterMindAction(value=\"6718\"), action_2=MasterMindAction(value=\"6918\")\n",
    ")"
   ]
  },
  {
   "cell_type": "code",
   "execution_count": 50,
   "metadata": {},
   "outputs": [
    {
     "data": {
      "text/plain": [
       "{'goal': '8863',\n",
       " 'success': False,\n",
       " 'actions': [{'value': '4040'},\n",
       "  {'value': '8607'},\n",
       "  {'value': '9999'},\n",
       "  {'value': '5198'},\n",
       "  {'value': '5918'}],\n",
       " 'states': [{'value': '4040'},\n",
       "  {'value': '8607'},\n",
       "  {'value': '9999'},\n",
       "  {'value': '5198'},\n",
       "  {'value': '5918'}],\n",
       " 'observations': [{'output': 'Wrong! Your guess has 0 correct digit in the correct position and 0 correct digit in the wrong position. Keep guessing.',\n",
       "   'success': False,\n",
       "   'can_proceed': True},\n",
       "  {'output': 'Wrong! Your guess has 1 correct digit in the correct position and 1 correct digit in the wrong position. Keep guessing.',\n",
       "   'success': False,\n",
       "   'can_proceed': True},\n",
       "  {'output': 'Wrong! Your guess has 0 correct digit in the correct position and 0 correct digit in the wrong position. Keep guessing.',\n",
       "   'success': False,\n",
       "   'can_proceed': True},\n",
       "  {'output': 'Wrong! Your guess has 0 correct digit in the correct position and 1 correct digit in the wrong position. Keep guessing.',\n",
       "   'success': False,\n",
       "   'can_proceed': True},\n",
       "  {'output': 'Wrong! Your guess has 0 correct digit in the correct position and 1 correct digit in the wrong position. Keep guessing.',\n",
       "   'success': False,\n",
       "   'can_proceed': True}],\n",
       " 'repetition_rate': 0.0,\n",
       " 'progress': [0.0, 0.25, 0.0, 0.0, 0.0]}"
      ]
     },
     "execution_count": 50,
     "metadata": {},
     "output_type": "execute_result"
    }
   ],
   "source": [
    "driver.metrics.export(\n",
    "    repetition_function_kwargs={\"theta_a\": 1, \"num_execution_steps\": 10}\n",
    ")"
   ]
  },
  {
   "cell_type": "code",
   "execution_count": 52,
   "metadata": {},
   "outputs": [],
   "source": [
    "metrics_array.append(driver.metrics)"
   ]
  }
 ],
 "metadata": {
  "kernelspec": {
   "display_name": ".venv",
   "language": "python",
   "name": "python3"
  },
  "language_info": {
   "codemirror_mode": {
    "name": "ipython",
    "version": 3
   },
   "file_extension": ".py",
   "mimetype": "text/x-python",
   "name": "python",
   "nbconvert_exporter": "python",
   "pygments_lexer": "ipython3",
   "version": "3.10.14"
  }
 },
 "nbformat": 4,
 "nbformat_minor": 2
}
