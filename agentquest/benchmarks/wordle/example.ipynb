{
 "cells": [
  {
   "cell_type": "markdown",
   "metadata": {},
   "source": [
    "### Wordle Example "
   ]
  },
  {
   "cell_type": "code",
   "execution_count": 4,
   "metadata": {},
   "outputs": [],
   "source": [
    "from agentquest.benchmarks.wordle import WordleDriver, WordleUtils"
   ]
  },
  {
   "cell_type": "code",
   "execution_count": 5,
   "metadata": {},
   "outputs": [],
   "source": [
    "data = WordleUtils.load_game()\n",
    "driver = WordleDriver(goal=data[0])"
   ]
  },
  {
   "cell_type": "code",
   "execution_count": 6,
   "metadata": {},
   "outputs": [
    {
     "name": "stdout",
     "output_type": "stream",
     "text": [
      "Welcome to Wordle. Your goal is to guess a 5 letter word only containing letters in the English alphabet.\n",
      "Letters correctly guessed in the correct position will be shown with a '✓' in place.\n",
      "Letters correctly guessed but in the wrong position will be shown with a '⚠' in place.\n",
      "Letters incorrectly guessed will be shown with a '✘' in place.You have six lives.\n",
      "Take a guess by providing a 5 letter word. The response must be in the following format.\n",
      "Word: <word>\n",
      "\n",
      "│ H ││ E ││ L ││ L ││ O │\n",
      "\n",
      "│ ✘ ││ ⚠ ││ ✘ ││ ✘ ││ ✘ │\n",
      "Letter h is a wrong letter.\n",
      "Letter e is a correct letter in wrong position.\n",
      "Letter l is a wrong letter.\n",
      "Letter l is a wrong letter.\n",
      "Letter o is a wrong letter.\n",
      "You have 5 lives remaining. \n",
      "\n",
      "\n",
      "│ A ││ S ││ I ││ D ││ E │\n",
      "\n",
      "│ ✓ ││ ✘ ││ ✓ ││ ✓ ││ ✓ │\n",
      "Letter a is a correct letter in right position.\n",
      "Letter s is a wrong letter.\n",
      "Letter i is a correct letter in right position.\n",
      "Letter d is a correct letter in right position.\n",
      "Letter e is a correct letter in right position.\n",
      "You have 4 lives remaining. \n",
      "\n",
      "\n",
      "│ A ││ B ││ I ││ D ││ E │\n",
      "\n",
      "│ ✓ ││ ✓ ││ ✓ ││ ✓ ││ ✓ │\n",
      "You have won!!! The word was abide\n"
     ]
    }
   ],
   "source": [
    "# Initiating the game with reset method call\n",
    "obs = driver.reset()\n",
    "print(obs.output)\n",
    "\n",
    "while not obs.success and obs.can_proceed:\n",
    "    human_input = input()\n",
    "    # obs = driver.step(WordleAction(value=human_input))\n",
    "    obs = driver.step_raw(human_input)\n",
    "    print(obs.output)"
   ]
  },
  {
   "cell_type": "code",
   "execution_count": 7,
   "metadata": {},
   "outputs": [
    {
     "data": {
      "text/plain": [
       "{'goal': 'abide',\n",
       " 'success': True,\n",
       " 'actions': [{'value': 'hello'}, {'value': 'aside'}, {'value': 'abide'}],\n",
       " 'states': [{'value': 'hello', 'lives': 5, 'words_guessed': ['hello']},\n",
       "  {'value': 'aside', 'lives': 4, 'words_guessed': ['hello', 'aside']},\n",
       "  {'value': 'abide',\n",
       "   'lives': 3,\n",
       "   'words_guessed': ['hello', 'aside', 'abide']}],\n",
       " 'observations': [{'output': '\\n│ H ││ E ││ L ││ L ││ O │\\n\\n│ ✘ ││ ⚠ ││ ✘ ││ ✘ ││ ✘ │\\nLetter h is a wrong letter.\\nLetter e is a correct letter in wrong position.\\nLetter l is a wrong letter.\\nLetter l is a wrong letter.\\nLetter o is a wrong letter.\\nYou have 5 lives remaining. \\n',\n",
       "   'success': False,\n",
       "   'can_proceed': True},\n",
       "  {'output': '\\n│ A ││ S ││ I ││ D ││ E │\\n\\n│ ✓ ││ ✘ ││ ✓ ││ ✓ ││ ✓ │\\nLetter a is a correct letter in right position.\\nLetter s is a wrong letter.\\nLetter i is a correct letter in right position.\\nLetter d is a correct letter in right position.\\nLetter e is a correct letter in right position.\\nYou have 4 lives remaining. \\n',\n",
       "   'success': False,\n",
       "   'can_proceed': True},\n",
       "  {'output': '\\n│ A ││ B ││ I ││ D ││ E │\\n\\n│ ✓ ││ ✓ ││ ✓ ││ ✓ ││ ✓ │\\nYou have won!!! The word was abide',\n",
       "   'success': True,\n",
       "   'can_proceed': False}],\n",
       " 'repetition_rate': 0.1111111111111111,\n",
       " 'progress': [0.0, 0.8, 1.0]}"
      ]
     },
     "execution_count": 7,
     "metadata": {},
     "output_type": "execute_result"
    }
   ],
   "source": [
    "driver.metrics.export(\n",
    "    repetition_function_kwargs={\"theta_a\": 0.5, \"num_execution_steps\": 10}\n",
    ")"
   ]
  },
  {
   "cell_type": "code",
   "execution_count": null,
   "metadata": {},
   "outputs": [],
   "source": []
  }
 ],
 "metadata": {
  "kernelspec": {
   "display_name": ".venv",
   "language": "python",
   "name": "python3"
  },
  "language_info": {
   "codemirror_mode": {
    "name": "ipython",
    "version": 3
   },
   "file_extension": ".py",
   "mimetype": "text/x-python",
   "name": "python",
   "nbconvert_exporter": "python",
   "pygments_lexer": "ipython3",
   "version": "3.12.3"
  }
 },
 "nbformat": 4,
 "nbformat_minor": 2
}
