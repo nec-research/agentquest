{
 "cells": [
  {
   "cell_type": "markdown",
   "metadata": {},
   "source": [
    "## Webshop\n",
    "This example file runs the Webshop driver, it's metrics, reset and step functions."
   ]
  },
  {
   "cell_type": "code",
   "execution_count": 9,
   "metadata": {},
   "outputs": [
    {
     "name": "stdout",
     "output_type": "stream",
     "text": [
      "http://localhost:5555\n",
      "2024-12-31 22:55 - INFO - Connection test to interface successful.\n",
      "{\n",
      "  \"test\": \"okay\"\n",
      "}\n",
      "\n"
     ]
    }
   ],
   "source": [
    "from agentquest.benchmarks.webshop import WebshopUtils, WebshopDriver, WebshopAction\n",
    "\n",
    "WebshopUtils.test_interface_api()"
   ]
  },
  {
   "cell_type": "code",
   "execution_count": 15,
   "metadata": {},
   "outputs": [
    {
     "name": "stdout",
     "output_type": "stream",
     "text": [
      "Welcome to WebShop, a simulated e-commerce website environment. Your goal is to find and buy the best product matching the instruction provided.\n",
      "There are two possible actions `search[<query>]` and `click[<clickable>]`. These actions will help you navigate through the WebShop environment. The list of possible actions and clickables are provided in the observation output after every action.\n",
      "Your output should in the following format:\n",
      "Action: <action>\n",
      "WebShop [SEP] Instruction: [SEP] Find me slim fit, machine wash women's jumpsuits, rompers & overalls with short sleeve, high waist, polyester spandex for daily wear with color: letter green b, and size: xx-large, and price lower than 40.00 dollars [SEP] Search\n",
      "Available actions in json:\n",
      "{\"clickables\": [\"search\"], \"has_search_bar\": true}\n"
     ]
    }
   ],
   "source": [
    "driver = WebshopDriver(base_url=\"http://localhost:5555\")\n",
    "obs = driver.reset()\n",
    "print(obs.output)"
   ]
  },
  {
   "cell_type": "code",
   "execution_count": 11,
   "metadata": {},
   "outputs": [
    {
     "name": "stdout",
     "output_type": "stream",
     "text": [
      "Instruction: [SEP] Find me slim fit, machine wash women's jumpsuits, rompers & overalls with short sleeve, high waist, polyester spandex for daily wear with color: green stripe, and size: large, and price lower than 40.00 dollars [SEP] Back to Search [SEP] Page 1 (Total results: 50) [SEP] Next > [SEP] B09NDS8F4V [SEP] AODONG Onesie Pajamas for Women Onesies Romper Pajamas Printed Bodycon Jumpsuit Shorts Sexy One Piece Pjs Overall [SEP] $2.99 to $7.99 [SEP] B09PVNLVRW [SEP] Women's V-Neck Rompers Printed Jumpsuit Long Sleeve Homewear Butt Flap Pajamas One-Piece Onesies Nightwear Sexy Bodysuit [SEP] $17.4 to $28.67 [SEP] B09RV4TXKJ [SEP] ORT Bodycon Lingeries for Women,2 Piece 2 pc Sleepwear for Women,Sexy Printed Ugly Valentine Nightdress Loungewear Lingeries Rompers Clubwear [SEP] $13.08 [SEP] B099WX3CV5 [SEP] Women Aesthetic Short Sleeve Jumpsuit Bodycon Sexy V Neck Button Shorts Rompers Knitted One Piece Bodysuit Overall [SEP] $13.99 to $24.89 [SEP] B09Q37JQZ6 [SEP] Women's Sexy Swimsuit One Piece High Neck Halter Bikini Floral Stiching See Through Monokini Tummy Control Beachwear [SEP] $10.99 to $18.99 [SEP] B09QPX97VW [SEP] Sandals For Women Gold Sandals Slippers Sandy From Grease Red Shoes Strap Platforms Golf Shoes Jeans Stretch Short Sleeve Shirts Midi Skirts Women Suede Pumps [SEP] $100.0 [SEP] B09NSC5VDG [SEP] CofeeMO Womens Lingerie Sleep Lounge Everyday Nursing Bras Printed Underwear Seamless Printed Bralette for Sex Naughty Play [SEP] $14.99 [SEP] B09QGK5XHZ [SEP] WENKOMG1 Men's Long Sleeve Undershirt with Mask Turtleneck Hooded T-Shirt Solid Color Workout Tops Zipper Side Slit Shirts Slim Fit Sweatshirt Spring/Summer Tee Shirts(Gray,) [SEP] $8.39 [SEP] B09S632DT3 [SEP] Sleepwear Womens Chemise Nightgown Full Slip Lace Lounge Dress with Briefs Mesh Chemise V Neck Soft Pajama Dress Nightdress [SEP] $11.99 to $14.99 [SEP] B09QXF3V3X [SEP] DEUVOUM Summer Trend Mesh Shoes Men's Sports Shoes Solid Color Lace-Up Sneakers Fashion All-Match Walking Shoes Outdoor Hiking Shoes Non-Slip Shock-Absorbing Casual Sports Shoes [SEP] $100.0\n",
      "Available actions in json\n",
      "{\"clickables\": [\"back to search\", \"next >\", \"b09nds8f4v\", \"b09pvnlvrw\", \"b09rv4txkj\", \"b099wx3cv5\", \"b09q37jqz6\", \"b09qpx97vw\", \"b09nsc5vdg\", \"b09qgk5xhz\", \"b09s632dt3\", \"b09qxf3v3x\"], \"has_search_bar\": false}\n"
     ]
    }
   ],
   "source": [
    "obs = driver.step(WebshopAction(value=\"search[women jumpsuits]\"))\n",
    "print(obs.output)"
   ]
  },
  {
   "cell_type": "code",
   "execution_count": 13,
   "metadata": {},
   "outputs": [
    {
     "name": "stdout",
     "output_type": "stream",
     "text": [
      "Instruction: [SEP] Find me slim fit, machine wash women's jumpsuits, rompers & overalls with short sleeve, high waist, polyester spandex for daily wear with color: green stripe, and size: large, and price lower than 40.00 dollars [SEP] Back to Search [SEP] < Prev [SEP] ORT Bodycon Lingeries for Women,2 Piece 2 pc Sleepwear for Women,Sexy Printed Ugly Valentine Nightdress Loungewear Lingeries Rompers Clubwear [SEP] Price: $13.08 [SEP] Rating: N.A. [SEP] Description [SEP] Features [SEP] Reviews [SEP] Buy Now\n",
      "Available actions in json\n",
      "{\"clickables\": [\"back to search\", \"< prev\", \"description\", \"features\", \"reviews\", \"buy now\"], \"has_search_bar\": false}\n"
     ]
    }
   ],
   "source": [
    "obs = driver.step(WebshopAction(value=\"click[b099wx3cv5]\"))\n",
    "print(obs.output)"
   ]
  },
  {
   "cell_type": "code",
   "execution_count": 14,
   "metadata": {},
   "outputs": [
    {
     "name": "stdout",
     "output_type": "stream",
     "text": [
      "Thank you for shopping with us! [SEP] Your code: [SEP] None [SEP] (Paste it in your MTurk interface.) [SEP] Purchased [SEP] asin [SEP] B09RV4TXKJ [SEP] options [SEP] {} [SEP] attrs [SEP] None [SEP] category [SEP] None [SEP] query [SEP] None [SEP] product category [SEP] None [SEP] Target [SEP] asin [SEP] options [SEP] attrs [SEP] price upper [SEP] instuction text [SEP] category [SEP] product category [SEP] query [SEP] Goal [SEP] None [SEP] Reward [SEP] Your score (min 0.0, max 1.0) [SEP] 0.2222222222222222 [SEP] Reward Details [SEP] None\n",
      "Available actions in json\n",
      "{\"clickables\": [], \"has_search_bar\": false}\n"
     ]
    }
   ],
   "source": [
    "obs = driver.step(WebshopAction(value=\"click[buy now]\"))\n",
    "print(obs.output)"
   ]
  },
  {
   "cell_type": "code",
   "execution_count": 7,
   "metadata": {},
   "outputs": [
    {
     "data": {
      "text/plain": [
       "{'goal': \"WebShop [SEP] Instruction: [SEP] Find me slim fit, machine wash women's jumpsuits, rompers & overalls with short sleeve, high waist, polyester spandex for daily wear with color: green stripe, and size: large, and price lower than 50.00 dollars [SEP] Search\",\n",
       " 'success': False,\n",
       " 'actions': [{'value': 'search[women jumpsuits]'},\n",
       "  {'value': 'click[b09qgk5xhz]'},\n",
       "  {'value': 'click[buy now]'}],\n",
       " 'states': [{'value': {'available_actions': {'clickables': ['back to search',\n",
       "      'next >',\n",
       "      'b09nds8f4v',\n",
       "      'b09pvnlvrw',\n",
       "      'b09rv4txkj',\n",
       "      'b099wx3cv5',\n",
       "      'b09q37jqz6',\n",
       "      'b09qpx97vw',\n",
       "      'b09nsc5vdg',\n",
       "      'b09qgk5xhz',\n",
       "      'b09s632dt3',\n",
       "      'b09qxf3v3x'],\n",
       "     'has_search_bar': False},\n",
       "    'done': False,\n",
       "    'info': None,\n",
       "    'obs': \"Instruction: [SEP] Find me slim fit, machine wash women's jumpsuits, rompers & overalls with short sleeve, high waist, polyester spandex for daily wear with color: green stripe, and size: large, and price lower than 50.00 dollars [SEP] Back to Search [SEP] Page 1 (Total results: 50) [SEP] Next > [SEP] B09NDS8F4V [SEP] AODONG Onesie Pajamas for Women Onesies Romper Pajamas Printed Bodycon Jumpsuit Shorts Sexy One Piece Pjs Overall [SEP] $2.99 to $7.99 [SEP] B09PVNLVRW [SEP] Women's V-Neck Rompers Printed Jumpsuit Long Sleeve Homewear Butt Flap Pajamas One-Piece Onesies Nightwear Sexy Bodysuit [SEP] $17.4 to $28.67 [SEP] B09RV4TXKJ [SEP] ORT Bodycon Lingeries for Women,2 Piece 2 pc Sleepwear for Women,Sexy Printed Ugly Valentine Nightdress Loungewear Lingeries Rompers Clubwear [SEP] $13.08 [SEP] B099WX3CV5 [SEP] Women Aesthetic Short Sleeve Jumpsuit Bodycon Sexy V Neck Button Shorts Rompers Knitted One Piece Bodysuit Overall [SEP] $13.99 to $24.89 [SEP] B09Q37JQZ6 [SEP] Women's Sexy Swimsuit One Piece High Neck Halter Bikini Floral Stiching See Through Monokini Tummy Control Beachwear [SEP] $10.99 to $18.99 [SEP] B09QPX97VW [SEP] Sandals For Women Gold Sandals Slippers Sandy From Grease Red Shoes Strap Platforms Golf Shoes Jeans Stretch Short Sleeve Shirts Midi Skirts Women Suede Pumps [SEP] $100.0 [SEP] B09NSC5VDG [SEP] CofeeMO Womens Lingerie Sleep Lounge Everyday Nursing Bras Printed Underwear Seamless Printed Bralette for Sex Naughty Play [SEP] $14.99 [SEP] B09QGK5XHZ [SEP] WENKOMG1 Men's Long Sleeve Undershirt with Mask Turtleneck Hooded T-Shirt Solid Color Workout Tops Zipper Side Slit Shirts Slim Fit Sweatshirt Spring/Summer Tee Shirts(Gray,) [SEP] $8.39 [SEP] B09S632DT3 [SEP] Sleepwear Womens Chemise Nightgown Full Slip Lace Lounge Dress with Briefs Mesh Chemise V Neck Soft Pajama Dress Nightdress [SEP] $11.99 to $14.99 [SEP] B09QXF3V3X [SEP] DEUVOUM Summer Trend Mesh Shoes Men's Sports Shoes Solid Color Lace-Up Sneakers Fashion All-Match Walking Shoes Outdoor Hiking Shoes Non-Slip Shock-Absorbing Casual Sports Shoes [SEP] $100.0\",\n",
       "    'reward': 0.0}},\n",
       "  {'value': {'available_actions': {'clickables': ['back to search',\n",
       "      '< prev',\n",
       "      'description',\n",
       "      'features',\n",
       "      'reviews',\n",
       "      'buy now'],\n",
       "     'has_search_bar': False},\n",
       "    'done': False,\n",
       "    'info': None,\n",
       "    'obs': \"Instruction: [SEP] Find me slim fit, machine wash women's jumpsuits, rompers & overalls with short sleeve, high waist, polyester spandex for daily wear with color: green stripe, and size: large, and price lower than 50.00 dollars [SEP] Back to Search [SEP] < Prev [SEP] WENKOMG1 Men's Long Sleeve Undershirt with Mask Turtleneck Hooded T-Shirt Solid Color Workout Tops Zipper Side Slit Shirts Slim Fit Sweatshirt Spring/Summer Tee Shirts(Gray,) [SEP] Price: $8.39 [SEP] Rating: N.A. [SEP] Description [SEP] Features [SEP] Reviews [SEP] Buy Now\",\n",
       "    'reward': 0.0}},\n",
       "  {'value': {'available_actions': {'clickables': [], 'has_search_bar': False},\n",
       "    'done': True,\n",
       "    'info': None,\n",
       "    'obs': 'Thank you for shopping with us! [SEP] Your code: [SEP] None [SEP] (Paste it in your MTurk interface.) [SEP] Purchased [SEP] asin [SEP] B09QGK5XHZ [SEP] options [SEP] {} [SEP] attrs [SEP] None [SEP] category [SEP] None [SEP] query [SEP] None [SEP] product category [SEP] None [SEP] Target [SEP] asin [SEP] options [SEP] attrs [SEP] price upper [SEP] instuction text [SEP] category [SEP] product category [SEP] query [SEP] Goal [SEP] None [SEP] Reward [SEP] Your score (min 0.0, max 1.0) [SEP] 0.03333333333333333 [SEP] Reward Details [SEP] None',\n",
       "    'reward': 0.03333333333333333}}],\n",
       " 'observations': [{'output': 'Instruction: [SEP] Find me slim fit, machine wash women\\'s jumpsuits, rompers & overalls with short sleeve, high waist, polyester spandex for daily wear with color: green stripe, and size: large, and price lower than 50.00 dollars [SEP] Back to Search [SEP] Page 1 (Total results: 50) [SEP] Next > [SEP] B09NDS8F4V [SEP] AODONG Onesie Pajamas for Women Onesies Romper Pajamas Printed Bodycon Jumpsuit Shorts Sexy One Piece Pjs Overall [SEP] $2.99 to $7.99 [SEP] B09PVNLVRW [SEP] Women\\'s V-Neck Rompers Printed Jumpsuit Long Sleeve Homewear Butt Flap Pajamas One-Piece Onesies Nightwear Sexy Bodysuit [SEP] $17.4 to $28.67 [SEP] B09RV4TXKJ [SEP] ORT Bodycon Lingeries for Women,2 Piece 2 pc Sleepwear for Women,Sexy Printed Ugly Valentine Nightdress Loungewear Lingeries Rompers Clubwear [SEP] $13.08 [SEP] B099WX3CV5 [SEP] Women Aesthetic Short Sleeve Jumpsuit Bodycon Sexy V Neck Button Shorts Rompers Knitted One Piece Bodysuit Overall [SEP] $13.99 to $24.89 [SEP] B09Q37JQZ6 [SEP] Women\\'s Sexy Swimsuit One Piece High Neck Halter Bikini Floral Stiching See Through Monokini Tummy Control Beachwear [SEP] $10.99 to $18.99 [SEP] B09QPX97VW [SEP] Sandals For Women Gold Sandals Slippers Sandy From Grease Red Shoes Strap Platforms Golf Shoes Jeans Stretch Short Sleeve Shirts Midi Skirts Women Suede Pumps [SEP] $100.0 [SEP] B09NSC5VDG [SEP] CofeeMO Womens Lingerie Sleep Lounge Everyday Nursing Bras Printed Underwear Seamless Printed Bralette for Sex Naughty Play [SEP] $14.99 [SEP] B09QGK5XHZ [SEP] WENKOMG1 Men\\'s Long Sleeve Undershirt with Mask Turtleneck Hooded T-Shirt Solid Color Workout Tops Zipper Side Slit Shirts Slim Fit Sweatshirt Spring/Summer Tee Shirts(Gray,) [SEP] $8.39 [SEP] B09S632DT3 [SEP] Sleepwear Womens Chemise Nightgown Full Slip Lace Lounge Dress with Briefs Mesh Chemise V Neck Soft Pajama Dress Nightdress [SEP] $11.99 to $14.99 [SEP] B09QXF3V3X [SEP] DEUVOUM Summer Trend Mesh Shoes Men\\'s Sports Shoes Solid Color Lace-Up Sneakers Fashion All-Match Walking Shoes Outdoor Hiking Shoes Non-Slip Shock-Absorbing Casual Sports Shoes [SEP] $100.0\\nAvailable actions in json\\n{\"clickables\": [\"back to search\", \"next >\", \"b09nds8f4v\", \"b09pvnlvrw\", \"b09rv4txkj\", \"b099wx3cv5\", \"b09q37jqz6\", \"b09qpx97vw\", \"b09nsc5vdg\", \"b09qgk5xhz\", \"b09s632dt3\", \"b09qxf3v3x\"], \"has_search_bar\": false}',\n",
       "   'success': False,\n",
       "   'can_proceed': True},\n",
       "  {'output': 'Instruction: [SEP] Find me slim fit, machine wash women\\'s jumpsuits, rompers & overalls with short sleeve, high waist, polyester spandex for daily wear with color: green stripe, and size: large, and price lower than 50.00 dollars [SEP] Back to Search [SEP] < Prev [SEP] WENKOMG1 Men\\'s Long Sleeve Undershirt with Mask Turtleneck Hooded T-Shirt Solid Color Workout Tops Zipper Side Slit Shirts Slim Fit Sweatshirt Spring/Summer Tee Shirts(Gray,) [SEP] Price: $8.39 [SEP] Rating: N.A. [SEP] Description [SEP] Features [SEP] Reviews [SEP] Buy Now\\nAvailable actions in json\\n{\"clickables\": [\"back to search\", \"< prev\", \"description\", \"features\", \"reviews\", \"buy now\"], \"has_search_bar\": false}',\n",
       "   'success': False,\n",
       "   'can_proceed': True},\n",
       "  {'output': 'Thank you for shopping with us! [SEP] Your code: [SEP] None [SEP] (Paste it in your MTurk interface.) [SEP] Purchased [SEP] asin [SEP] B09QGK5XHZ [SEP] options [SEP] {} [SEP] attrs [SEP] None [SEP] category [SEP] None [SEP] query [SEP] None [SEP] product category [SEP] None [SEP] Target [SEP] asin [SEP] options [SEP] attrs [SEP] price upper [SEP] instuction text [SEP] category [SEP] product category [SEP] query [SEP] Goal [SEP] None [SEP] Reward [SEP] Your score (min 0.0, max 1.0) [SEP] 0.03333333333333333 [SEP] Reward Details [SEP] None\\nAvailable actions in json\\n{\"clickables\": [], \"has_search_bar\": false}',\n",
       "   'success': True,\n",
       "   'can_proceed': False}],\n",
       " 'repetition_rate': 0.0,\n",
       " 'progress': [0.0, 0.0, 0.03333333333333333]}"
      ]
     },
     "execution_count": 7,
     "metadata": {},
     "output_type": "execute_result"
    }
   ],
   "source": [
    "driver.metrics.export(\n",
    "    repetition_function_kwargs={\"theta_a\": 1, \"num_execution_steps\": 10}\n",
    ")"
   ]
  },
  {
   "cell_type": "markdown",
   "metadata": {},
   "source": [
    "One complete loop"
   ]
  },
  {
   "cell_type": "code",
   "execution_count": null,
   "metadata": {},
   "outputs": [],
   "source": [
    "obs = driver.reset()\n",
    "print(obs.output)\n",
    "\n",
    "while not obs.success and obs.can_proceed:\n",
    "    human_input = input()\n",
    "    # obs = driver.step(WebshopAction(value=human_input))\n",
    "    obs = driver.step_raw(human_input)\n",
    "    print(obs.output)"
   ]
  },
  {
   "cell_type": "code",
   "execution_count": 11,
   "metadata": {},
   "outputs": [
    {
     "name": "stdout",
     "output_type": "stream",
     "text": [
      "2024-12-31 19:40 - WARNING - Exception encountered: Metrics.get_repetition_rate() missing 1 required positional argument: 'num_execution_steps'. Unable to calculate repetition rate.\n"
     ]
    },
    {
     "data": {
      "text/plain": [
       "{'goal': \"WebShop [SEP] Instruction: [SEP] Find me machine wash men's t-shirts with long sleeve with color: mossy oak country dna, and size: 5x-large big, and price lower than 60.00 dollars [SEP] Search\",\n",
       " 'success': False,\n",
       " 'actions': [{'value': 'search[women jumpsuits]'},\n",
       "  {'value': 'click[b09pvnlvrw]'},\n",
       "  {'value': 'click[buy now]'}],\n",
       " 'states': [{'value': {'available_actions': {'clickables': ['back to search',\n",
       "      'next >',\n",
       "      'b09nds8f4v',\n",
       "      'b09pvnlvrw',\n",
       "      'b09rv4txkj',\n",
       "      'b099wx3cv5',\n",
       "      'b09q37jqz6',\n",
       "      'b09qpx97vw',\n",
       "      'b09nsc5vdg',\n",
       "      'b09qgk5xhz',\n",
       "      'b09s632dt3',\n",
       "      'b09qxf3v3x'],\n",
       "     'has_search_bar': False},\n",
       "    'done': False,\n",
       "    'info': None,\n",
       "    'obs': \"Instruction: [SEP] Find me machine wash men's t-shirts with long sleeve with color: mossy oak country dna, and size: 5x-large big, and price lower than 60.00 dollars [SEP] Back to Search [SEP] Page 1 (Total results: 50) [SEP] Next > [SEP] B09NDS8F4V [SEP] AODONG Onesie Pajamas for Women Onesies Romper Pajamas Printed Bodycon Jumpsuit Shorts Sexy One Piece Pjs Overall [SEP] $2.99 to $7.99 [SEP] B09PVNLVRW [SEP] Women's V-Neck Rompers Printed Jumpsuit Long Sleeve Homewear Butt Flap Pajamas One-Piece Onesies Nightwear Sexy Bodysuit [SEP] $17.4 to $28.67 [SEP] B09RV4TXKJ [SEP] ORT Bodycon Lingeries for Women,2 Piece 2 pc Sleepwear for Women,Sexy Printed Ugly Valentine Nightdress Loungewear Lingeries Rompers Clubwear [SEP] $13.08 [SEP] B099WX3CV5 [SEP] Women Aesthetic Short Sleeve Jumpsuit Bodycon Sexy V Neck Button Shorts Rompers Knitted One Piece Bodysuit Overall [SEP] $13.99 to $24.89 [SEP] B09Q37JQZ6 [SEP] Women's Sexy Swimsuit One Piece High Neck Halter Bikini Floral Stiching See Through Monokini Tummy Control Beachwear [SEP] $10.99 to $18.99 [SEP] B09QPX97VW [SEP] Sandals For Women Gold Sandals Slippers Sandy From Grease Red Shoes Strap Platforms Golf Shoes Jeans Stretch Short Sleeve Shirts Midi Skirts Women Suede Pumps [SEP] $100.0 [SEP] B09NSC5VDG [SEP] CofeeMO Womens Lingerie Sleep Lounge Everyday Nursing Bras Printed Underwear Seamless Printed Bralette for Sex Naughty Play [SEP] $14.99 [SEP] B09QGK5XHZ [SEP] WENKOMG1 Men's Long Sleeve Undershirt with Mask Turtleneck Hooded T-Shirt Solid Color Workout Tops Zipper Side Slit Shirts Slim Fit Sweatshirt Spring/Summer Tee Shirts(Gray,) [SEP] $8.39 [SEP] B09S632DT3 [SEP] Sleepwear Womens Chemise Nightgown Full Slip Lace Lounge Dress with Briefs Mesh Chemise V Neck Soft Pajama Dress Nightdress [SEP] $11.99 to $14.99 [SEP] B09QXF3V3X [SEP] DEUVOUM Summer Trend Mesh Shoes Men's Sports Shoes Solid Color Lace-Up Sneakers Fashion All-Match Walking Shoes Outdoor Hiking Shoes Non-Slip Shock-Absorbing Casual Sports Shoes [SEP] $100.0\",\n",
       "    'reward': 0.0}},\n",
       "  {'value': {'available_actions': {'clickables': ['back to search',\n",
       "      '< prev',\n",
       "      'description',\n",
       "      'features',\n",
       "      'reviews',\n",
       "      'buy now',\n",
       "      'black',\n",
       "      'red',\n",
       "      'yellow',\n",
       "      'small',\n",
       "      'medium',\n",
       "      'large',\n",
       "      'x-large',\n",
       "      'xx-large'],\n",
       "     'has_search_bar': False},\n",
       "    'done': False,\n",
       "    'info': None,\n",
       "    'obs': \"Instruction: [SEP] Find me machine wash men's t-shirts with long sleeve with color: mossy oak country dna, and size: 5x-large big, and price lower than 60.00 dollars [SEP] Back to Search [SEP] < Prev [SEP] color [SEP] black [SEP] red [SEP] yellow [SEP] size [SEP] small [SEP] medium [SEP] large [SEP] x-large [SEP] xx-large [SEP] Women's V-Neck Rompers Printed Jumpsuit Long Sleeve Homewear Butt Flap Pajamas One-Piece Onesies Nightwear Sexy Bodysuit [SEP] Price: $17.4 to $28.67 [SEP] Rating: N.A. [SEP] Description [SEP] Features [SEP] Reviews [SEP] Buy Now\",\n",
       "    'reward': 0.0}},\n",
       "  {'value': {'available_actions': {'clickables': [], 'has_search_bar': False},\n",
       "    'done': True,\n",
       "    'info': None,\n",
       "    'obs': 'Thank you for shopping with us! [SEP] Your code: [SEP] None [SEP] (Paste it in your MTurk interface.) [SEP] Purchased [SEP] asin [SEP] B09PVNLVRW [SEP] options [SEP] {} [SEP] attrs [SEP] None [SEP] category [SEP] None [SEP] query [SEP] None [SEP] product category [SEP] None [SEP] Target [SEP] asin [SEP] options [SEP] attrs [SEP] price upper [SEP] instuction text [SEP] category [SEP] product category [SEP] query [SEP] Goal [SEP] None [SEP] Reward [SEP] Your score (min 0.0, max 1.0) [SEP] 0.4 [SEP] Reward Details [SEP] None',\n",
       "    'reward': 0.4}}],\n",
       " 'observations': [{'output': 'Instruction: [SEP] Find me machine wash men\\'s t-shirts with long sleeve with color: mossy oak country dna, and size: 5x-large big, and price lower than 60.00 dollars [SEP] Back to Search [SEP] Page 1 (Total results: 50) [SEP] Next > [SEP] B09NDS8F4V [SEP] AODONG Onesie Pajamas for Women Onesies Romper Pajamas Printed Bodycon Jumpsuit Shorts Sexy One Piece Pjs Overall [SEP] $2.99 to $7.99 [SEP] B09PVNLVRW [SEP] Women\\'s V-Neck Rompers Printed Jumpsuit Long Sleeve Homewear Butt Flap Pajamas One-Piece Onesies Nightwear Sexy Bodysuit [SEP] $17.4 to $28.67 [SEP] B09RV4TXKJ [SEP] ORT Bodycon Lingeries for Women,2 Piece 2 pc Sleepwear for Women,Sexy Printed Ugly Valentine Nightdress Loungewear Lingeries Rompers Clubwear [SEP] $13.08 [SEP] B099WX3CV5 [SEP] Women Aesthetic Short Sleeve Jumpsuit Bodycon Sexy V Neck Button Shorts Rompers Knitted One Piece Bodysuit Overall [SEP] $13.99 to $24.89 [SEP] B09Q37JQZ6 [SEP] Women\\'s Sexy Swimsuit One Piece High Neck Halter Bikini Floral Stiching See Through Monokini Tummy Control Beachwear [SEP] $10.99 to $18.99 [SEP] B09QPX97VW [SEP] Sandals For Women Gold Sandals Slippers Sandy From Grease Red Shoes Strap Platforms Golf Shoes Jeans Stretch Short Sleeve Shirts Midi Skirts Women Suede Pumps [SEP] $100.0 [SEP] B09NSC5VDG [SEP] CofeeMO Womens Lingerie Sleep Lounge Everyday Nursing Bras Printed Underwear Seamless Printed Bralette for Sex Naughty Play [SEP] $14.99 [SEP] B09QGK5XHZ [SEP] WENKOMG1 Men\\'s Long Sleeve Undershirt with Mask Turtleneck Hooded T-Shirt Solid Color Workout Tops Zipper Side Slit Shirts Slim Fit Sweatshirt Spring/Summer Tee Shirts(Gray,) [SEP] $8.39 [SEP] B09S632DT3 [SEP] Sleepwear Womens Chemise Nightgown Full Slip Lace Lounge Dress with Briefs Mesh Chemise V Neck Soft Pajama Dress Nightdress [SEP] $11.99 to $14.99 [SEP] B09QXF3V3X [SEP] DEUVOUM Summer Trend Mesh Shoes Men\\'s Sports Shoes Solid Color Lace-Up Sneakers Fashion All-Match Walking Shoes Outdoor Hiking Shoes Non-Slip Shock-Absorbing Casual Sports Shoes [SEP] $100.0\\nAvailable actions in json\\n{\"clickables\": [\"back to search\", \"next >\", \"b09nds8f4v\", \"b09pvnlvrw\", \"b09rv4txkj\", \"b099wx3cv5\", \"b09q37jqz6\", \"b09qpx97vw\", \"b09nsc5vdg\", \"b09qgk5xhz\", \"b09s632dt3\", \"b09qxf3v3x\"], \"has_search_bar\": false}',\n",
       "   'success': False,\n",
       "   'can_proceed': True},\n",
       "  {'output': 'Instruction: [SEP] Find me machine wash men\\'s t-shirts with long sleeve with color: mossy oak country dna, and size: 5x-large big, and price lower than 60.00 dollars [SEP] Back to Search [SEP] < Prev [SEP] color [SEP] black [SEP] red [SEP] yellow [SEP] size [SEP] small [SEP] medium [SEP] large [SEP] x-large [SEP] xx-large [SEP] Women\\'s V-Neck Rompers Printed Jumpsuit Long Sleeve Homewear Butt Flap Pajamas One-Piece Onesies Nightwear Sexy Bodysuit [SEP] Price: $17.4 to $28.67 [SEP] Rating: N.A. [SEP] Description [SEP] Features [SEP] Reviews [SEP] Buy Now\\nAvailable actions in json\\n{\"clickables\": [\"back to search\", \"< prev\", \"description\", \"features\", \"reviews\", \"buy now\", \"black\", \"red\", \"yellow\", \"small\", \"medium\", \"large\", \"x-large\", \"xx-large\"], \"has_search_bar\": false}',\n",
       "   'success': False,\n",
       "   'can_proceed': True},\n",
       "  {'output': 'Thank you for shopping with us! [SEP] Your code: [SEP] None [SEP] (Paste it in your MTurk interface.) [SEP] Purchased [SEP] asin [SEP] B09PVNLVRW [SEP] options [SEP] {} [SEP] attrs [SEP] None [SEP] category [SEP] None [SEP] query [SEP] None [SEP] product category [SEP] None [SEP] Target [SEP] asin [SEP] options [SEP] attrs [SEP] price upper [SEP] instuction text [SEP] category [SEP] product category [SEP] query [SEP] Goal [SEP] None [SEP] Reward [SEP] Your score (min 0.0, max 1.0) [SEP] 0.4 [SEP] Reward Details [SEP] None\\nAvailable actions in json\\n{\"clickables\": [], \"has_search_bar\": false}',\n",
       "   'success': True,\n",
       "   'can_proceed': False}],\n",
       " 'progress': [0.0, 0.0, 0.4]}"
      ]
     },
     "execution_count": 11,
     "metadata": {},
     "output_type": "execute_result"
    }
   ],
   "source": [
    "driver.metrics.export(\n",
    "    repetition_function_kwargs={\"theta_a\": 1, \"num_execution_steps\": 10}\n",
    ")"
   ]
  },
  {
   "cell_type": "code",
   "execution_count": null,
   "metadata": {},
   "outputs": [],
   "source": []
  }
 ],
 "metadata": {
  "kernelspec": {
   "display_name": ".venv",
   "language": "python",
   "name": "python3"
  },
  "language_info": {
   "codemirror_mode": {
    "name": "ipython",
    "version": 3
   },
   "file_extension": ".py",
   "mimetype": "text/x-python",
   "name": "python",
   "nbconvert_exporter": "python",
   "pygments_lexer": "ipython3",
   "version": "3.10.14"
  }
 },
 "nbformat": 4,
 "nbformat_minor": 2
}
