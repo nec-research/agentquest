{
 "cells": [
  {
   "cell_type": "markdown",
   "metadata": {},
   "source": [
    "# Cipher"
   ]
  },
  {
   "cell_type": "markdown",
   "metadata": {},
   "source": [
    "This is the cipher benchmark. For the provided cipher text and encryption algorithm, the agent has to decrypt it and find the plaintext, without the encryption key. This is practically impossible for secure algorithms like AES, but for traditional ciphers with proper tools an agent should be able to do the cipher breaking task. "
   ]
  },
  {
   "cell_type": "markdown",
   "metadata": {},
   "source": [
    "## 1. Caesar Cipher"
   ]
  },
  {
   "cell_type": "code",
   "execution_count": 1,
   "metadata": {},
   "outputs": [
    {
     "data": {
      "text/plain": [
       "'The sky was painted in hues of orange and pink as the sun dipped below the horizon. Birds flew in perfect formation, their synchronized movements a marvel to behold. Evening brought a cool breeze, making the moment feel magical.'"
      ]
     },
     "execution_count": 1,
     "metadata": {},
     "output_type": "execute_result"
    }
   ],
   "source": [
    "from agentquest.benchmarks.cipher import CipherAction, CipherDriver, CipherUtils\n",
    "\n",
    "data = CipherUtils.load_data()\n",
    "data[0]"
   ]
  },
  {
   "cell_type": "code",
   "execution_count": 2,
   "metadata": {},
   "outputs": [
    {
     "name": "stdout",
     "output_type": "stream",
     "text": [
      "You are a deciphering agent. Your task is to decipher a ciphertext produced from a Caesar cipher and return meaningful plain text. Caesar cipher is a type of substitution cipher in which each alphabetical letter in the plaintext is replaced by a letter some fixed number of position shifts down the alphabet. The shift can be either left shift of right shift. The plain texts are always meaningful sentences in English language.\n",
      "Here is the cipher text to decrypt:\n",
      "Ocz nft rvn kvdiozy di cpzn ja jmvibz viy kdif vn ocz npi ydkkzy wzgjr ocz cjmduji. Wdmyn agzr di kzmazxo ajmhvodji, oczdm ntixcmjiduzy hjqzhzion v hvmqzg oj wzcjgy. Zqzidib wmjpbco v xjjg wmzzuz, hvfdib ocz hjhzio azzg hvbdxvg.\n",
      "Your response must be in the following format: \n",
      "Plain Text: <decrypted_text>\n",
      "\n"
     ]
    }
   ],
   "source": [
    "driver = CipherDriver(goal=data[0], algorithm=\"caesar\", match_threshold=0.90)\n",
    "obs = driver.reset()\n",
    "print(obs.output)"
   ]
  },
  {
   "cell_type": "code",
   "execution_count": 3,
   "metadata": {},
   "outputs": [
    {
     "name": "stdout",
     "output_type": "stream",
     "text": [
      "You've won !!!. Cipher text successfully decrypted.\n"
     ]
    }
   ],
   "source": [
    "obs = driver.step(\n",
    "    CipherAction(\n",
    "        value=\"The sky was panted in hues of orange and pink as the sun dipped below the horizon. Birds flew in perfect formation, their synchronized movements a marvel to behold. Evening brought a cool breeze, making the. moment feel magicals.\"\n",
    "    )\n",
    ")\n",
    "print(obs.output)"
   ]
  },
  {
   "cell_type": "code",
   "execution_count": 4,
   "metadata": {},
   "outputs": [
    {
     "data": {
      "text/plain": [
       "{'algorithm': 'caesar',\n",
       " 'cipher_text': 'Ocz nft rvn kvdiozy di cpzn ja jmvibz viy kdif vn ocz npi ydkkzy wzgjr ocz cjmduji. Wdmyn agzr di kzmazxo ajmhvodji, oczdm ntixcmjiduzy hjqzhzion v hvmqzg oj wzcjgy. Zqzidib wmjpbco v xjjg wmzzuz, hvfdib ocz hjhzio azzg hvbdxvg.',\n",
       " 'algorithm_parameters': {'shift': 5, 'shift_direction': 'left'},\n",
       " 'match_threshold': 0.9,\n",
       " 'goal': 'The sky was painted in hues of orange and pink as the sun dipped below the horizon. Birds flew in perfect formation, their synchronized movements a marvel to behold. Evening brought a cool breeze, making the moment feel magical.',\n",
       " 'success': False,\n",
       " 'actions': [{'value': 'The sky was panted in hues of orange and pink as the sun dipped below the horizon. Birds flew in perfect formation, their synchronized movements a marvel to behold. Evening brought a cool breeze, making the. moment feel magicals.'}],\n",
       " 'states': [{'value': 'The sky was panted in hues of orange and pink as the sun dipped below the horizon. Birds flew in perfect formation, their synchronized movements a marvel to behold. Evening brought a cool breeze, making the. moment feel magicals.'}],\n",
       " 'observations': [{'output': \"You've won !!!. Cipher text successfully decrypted.\",\n",
       "   'success': True,\n",
       "   'can_proceed': False}],\n",
       " 'repetition_rate': 0.0,\n",
       " 'progress': [0.993]}"
      ]
     },
     "execution_count": 4,
     "metadata": {},
     "output_type": "execute_result"
    }
   ],
   "source": [
    "driver.metrics.export(\n",
    "    repetition_function_kwargs={\"theta_a\": 1, \"num_execution_steps\": 5}\n",
    ")"
   ]
  },
  {
   "cell_type": "markdown",
   "metadata": {},
   "source": [
    "## 2. Atbash Cipher"
   ]
  },
  {
   "cell_type": "code",
   "execution_count": 5,
   "metadata": {},
   "outputs": [
    {
     "data": {
      "text/plain": [
       "'The sky was painted in hues of orange and pink as the sun dipped below the horizon. Birds flew in perfect formation, their synchronized movements a marvel to behold. Evening brought a cool breeze, making the moment feel magical.'"
      ]
     },
     "execution_count": 5,
     "metadata": {},
     "output_type": "execute_result"
    }
   ],
   "source": [
    "data[0]"
   ]
  },
  {
   "cell_type": "code",
   "execution_count": 6,
   "metadata": {},
   "outputs": [
    {
     "name": "stdout",
     "output_type": "stream",
     "text": [
      "You are a deciphering agent. Your task is to decipher a ciphertext produced from an Atbash cipher and return meaningful plain text. The Atbash cipher is a substitution cipher where each letter of the alphabet is replaced with its reverse counterpart. For example, 'A' becomes 'Z', 'B' becomes 'Y', and so on. The plain texts are always meaningful sentences in the English language.\n",
      "Here is the cipher text to decrypt:\n",
      "Gsv hpb dzh kzrmgvw rm sfvh lu lizmtv zmw krmp zh gsv hfm wrkkvw yvold gsv sliralm. Yriwh uovd rm kviuvxg ulinzgrlm, gsvri hbmxsilmravw nlevnvmgh z nzievo gl yvslow. Vevmrmt yilftsg z xllo yivvav, nzprmt gsv nlnvmg uvvo nztrxzo.\n",
      "Your response must be in the following format: \n",
      "Plain Text: <decrypted_text>\n",
      "\n"
     ]
    }
   ],
   "source": [
    "driver = CipherDriver(goal=data[0], algorithm=\"atbash\", match_threshold=0.90)\n",
    "obs = driver.reset()\n",
    "print(obs.output)"
   ]
  },
  {
   "cell_type": "code",
   "execution_count": 7,
   "metadata": {},
   "outputs": [
    {
     "name": "stdout",
     "output_type": "stream",
     "text": [
      "You've won !!!. Cipher text successfully decrypted.\n"
     ]
    }
   ],
   "source": [
    "obs = driver.step(\n",
    "    CipherAction(\n",
    "        value=\"The sky was panted in hues of orange and pink as the sun dipped below the horizon. Birds flew in perfect formation, their synchronized movements a marvel to behold. Evening brought a cool breeze, making the. moment feel magicals.\"\n",
    "    )\n",
    ")\n",
    "print(obs.output)"
   ]
  },
  {
   "cell_type": "code",
   "execution_count": 8,
   "metadata": {},
   "outputs": [
    {
     "data": {
      "text/plain": [
       "{'algorithm': 'atbash',\n",
       " 'cipher_text': 'Gsv hpb dzh kzrmgvw rm sfvh lu lizmtv zmw krmp zh gsv hfm wrkkvw yvold gsv sliralm. Yriwh uovd rm kviuvxg ulinzgrlm, gsvri hbmxsilmravw nlevnvmgh z nzievo gl yvslow. Vevmrmt yilftsg z xllo yivvav, nzprmt gsv nlnvmg uvvo nztrxzo.',\n",
       " 'algorithm_parameters': {},\n",
       " 'match_threshold': 0.9,\n",
       " 'goal': 'The sky was painted in hues of orange and pink as the sun dipped below the horizon. Birds flew in perfect formation, their synchronized movements a marvel to behold. Evening brought a cool breeze, making the moment feel magical.',\n",
       " 'success': False,\n",
       " 'actions': [{'value': 'The sky was panted in hues of orange and pink as the sun dipped below the horizon. Birds flew in perfect formation, their synchronized movements a marvel to behold. Evening brought a cool breeze, making the. moment feel magicals.'}],\n",
       " 'states': [{'value': 'The sky was panted in hues of orange and pink as the sun dipped below the horizon. Birds flew in perfect formation, their synchronized movements a marvel to behold. Evening brought a cool breeze, making the. moment feel magicals.'}],\n",
       " 'observations': [{'output': \"You've won !!!. Cipher text successfully decrypted.\",\n",
       "   'success': True,\n",
       "   'can_proceed': False}],\n",
       " 'repetition_rate': 0.0,\n",
       " 'progress': [0.993]}"
      ]
     },
     "execution_count": 8,
     "metadata": {},
     "output_type": "execute_result"
    }
   ],
   "source": [
    "driver.metrics.export(\n",
    "    repetition_function_kwargs={\"theta_a\": 1, \"num_execution_steps\": 5}\n",
    ")"
   ]
  },
  {
   "cell_type": "markdown",
   "metadata": {},
   "source": [
    "## Affine Cipher\n",
    "\n",
    "Affine cipher is a substitution cipher where each letter in the alphabet is mapped to another unique letter. The formula is: E(x) = (a * x + b) mod m, where 'a' and 'b' are keys, 'x' is the letter's position in the alphabet, and 'm' is the size of the alphabet (usually 26). Decryption uses the formula: D(x) = a_inv * (x - b) mod m, where 'a_inv' is the modular multiplicative inverse of 'a'. Ensure 'a' is coprime with 26 for the cipher to work."
   ]
  },
  {
   "cell_type": "code",
   "execution_count": 9,
   "metadata": {},
   "outputs": [
    {
     "name": "stdout",
     "output_type": "stream",
     "text": [
      "You are a deciphering agent. Your task is to decipher a ciphertext produced from an Affine cipher without the keys and return meaningful plain text. The Affine cipher is a substitution cipher that uses a mathematical formula to encode letters. The formula is: E(x) = (a * x + b) mod m, where 'a' and 'b' are keys, 'x' is the letter's position in the alphabet, and 'm' is the size of the alphabet (26). The plain texts are always meaningful sentences in the English language.\n",
      "Here is the cipher text to decrypt:\n",
      "Rta cmo ksc jsifral if tgac up unsfea sfl jifm sc rta cgf lijjal habuk rta tuniduf. Hinlc pbak if janpawr punqsriuf, rtain cofwtnufidal quvaqafrc s qsnvab ru hatubl. Avafife hnugetr s wuub hnaada, qsmife rta quqafr paab qseiwsb.\n",
      "Your response must be in the following format: \n",
      "Plain Text: <decrypted_text>\n",
      "\n"
     ]
    }
   ],
   "source": [
    "driver = CipherDriver(goal=data[0], algorithm=\"affine\", match_threshold=0.90)\n",
    "obs = driver.reset()\n",
    "print(obs.output)"
   ]
  },
  {
   "cell_type": "code",
   "execution_count": 10,
   "metadata": {},
   "outputs": [
    {
     "name": "stdout",
     "output_type": "stream",
     "text": [
      "You've won !!!. Cipher text successfully decrypted.\n"
     ]
    }
   ],
   "source": [
    "obs = driver.step(\n",
    "    CipherAction(\n",
    "        value=\"The sky was panted in hues of orange and pink as the sun dipped below the horizon. Birds flew in perfect formation, their synchronized movements a marvel to behold. Evening brought a cool breeze, making the. moment feel magicals.\"\n",
    "    )\n",
    ")\n",
    "print(obs.output)"
   ]
  },
  {
   "cell_type": "code",
   "execution_count": 11,
   "metadata": {},
   "outputs": [
    {
     "data": {
      "text/plain": [
       "{'algorithm': 'affine',\n",
       " 'cipher_text': 'Rta cmo ksc jsifral if tgac up unsfea sfl jifm sc rta cgf lijjal habuk rta tuniduf. Hinlc pbak if janpawr punqsriuf, rtain cofwtnufidal quvaqafrc s qsnvab ru hatubl. Avafife hnugetr s wuub hnaada, qsmife rta quqafr paab qseiwsb.',\n",
       " 'algorithm_parameters': {'a': 15, 'b': 96},\n",
       " 'match_threshold': 0.9,\n",
       " 'goal': 'The sky was painted in hues of orange and pink as the sun dipped below the horizon. Birds flew in perfect formation, their synchronized movements a marvel to behold. Evening brought a cool breeze, making the moment feel magical.',\n",
       " 'success': False,\n",
       " 'actions': [{'value': 'The sky was panted in hues of orange and pink as the sun dipped below the horizon. Birds flew in perfect formation, their synchronized movements a marvel to behold. Evening brought a cool breeze, making the. moment feel magicals.'}],\n",
       " 'states': [{'value': 'The sky was panted in hues of orange and pink as the sun dipped below the horizon. Birds flew in perfect formation, their synchronized movements a marvel to behold. Evening brought a cool breeze, making the. moment feel magicals.'}],\n",
       " 'observations': [{'output': \"You've won !!!. Cipher text successfully decrypted.\",\n",
       "   'success': True,\n",
       "   'can_proceed': False}],\n",
       " 'repetition_rate': 0.0,\n",
       " 'progress': [0.993]}"
      ]
     },
     "execution_count": 11,
     "metadata": {},
     "output_type": "execute_result"
    }
   ],
   "source": [
    "driver.metrics.export(\n",
    "    repetition_function_kwargs={\"theta_a\": 1, \"num_execution_steps\": 5}\n",
    ")"
   ]
  },
  {
   "cell_type": "markdown",
   "metadata": {},
   "source": [
    "## 4. Vigenere Cipher"
   ]
  },
  {
   "cell_type": "code",
   "execution_count": 12,
   "metadata": {},
   "outputs": [
    {
     "name": "stdout",
     "output_type": "stream",
     "text": [
      "You are a deciphering agent. Your task is to decipher a ciphertext produced from a Vigenere cipher without the keys and return meaningful plain text. In Vigenere cipher, the letters of the plaintext is encoded with a different Caesar cipher. Here are the rules of Vigenere cipher. \n",
      "Each letter is right shifted by a number of positions corresponding to the alphabetical index of the corresponding letter in the key. If the key length is less than the length of plain text, the key string is repeated until key and plaintext is equal. A space or non-alphabetical characters are not encrypted and left as they are, but each of such characters still consume a key letter during encryption/decryption.\n",
      "Note: The plain texts are always meaningful sentences in the English language.\n",
      "Here is the cipher text to decrypt:\n",
      "Lcy hms pnk hvcxigx ba smzm dh jknfrw uxs jdgx lk nrt mpg vthkyn dyghj ezz rdtcuha. Tdlnh zgxj tf joghyxm xzjhudxqh, gzpam cnpwckbftrzx bqpzfrfek u bclqxy eg vowqfy. Wgwicxv vmhhysl u rqig ojpwuy, oufbay lcy bqgzgg qwzf bcadvnd.\n",
      "Your response must be in the following format: \n",
      "Plain Text: <decrypted_text>\n",
      "\n"
     ]
    }
   ],
   "source": [
    "driver = CipherDriver(goal=data[0], algorithm=\"vigenere\", match_threshold=0.90)\n",
    "obs = driver.reset()\n",
    "print(obs.output)"
   ]
  },
  {
   "cell_type": "code",
   "execution_count": 13,
   "metadata": {},
   "outputs": [
    {
     "name": "stdout",
     "output_type": "stream",
     "text": [
      "You've won !!!. Cipher text successfully decrypted.\n"
     ]
    }
   ],
   "source": [
    "obs = driver.step(\n",
    "    CipherAction(\n",
    "        value=\"The sky was panted in hues of orange and pink as the sun dipped below the horizon. Birds flew in perfect formation, their synchronized movements a marvel to behold. Evening brought a cool breeze, making the. moment feel magicals.\"\n",
    "    )\n",
    ")\n",
    "print(obs.output)"
   ]
  },
  {
   "cell_type": "code",
   "execution_count": 14,
   "metadata": {},
   "outputs": [
    {
     "data": {
      "text/plain": [
       "{'algorithm': 'vigenere',\n",
       " 'cipher_text': 'Lcy hms pnk hvcxigx ba smzm dh jknfrw uxs jdgx lk nrt mpg vthkyn dyghj ezz rdtcuha. Tdlnh zgxj tf joghyxm xzjhudxqh, gzpam cnpwckbftrzx bqpzfrfek u bclqxy eg vowqfy. Wgwicxv vmhhysl u rqig ojpwuy, oufbay lcy bqgzgg qwzf bcadvnd.',\n",
       " 'algorithm_parameters': {'key': 'svukpcuvtnsl'},\n",
       " 'match_threshold': 0.9,\n",
       " 'goal': 'The sky was painted in hues of orange and pink as the sun dipped below the horizon. Birds flew in perfect formation, their synchronized movements a marvel to behold. Evening brought a cool breeze, making the moment feel magical.',\n",
       " 'success': False,\n",
       " 'actions': [{'value': 'The sky was panted in hues of orange and pink as the sun dipped below the horizon. Birds flew in perfect formation, their synchronized movements a marvel to behold. Evening brought a cool breeze, making the. moment feel magicals.'}],\n",
       " 'states': [{'value': 'The sky was panted in hues of orange and pink as the sun dipped below the horizon. Birds flew in perfect formation, their synchronized movements a marvel to behold. Evening brought a cool breeze, making the. moment feel magicals.'}],\n",
       " 'observations': [{'output': \"You've won !!!. Cipher text successfully decrypted.\",\n",
       "   'success': True,\n",
       "   'can_proceed': False}],\n",
       " 'repetition_rate': 0.0,\n",
       " 'progress': [0.993]}"
      ]
     },
     "execution_count": 14,
     "metadata": {},
     "output_type": "execute_result"
    }
   ],
   "source": [
    "driver.metrics.export(\n",
    "    repetition_function_kwargs={\"theta_a\": 1, \"num_execution_steps\": 5}\n",
    ")"
   ]
  },
  {
   "cell_type": "markdown",
   "metadata": {},
   "source": [
    "## 5. RailFence Cipher"
   ]
  },
  {
   "cell_type": "code",
   "execution_count": 15,
   "metadata": {},
   "outputs": [
    {
     "name": "stdout",
     "output_type": "stream",
     "text": [
      "You are a deciphering agent. Your task is to decipher a ciphertext produced from a RailFence cipher and return meaningful plain text. The RailFence cipher is a transposition cipher that encrypts by writing the plaintext in a zigzag pattern across multiple rows (or rails), then reading it row by row. Note: The plain texts are always meaningful sentences in the English language.\n",
      "Here is the cipher text to decrypt:\n",
      "Tdeshfrcsltaehe g  ute lomnht odh mkfeetinaen  sefayrnah.ga i l nnanh whdw tsoe e u ,nt si rdtdoor ti nmmbEocegnmkaho  ilriicoriea vroz eaypu pspeiBnenizvroeboetmg  efiapbz  f,eeovtn lehoi.wsson e o.pr hdme ig remcla kdnet lnb a\n",
      "Your response must be in the following format: \n",
      "Plain Text: <decrypted_text>\n",
      "\n"
     ]
    }
   ],
   "source": [
    "driver = CipherDriver(goal=data[0], algorithm=\"railfence\", match_threshold=0.90)\n",
    "obs = driver.reset()\n",
    "print(obs.output)"
   ]
  },
  {
   "cell_type": "code",
   "execution_count": 16,
   "metadata": {},
   "outputs": [
    {
     "name": "stdout",
     "output_type": "stream",
     "text": [
      "Wrong answer!!! The text does not match with the original plain text. Try again.\n",
      "You've won !!!. Cipher text successfully decrypted.\n"
     ]
    }
   ],
   "source": [
    "obs = driver.step(\n",
    "    CipherAction(\n",
    "        value=\"The sky was panted in hues of orange and pink as the sun dipped below the horizon.\"\n",
    "    )\n",
    ")\n",
    "print(obs.output)\n",
    "\n",
    "obs = driver.step(\n",
    "    CipherAction(\n",
    "        value=\"The sky was panted in hues of orange and pink as the sun dipped below the horizon. Birds flew in perfect formation, their synchronized movements a marvel to behold. Evening brought a cool breeze, making the. moment feel magicals.\"\n",
    "    )\n",
    ")\n",
    "print(obs.output)"
   ]
  },
  {
   "cell_type": "code",
   "execution_count": 17,
   "metadata": {},
   "outputs": [
    {
     "data": {
      "text/plain": [
       "{'algorithm': 'railfence',\n",
       " 'cipher_text': 'Tdeshfrcsltaehe g  ute lomnht odh mkfeetinaen  sefayrnah.ga i l nnanh whdw tsoe e u ,nt si rdtdoor ti nmmbEocegnmkaho  ilriicoriea vroz eaypu pspeiBnenizvroeboetmg  efiapbz  f,eeovtn lehoi.wsson e o.pr hdme ig remcla kdnet lnb a',\n",
       " 'algorithm_parameters': {'num_rails': 10},\n",
       " 'match_threshold': 0.9,\n",
       " 'goal': 'The sky was painted in hues of orange and pink as the sun dipped below the horizon. Birds flew in perfect formation, their synchronized movements a marvel to behold. Evening brought a cool breeze, making the moment feel magical.',\n",
       " 'success': False,\n",
       " 'actions': [{'value': 'The sky was panted in hues of orange and pink as the sun dipped below the horizon.'},\n",
       "  {'value': 'The sky was panted in hues of orange and pink as the sun dipped below the horizon. Birds flew in perfect formation, their synchronized movements a marvel to behold. Evening brought a cool breeze, making the. moment feel magicals.'}],\n",
       " 'states': [{'value': 'The sky was panted in hues of orange and pink as the sun dipped below the horizon.'},\n",
       "  {'value': 'The sky was panted in hues of orange and pink as the sun dipped below the horizon. Birds flew in perfect formation, their synchronized movements a marvel to behold. Evening brought a cool breeze, making the. moment feel magicals.'}],\n",
       " 'observations': [{'output': 'Wrong answer!!! The text does not match with the original plain text. Try again.',\n",
       "   'success': False,\n",
       "   'can_proceed': True},\n",
       "  {'output': \"You've won !!!. Cipher text successfully decrypted.\",\n",
       "   'success': True,\n",
       "   'can_proceed': False}],\n",
       " 'repetition_rate': 0.0,\n",
       " 'progress': [0.529, 0.993]}"
      ]
     },
     "execution_count": 17,
     "metadata": {},
     "output_type": "execute_result"
    }
   ],
   "source": [
    "driver.metrics.export(\n",
    "    repetition_function_kwargs={\"theta_a\": 1, \"num_execution_steps\": 5}\n",
    ")"
   ]
  },
  {
   "cell_type": "markdown",
   "metadata": {},
   "source": [
    "## 6. ADFGVX Cipher"
   ]
  },
  {
   "cell_type": "code",
   "execution_count": 18,
   "metadata": {},
   "outputs": [
    {
     "name": "stdout",
     "output_type": "stream",
     "text": [
      "THESKYWASPAINTEDINHUESOFORANGEANDPINKASTHESUNDIPPEDBELOWTHEHORIZONBIRDSFLEWINPERFECTFORMATIONTHEIRSYNCHRONIZEDMOVEMENTSAMARVELTOBEHOLDEVENINGBROUGHTACOOLBREEZEMAKINGTHEMOMENTFEELMAGICAL\n"
     ]
    }
   ],
   "source": [
    "plain_text = data[0]\n",
    "plain_text = \"\".join(\n",
    "    ch for ch in plain_text if (ch.isalpha() or ch.isnumeric())\n",
    ").upper()\n",
    "print(plain_text)"
   ]
  },
  {
   "cell_type": "code",
   "execution_count": 19,
   "metadata": {},
   "outputs": [
    {
     "name": "stdout",
     "output_type": "stream",
     "text": [
      "You are a deciphering agent. Your task is to decipher a ciphertext produced from an ADFGVX cipher. This cipher uses a 6x6 substitution grid and a transposition step, making it more complex than simple substitution ciphers.\n",
      "Here is the cipher text to decrypt:\n",
      "GVAAFVDGDAFVAGDVFFXFDGVXFFDGGAGGDFDVDVFXAFGGDFFDAAGDAAFGGFFVVFFXXGFDGXGFAGVFXDGXGGGAXDFVFFDVVFVXGFFGVFVVFFFVVXDFGXFVVFVFDFAAFXXVFFFDAFDFXFFGDFFGVFDDXGDFDFFFXGGAVFFADFXGFFAGGGFFFVAFVFFAGXVAXXGFVAGGVXGVAFXDGVGADFFFDDDVFVFVVGDGVVVAVDFAFDAVGDDVFVVDDFGVDVAFDGDDVDFGADGXFFVVFGVDXXDVVVGDADGAVDGVVFDGDGGGVDFDDGGDVVDVDXVGVVVFAGVGGFVVAFDDXDVGFADGVDGVGVVGVFFADAVDGVFDGVGVGVAVGVGGDVFF\n",
      "Your response must be in the following format: \n",
      "Plain Text: <decrypted_text>\n",
      "\n"
     ]
    }
   ],
   "source": [
    "driver = CipherDriver(goal=plain_text, algorithm=\"adfgvx\", match_threshold=0.90)\n",
    "obs = driver.reset()\n",
    "print(obs.output)"
   ]
  },
  {
   "cell_type": "code",
   "execution_count": 21,
   "metadata": {},
   "outputs": [
    {
     "name": "stdout",
     "output_type": "stream",
     "text": [
      "Wrong answer!!! The text does not match with the original plain text. Try again.\n",
      "You've won !!!. Cipher text successfully decrypted.\n"
     ]
    }
   ],
   "source": [
    "obs = driver.step(\n",
    "    CipherAction(\n",
    "        value=\"The sky was panted in hues of orange and pink as the sun dipped below the horizon.\"\n",
    "    )\n",
    ")\n",
    "print(obs.output)\n",
    "\n",
    "obs = driver.step(\n",
    "    CipherAction(\n",
    "        value=\"THESKYWASPAINTEDINHUESOFORANGEANDPINKASTHESUNDIPPEDBELOWTHEHORIZONBIRDSFLEWINPERFECTFORMATIONTHEIRSYNCHRONIZEDMOVEMENTSAMARVELTOBEHOLDEVENINGBROUGHTACOOLBREEZEMAKINGTHEMOMENTFEELMAGICAL.\"\n",
    "    )\n",
    ")\n",
    "print(obs.output)"
   ]
  },
  {
   "cell_type": "code",
   "execution_count": 22,
   "metadata": {},
   "outputs": [
    {
     "data": {
      "text/plain": [
       "{'algorithm': 'adfgvx',\n",
       " 'cipher_text': 'GVAAFVDGDAFVAGDVFFXFDGVXFFDGGAGGDFDVDVFXAFGGDFFDAAGDAAFGGFFVVFFXXGFDGXGFAGVFXDGXGGGAXDFVFFDVVFVXGFFGVFVVFFFVVXDFGXFVVFVFDFAAFXXVFFFDAFDFXFFGDFFGVFDDXGDFDFFFXGGAVFFADFXGFFAGGGFFFVAFVFFAGXVAXXGFVAGGVXGVAFXDGVGADFFFDDDVFVFVVGDGVVVAVDFAFDAVGDDVFVVDDFGVDVAFDGDDVDFGADGXFFVVFGVDXXDVVVGDADGAVDGVVFDGDGGGVDFDDGGDVVDVDXVGVVVFAGVGGFVVAFDDXDVGFADGVDGVGVVGVFFADAVDGVFDGVGVGVAVGVGGDVFF',\n",
       " 'algorithm_parameters': {'key': 'ZJQGA4UFD5R89ELNTX3C7OHPV0IKM1SB62YW',\n",
       "  'grid_key': 'DECODE'},\n",
       " 'match_threshold': 0.9,\n",
       " 'goal': 'THESKYWASPAINTEDINHUESOFORANGEANDPINKASTHESUNDIPPEDBELOWTHEHORIZONBIRDSFLEWINPERFECTFORMATIONTHEIRSYNCHRONIZEDMOVEMENTSAMARVELTOBEHOLDEVENINGBROUGHTACOOLBREEZEMAKINGTHEMOMENTFEELMAGICAL',\n",
       " 'success': False,\n",
       " 'actions': [{'value': 'The sky was panted in hues of orange and pink as the sun dipped below the horizon.'},\n",
       "  {'value': 'The sky was panted in hues of orange and pink as the sun dipped below the horizon. Birds flew in perfect formation, their synchronized movements a marvel to behold. Evening brought a cool breeze, making the. moment feel magicals.'},\n",
       "  {'value': 'The sky was panted in hues of orange and pink as the sun dipped below the horizon.'},\n",
       "  {'value': 'THESKYWASPAINTEDINHUESOFORANGEANDPINKASTHESUNDIPPEDBELOWTHEHORIZONBIRDSFLEWINPERFECTFORMATIONTHEIRSYNCHRONIZEDMOVEMENTSAMARVELTOBEHOLDEVENINGBROUGHTACOOLBREEZEMAKINGTHEMOMENTFEELMAGICAL.'}],\n",
       " 'states': [{'value': 'The sky was panted in hues of orange and pink as the sun dipped below the horizon.'},\n",
       "  {'value': 'The sky was panted in hues of orange and pink as the sun dipped below the horizon. Birds flew in perfect formation, their synchronized movements a marvel to behold. Evening brought a cool breeze, making the. moment feel magicals.'},\n",
       "  {'value': 'The sky was panted in hues of orange and pink as the sun dipped below the horizon.'},\n",
       "  {'value': 'THESKYWASPAINTEDINHUESOFORANGEANDPINKASTHESUNDIPPEDBELOWTHEHORIZONBIRDSFLEWINPERFECTFORMATIONTHEIRSYNCHRONIZEDMOVEMENTSAMARVELTOBEHOLDEVENINGBROUGHTACOOLBREEZEMAKINGTHEMOMENTFEELMAGICAL.'}],\n",
       " 'observations': [{'output': 'Wrong answer!!! The text does not match with the original plain text. Try again.',\n",
       "   'success': False,\n",
       "   'can_proceed': True},\n",
       "  {'output': 'Wrong answer!!! The text does not match with the original plain text. Try again.',\n",
       "   'success': False,\n",
       "   'can_proceed': True},\n",
       "  {'output': 'Wrong answer!!! The text does not match with the original plain text. Try again.',\n",
       "   'success': False,\n",
       "   'can_proceed': True},\n",
       "  {'output': \"You've won !!!. Cipher text successfully decrypted.\",\n",
       "   'success': True,\n",
       "   'can_proceed': False}],\n",
       " 'repetition_rate': 0.25,\n",
       " 'progress': [0.007, 0.014, 0.007, 0.997]}"
      ]
     },
     "execution_count": 22,
     "metadata": {},
     "output_type": "execute_result"
    }
   ],
   "source": [
    "driver.metrics.export(\n",
    "    repetition_function_kwargs={\"theta_a\": 1, \"num_execution_steps\": 5}\n",
    ")"
   ]
  },
  {
   "cell_type": "code",
   "execution_count": null,
   "metadata": {},
   "outputs": [],
   "source": []
  }
 ],
 "metadata": {
  "kernelspec": {
   "display_name": ".venv",
   "language": "python",
   "name": "python3"
  },
  "language_info": {
   "codemirror_mode": {
    "name": "ipython",
    "version": 3
   },
   "file_extension": ".py",
   "mimetype": "text/x-python",
   "name": "python",
   "nbconvert_exporter": "python",
   "pygments_lexer": "ipython3",
   "version": "3.10.14"
  }
 },
 "nbformat": 4,
 "nbformat_minor": 2
}
