{
 "cells": [
  {
   "cell_type": "markdown",
   "metadata": {},
   "source": [
    "### GAIA\n",
    "\n",
    "Example code for GAIA"
   ]
  },
  {
   "cell_type": "code",
   "execution_count": 1,
   "metadata": {},
   "outputs": [
    {
     "name": "stderr",
     "output_type": "stream",
     "text": [
      "/home/bgautam/ai_quest_project/agentquest/.venv/lib/python3.10/site-packages/tqdm/auto.py:21: TqdmWarning: IProgress not found. Please update jupyter and ipywidgets. See https://ipywidgets.readthedocs.io/en/stable/user_install.html\n",
      "  from .autonotebook import tqdm as notebook_tqdm\n"
     ]
    }
   ],
   "source": [
    "from agentquest.benchmarks.gaia import GaiaDriver, GaiaUtils, GaiaAction"
   ]
  },
  {
   "cell_type": "code",
   "execution_count": 2,
   "metadata": {},
   "outputs": [],
   "source": [
    "# valid_categories = [\"2023_all\", \"2023_level1\", \"2023_level2\", \"2023_level3\"]\n",
    "# valid_splits = [\"validation\", \"test\", \"all\"]\n",
    "dataset = GaiaUtils.load_data(category=\"2023_all\", split=\"validation\")"
   ]
  },
  {
   "cell_type": "markdown",
   "metadata": {},
   "source": [
    "### Non-interactive mode\n",
    "This is basically, the agent has one shot to give the answer."
   ]
  },
  {
   "cell_type": "code",
   "execution_count": 11,
   "metadata": {},
   "outputs": [
    {
     "name": "stdout",
     "output_type": "stream",
     "text": [
      "{'task_id': 'c61d22de-5f6c-4958-a7f6-5e9707bd3466', 'Question': 'A paper about AI regulation that was originally submitted to arXiv.org in June 2022 shows a figure with three axes, where each axis has a label word at both ends. Which of these words is used to describe a type of society in a Physics and Society article submitted to arXiv.org on August 11, 2016?', 'Level': '2', 'Final answer': 'egalitarian', 'file_name': '', 'file_path': '', 'Annotator Metadata': {'Steps': '1. Go to arxiv.org and navigate to the Advanced Search page.\\n2. Enter \"AI regulation\" in the search box and select \"All fields\" from the dropdown.\\n3. Enter 2022-06-01 and 2022-07-01 into the date inputs, select \"Submission date (original)\", and submit the search.\\n4. Go through the search results to find the article that has a figure with three axes and labels on each end of the axes, titled \"Fairness in Agreement With European Values: An Interdisciplinary Perspective on AI Regulation\".\\n5. Note the six words used as labels: deontological, egalitarian, localized, standardized, utilitarian, and consequential.\\n6. Go back to arxiv.org\\n7. Find \"Physics and Society\" and go to the page for the \"Physics and Society\" category.\\n8. Note that the tag for this category is \"physics.soc-ph\".\\n9. Go to the Advanced Search page.\\n10. Enter \"physics.soc-ph\" in the search box and select \"All fields\" from the dropdown.\\n11. Enter 2016-08-11 and 2016-08-12 into the date inputs, select \"Submission date (original)\", and submit the search.\\n12. Search for instances of the six words in the results to find the paper titled \"Phase transition from egalitarian to hierarchical societies driven by competition between cognitive and social constraints\", indicating that \"egalitarian\" is the correct answer.', 'Number of steps': '12', 'How long did this take?': '8 minutes', 'Tools': '1. Web browser\\n2. Image recognition tools (to identify and parse a figure with three axes)', 'Number of tools': '2'}}\n",
      "A paper about AI regulation that was originally submitted to arXiv.org in June 2022 shows a figure with three axes, where each axis has a label word at both ends. Which of these words is used to describe a type of society in a Physics and Society article submitted to arXiv.org on August 11, 2016?\n",
      "Your response must in the following format \n",
      "Answer: <answer>\n",
      "\n"
     ]
    },
    {
     "name": "stdout",
     "output_type": "stream",
     "text": [
      "2025-01-08 15:36 - WARNING - Exception encountered: Could not parse agent output. Make sure it is in the format: `Answer: <Answer>\\n`\n",
      "Could not parse agent output. Make sure it is in the format: `Answer: <Answer>\\n`\n",
      "2025-01-08 15:36 - WARNING - Exception encountered: Metrics.get_repetition_rate() missing 1 required positional argument: 'num_execution_steps'. Unable to calculate repetition rate.\n",
      "{'task_id': '17b5a6a3-bc87-42e8-b0fb-6ab0781ef2cc', 'Question': 'I’m researching species that became invasive after people who kept them as pets released them. There’s a certain species of fish that was popularized as a pet by being the main character of the movie Finding Nemo. According to the USGS, where was this fish found as a nonnative species, before the year 2020? I need the answer formatted as the five-digit zip codes of the places the species was found, separated by commas if there is more than one place.', 'Level': '2', 'Final answer': '34689', 'file_name': '', 'file_path': '', 'Annotator Metadata': {'Steps': '1. Search the web for “finding nemo main character”.\\n2. Note the results, which state that the main character is a clownfish.\\n3. Search the web for “usgs nonnative species database”.\\n4. Click result for the Nonindigenous Aquatic Species site.\\n5. Click “Marine Fishes”.\\n6. Click “Species List of Nonindigenous Marine Fish”.\\n7. Scroll through the list until I find the clown anenomefish, and click “Collection info”.\\n8. Note the place that a clown anenomefish was found, in Fred Howard Park at the Gulf of Mexico.\\n9. Search the web for “fred howard park florida zip code”.\\n10. Note the zip code, 34689. Since only one clownfish was found before the year 2020, this is the answer.', 'Number of steps': '10', 'How long did this take?': '5 minutes', 'Tools': '1. Search engine\\n2. Web browser', 'Number of tools': '2'}}\n",
      "I’m researching species that became invasive after people who kept them as pets released them. There’s a certain species of fish that was popularized as a pet by being the main character of the movie Finding Nemo. According to the USGS, where was this fish found as a nonnative species, before the year 2020? I need the answer formatted as the five-digit zip codes of the places the species was found, separated by commas if there is more than one place.\n",
      "Your response must in the following format \n",
      "Answer: <answer>\n",
      "\n",
      "Evaluating egalitarian as a number.\n",
      "String egalitarian cannot be normalized to number str.\n",
      "Wrong answer!!!\n",
      "2025-01-08 15:36 - WARNING - Exception encountered: Metrics.get_repetition_rate() missing 1 required positional argument: 'num_execution_steps'. Unable to calculate repetition rate.\n",
      "2025-01-08 15:36 - WARNING - Exception encountered: . Unable to calculate progress rate.\n",
      "{'task_id': '04a04a9b-226c-43fd-b319-d5e89743676f', 'Question': 'If we assume all articles published by Nature in 2020 (articles, only, not book reviews/columns, etc) relied on statistical significance to justify their findings and they on average came to a p-value of 0.04, how many papers would be incorrect as to their claims of statistical significance? Round the value up to the next integer.', 'Level': '2', 'Final answer': '41', 'file_name': '', 'file_path': '', 'Annotator Metadata': {'Steps': '1. Find how many articles were published in Nature in 2020 by Googling \"articles submitted to nature 2020\"\\n2. Click through to Nature\\'s archive for 2020 and filter the results to only provide articles, not other types of publications: 1002\\n3. Find 4% of 1002 and round up: 40.08 > 41', 'Number of steps': '3', 'How long did this take?': '5 minutes', 'Tools': '1. search engine\\n2. calculator', 'Number of tools': '2'}}\n",
      "If we assume all articles published by Nature in 2020 (articles, only, not book reviews/columns, etc) relied on statistical significance to justify their findings and they on average came to a p-value of 0.04, how many papers would be incorrect as to their claims of statistical significance? Round the value up to the next integer.\n",
      "Your response must in the following format \n",
      "Answer: <answer>\n",
      "\n",
      "2025-01-08 15:36 - WARNING - Exception encountered: Could not parse agent output. Make sure it is in the format: `Answer: <Answer>\\n`\n",
      "Could not parse agent output. Make sure it is in the format: `Answer: <Answer>\\n`\n",
      "2025-01-08 15:36 - WARNING - Exception encountered: Metrics.get_repetition_rate() missing 1 required positional argument: 'num_execution_steps'. Unable to calculate repetition rate.\n",
      "{'task_id': '14569e28-c88c-43e4-8c32-097d35b9a67d', 'Question': 'In Unlambda, what exact charcter or text needs to be added to correct the following code to output \"For penguins\"? If what is needed is a character, answer with the name of the character. If there are different names for the character, use the shortest. The text location is not needed. Code:\\n\\n`r```````````.F.o.r. .p.e.n.g.u.i.n.si', 'Level': '2', 'Final answer': 'backtick', 'file_name': '', 'file_path': '', 'Annotator Metadata': {'Steps': '1. Searched \"Unlambda syntax\" online (optional).\\n2. Opened https://en.wikipedia.org/wiki/Unlambda.\\n3. Note that the hello world program is very similar in syntax to the code in this question.\\n4. Go to the source referenced by the hello world program.\\n5. From the referenced source, read what the components of the program do to understand that each period needs a backtick after the initial `r.\\n6. Observe that in the given code, there are 12 periods but only 11 backticks after the initial `r, so the missing character is a backtick.', 'Number of steps': '6', 'How long did this take?': '15 minutes', 'Tools': '1. Web browser\\n2. Search engine\\n3. Unlambda compiler (optional)', 'Number of tools': '3'}}\n",
      "In Unlambda, what exact charcter or text needs to be added to correct the following code to output \"For penguins\"? If what is needed is a character, answer with the name of the character. If there are different names for the character, use the shortest. The text location is not needed. Code:\n",
      "\n",
      "`r```````````.F.o.r. .p.e.n.g.u.i.n.si\n",
      "Your response must in the following format \n",
      "Answer: <answer>\n",
      "\n"
     ]
    },
    {
     "ename": "KeyboardInterrupt",
     "evalue": "Interrupted by user",
     "output_type": "error",
     "traceback": [
      "\u001b[0;31m---------------------------------------------------------------------------\u001b[0m",
      "\u001b[0;31mKeyboardInterrupt\u001b[0m                         Traceback (most recent call last)",
      "Cell \u001b[0;32mIn[11], line 14\u001b[0m\n\u001b[1;32m     12\u001b[0m obs \u001b[38;5;241m=\u001b[39m driver\u001b[38;5;241m.\u001b[39mreset()\n\u001b[1;32m     13\u001b[0m \u001b[38;5;28mprint\u001b[39m(obs\u001b[38;5;241m.\u001b[39moutput)\n\u001b[0;32m---> 14\u001b[0m human_input \u001b[38;5;241m=\u001b[39m \u001b[38;5;28;43minput\u001b[39;49m\u001b[43m(\u001b[49m\u001b[43mobs\u001b[49m\u001b[38;5;241;43m.\u001b[39;49m\u001b[43moutput\u001b[49m\u001b[43m)\u001b[49m  \u001b[38;5;66;03m# Can be replaced by agent input\u001b[39;00m\n\u001b[1;32m     15\u001b[0m \u001b[38;5;66;03m# obs = driver.step(GaiaAction(value=str(human_input)))\u001b[39;00m\n\u001b[1;32m     16\u001b[0m obs \u001b[38;5;241m=\u001b[39m driver\u001b[38;5;241m.\u001b[39mstep_raw(\u001b[38;5;28mstr\u001b[39m(human_input))\n",
      "File \u001b[0;32m~/ai_quest_project/agentquest/.venv/lib/python3.10/site-packages/ipykernel/kernelbase.py:1282\u001b[0m, in \u001b[0;36mKernel.raw_input\u001b[0;34m(self, prompt)\u001b[0m\n\u001b[1;32m   1280\u001b[0m     msg \u001b[38;5;241m=\u001b[39m \u001b[38;5;124m\"\u001b[39m\u001b[38;5;124mraw_input was called, but this frontend does not support input requests.\u001b[39m\u001b[38;5;124m\"\u001b[39m\n\u001b[1;32m   1281\u001b[0m     \u001b[38;5;28;01mraise\u001b[39;00m StdinNotImplementedError(msg)\n\u001b[0;32m-> 1282\u001b[0m \u001b[38;5;28;01mreturn\u001b[39;00m \u001b[38;5;28;43mself\u001b[39;49m\u001b[38;5;241;43m.\u001b[39;49m\u001b[43m_input_request\u001b[49m\u001b[43m(\u001b[49m\n\u001b[1;32m   1283\u001b[0m \u001b[43m    \u001b[49m\u001b[38;5;28;43mstr\u001b[39;49m\u001b[43m(\u001b[49m\u001b[43mprompt\u001b[49m\u001b[43m)\u001b[49m\u001b[43m,\u001b[49m\n\u001b[1;32m   1284\u001b[0m \u001b[43m    \u001b[49m\u001b[38;5;28;43mself\u001b[39;49m\u001b[38;5;241;43m.\u001b[39;49m\u001b[43m_parent_ident\u001b[49m\u001b[43m[\u001b[49m\u001b[38;5;124;43m\"\u001b[39;49m\u001b[38;5;124;43mshell\u001b[39;49m\u001b[38;5;124;43m\"\u001b[39;49m\u001b[43m]\u001b[49m\u001b[43m,\u001b[49m\n\u001b[1;32m   1285\u001b[0m \u001b[43m    \u001b[49m\u001b[38;5;28;43mself\u001b[39;49m\u001b[38;5;241;43m.\u001b[39;49m\u001b[43mget_parent\u001b[49m\u001b[43m(\u001b[49m\u001b[38;5;124;43m\"\u001b[39;49m\u001b[38;5;124;43mshell\u001b[39;49m\u001b[38;5;124;43m\"\u001b[39;49m\u001b[43m)\u001b[49m\u001b[43m,\u001b[49m\n\u001b[1;32m   1286\u001b[0m \u001b[43m    \u001b[49m\u001b[43mpassword\u001b[49m\u001b[38;5;241;43m=\u001b[39;49m\u001b[38;5;28;43;01mFalse\u001b[39;49;00m\u001b[43m,\u001b[49m\n\u001b[1;32m   1287\u001b[0m \u001b[43m\u001b[49m\u001b[43m)\u001b[49m\n",
      "File \u001b[0;32m~/ai_quest_project/agentquest/.venv/lib/python3.10/site-packages/ipykernel/kernelbase.py:1325\u001b[0m, in \u001b[0;36mKernel._input_request\u001b[0;34m(self, prompt, ident, parent, password)\u001b[0m\n\u001b[1;32m   1322\u001b[0m \u001b[38;5;28;01mexcept\u001b[39;00m \u001b[38;5;167;01mKeyboardInterrupt\u001b[39;00m:\n\u001b[1;32m   1323\u001b[0m     \u001b[38;5;66;03m# re-raise KeyboardInterrupt, to truncate traceback\u001b[39;00m\n\u001b[1;32m   1324\u001b[0m     msg \u001b[38;5;241m=\u001b[39m \u001b[38;5;124m\"\u001b[39m\u001b[38;5;124mInterrupted by user\u001b[39m\u001b[38;5;124m\"\u001b[39m\n\u001b[0;32m-> 1325\u001b[0m     \u001b[38;5;28;01mraise\u001b[39;00m \u001b[38;5;167;01mKeyboardInterrupt\u001b[39;00m(msg) \u001b[38;5;28;01mfrom\u001b[39;00m \u001b[38;5;28;01mNone\u001b[39;00m\n\u001b[1;32m   1326\u001b[0m \u001b[38;5;28;01mexcept\u001b[39;00m \u001b[38;5;167;01mException\u001b[39;00m:\n\u001b[1;32m   1327\u001b[0m     \u001b[38;5;28mself\u001b[39m\u001b[38;5;241m.\u001b[39mlog\u001b[38;5;241m.\u001b[39mwarning(\u001b[38;5;124m\"\u001b[39m\u001b[38;5;124mInvalid Message:\u001b[39m\u001b[38;5;124m\"\u001b[39m, exc_info\u001b[38;5;241m=\u001b[39m\u001b[38;5;28;01mTrue\u001b[39;00m)\n",
      "\u001b[0;31mKeyboardInterrupt\u001b[0m: Interrupted by user"
     ]
    }
   ],
   "source": [
    "accumulated_metrics = []\n",
    "for problem in dataset.to_dict(orient=\"records\"):\n",
    "    print(problem)\n",
    "    if problem.get(\"file_name\", \"\"):\n",
    "        extra_filepath = GaiaUtils.get_filepath(problem.get(\"file_name\", \"\"))\n",
    "        # This is left for the agent developer to work with the multimodal file input.\n",
    "        print(\"File path for the problem: \", extra_filepath)\n",
    "\n",
    "    driver = GaiaDriver(\n",
    "        problem=problem[\"Question\"], goal=problem[\"Final answer\"], interactive=False\n",
    "    )\n",
    "    obs = driver.reset()\n",
    "    print(obs.output)\n",
    "    human_input = input(obs.output)  # Can be replaced by agent input\n",
    "    # obs = driver.step(GaiaAction(value=str(human_input)))\n",
    "    obs = driver.step_raw(str(human_input))\n",
    "    print(obs.output)\n",
    "    accumulated_metrics.append(driver.metrics.export())"
   ]
  },
  {
   "cell_type": "code",
   "execution_count": 12,
   "metadata": {},
   "outputs": [
    {
     "data": {
      "text/plain": [
       "[{'problem': 'A paper about AI regulation that was originally submitted to arXiv.org in June 2022 shows a figure with three axes, where each axis has a label word at both ends. Which of these words is used to describe a type of society in a Physics and Society article submitted to arXiv.org on August 11, 2016?',\n",
       "  'goal': 'egalitarian',\n",
       "  'success': False,\n",
       "  'actions': [],\n",
       "  'states': [],\n",
       "  'observations': [],\n",
       "  'progress': []},\n",
       " {'problem': 'I’m researching species that became invasive after people who kept them as pets released them. There’s a certain species of fish that was popularized as a pet by being the main character of the movie Finding Nemo. According to the USGS, where was this fish found as a nonnative species, before the year 2020? I need the answer formatted as the five-digit zip codes of the places the species was found, separated by commas if there is more than one place.',\n",
       "  'goal': '34689',\n",
       "  'success': False,\n",
       "  'actions': [{'value': 'egalitarian'}],\n",
       "  'states': [{'value': 'egalitarian'}],\n",
       "  'observations': [{'output': 'Wrong answer!!!',\n",
       "    'success': False,\n",
       "    'can_proceed': False}]},\n",
       " {'problem': 'If we assume all articles published by Nature in 2020 (articles, only, not book reviews/columns, etc) relied on statistical significance to justify their findings and they on average came to a p-value of 0.04, how many papers would be incorrect as to their claims of statistical significance? Round the value up to the next integer.',\n",
       "  'goal': '41',\n",
       "  'success': False,\n",
       "  'actions': [],\n",
       "  'states': [],\n",
       "  'observations': [],\n",
       "  'progress': []}]"
      ]
     },
     "execution_count": 12,
     "metadata": {},
     "output_type": "execute_result"
    }
   ],
   "source": [
    "accumulated_metrics"
   ]
  },
  {
   "cell_type": "markdown",
   "metadata": {},
   "source": [
    "### Interactive mode. \n",
    "The agent has multiple shots for one problem."
   ]
  },
  {
   "cell_type": "code",
   "execution_count": 13,
   "metadata": {},
   "outputs": [
    {
     "name": "stdout",
     "output_type": "stream",
     "text": [
      "{'task_id': 'c61d22de-5f6c-4958-a7f6-5e9707bd3466', 'Question': 'A paper about AI regulation that was originally submitted to arXiv.org in June 2022 shows a figure with three axes, where each axis has a label word at both ends. Which of these words is used to describe a type of society in a Physics and Society article submitted to arXiv.org on August 11, 2016?', 'Level': '2', 'Final answer': 'egalitarian', 'file_name': '', 'file_path': '', 'Annotator Metadata': {'Steps': '1. Go to arxiv.org and navigate to the Advanced Search page.\\n2. Enter \"AI regulation\" in the search box and select \"All fields\" from the dropdown.\\n3. Enter 2022-06-01 and 2022-07-01 into the date inputs, select \"Submission date (original)\", and submit the search.\\n4. Go through the search results to find the article that has a figure with three axes and labels on each end of the axes, titled \"Fairness in Agreement With European Values: An Interdisciplinary Perspective on AI Regulation\".\\n5. Note the six words used as labels: deontological, egalitarian, localized, standardized, utilitarian, and consequential.\\n6. Go back to arxiv.org\\n7. Find \"Physics and Society\" and go to the page for the \"Physics and Society\" category.\\n8. Note that the tag for this category is \"physics.soc-ph\".\\n9. Go to the Advanced Search page.\\n10. Enter \"physics.soc-ph\" in the search box and select \"All fields\" from the dropdown.\\n11. Enter 2016-08-11 and 2016-08-12 into the date inputs, select \"Submission date (original)\", and submit the search.\\n12. Search for instances of the six words in the results to find the paper titled \"Phase transition from egalitarian to hierarchical societies driven by competition between cognitive and social constraints\", indicating that \"egalitarian\" is the correct answer.', 'Number of steps': '12', 'How long did this take?': '8 minutes', 'Tools': '1. Web browser\\n2. Image recognition tools (to identify and parse a figure with three axes)', 'Number of tools': '2'}}\n",
      "Evaluating egalitarian as a string.\n",
      "Correct answer!!!\n",
      "2025-01-08 15:37 - WARNING - Exception encountered: Metrics.get_repetition_rate() missing 1 required positional argument: 'num_execution_steps'. Unable to calculate repetition rate.\n",
      "2025-01-08 15:37 - WARNING - Exception encountered: . Unable to calculate progress rate.\n",
      "{'task_id': '17b5a6a3-bc87-42e8-b0fb-6ab0781ef2cc', 'Question': 'I’m researching species that became invasive after people who kept them as pets released them. There’s a certain species of fish that was popularized as a pet by being the main character of the movie Finding Nemo. According to the USGS, where was this fish found as a nonnative species, before the year 2020? I need the answer formatted as the five-digit zip codes of the places the species was found, separated by commas if there is more than one place.', 'Level': '2', 'Final answer': '34689', 'file_name': '', 'file_path': '', 'Annotator Metadata': {'Steps': '1. Search the web for “finding nemo main character”.\\n2. Note the results, which state that the main character is a clownfish.\\n3. Search the web for “usgs nonnative species database”.\\n4. Click result for the Nonindigenous Aquatic Species site.\\n5. Click “Marine Fishes”.\\n6. Click “Species List of Nonindigenous Marine Fish”.\\n7. Scroll through the list until I find the clown anenomefish, and click “Collection info”.\\n8. Note the place that a clown anenomefish was found, in Fred Howard Park at the Gulf of Mexico.\\n9. Search the web for “fred howard park florida zip code”.\\n10. Note the zip code, 34689. Since only one clownfish was found before the year 2020, this is the answer.', 'Number of steps': '10', 'How long did this take?': '5 minutes', 'Tools': '1. Search engine\\n2. Web browser', 'Number of tools': '2'}}\n",
      "Evaluating there as a number.\n",
      "String there cannot be normalized to number str.\n",
      "Wrong answer!!!\n"
     ]
    },
    {
     "ename": "KeyboardInterrupt",
     "evalue": "Interrupted by user",
     "output_type": "error",
     "traceback": [
      "\u001b[0;31m---------------------------------------------------------------------------\u001b[0m",
      "\u001b[0;31mKeyboardInterrupt\u001b[0m                         Traceback (most recent call last)",
      "Cell \u001b[0;32mIn[13], line 15\u001b[0m\n\u001b[1;32m     13\u001b[0m num_attempts \u001b[38;5;241m=\u001b[39m \u001b[38;5;241m1\u001b[39m\n\u001b[1;32m     14\u001b[0m \u001b[38;5;28;01mwhile\u001b[39;00m \u001b[38;5;129;01mnot\u001b[39;00m obs\u001b[38;5;241m.\u001b[39msuccess \u001b[38;5;129;01mand\u001b[39;00m obs\u001b[38;5;241m.\u001b[39mcan_proceed \u001b[38;5;129;01mand\u001b[39;00m (num_attempts \u001b[38;5;241m<\u001b[39m\u001b[38;5;241m=\u001b[39m \u001b[38;5;241m5\u001b[39m):\n\u001b[0;32m---> 15\u001b[0m     human_input \u001b[38;5;241m=\u001b[39m \u001b[38;5;28;43minput\u001b[39;49m\u001b[43m(\u001b[49m\u001b[43mobs\u001b[49m\u001b[38;5;241;43m.\u001b[39;49m\u001b[43moutput\u001b[49m\u001b[43m)\u001b[49m  \u001b[38;5;66;03m# Can be replaced by agent input\u001b[39;00m\n\u001b[1;32m     16\u001b[0m     obs \u001b[38;5;241m=\u001b[39m driver\u001b[38;5;241m.\u001b[39mstep(GaiaAction(value\u001b[38;5;241m=\u001b[39m\u001b[38;5;28mstr\u001b[39m(human_input)))\n\u001b[1;32m     17\u001b[0m     \u001b[38;5;66;03m# obs = driver.step_raw(str(human_input))\u001b[39;00m\n",
      "File \u001b[0;32m~/ai_quest_project/agentquest/.venv/lib/python3.10/site-packages/ipykernel/kernelbase.py:1282\u001b[0m, in \u001b[0;36mKernel.raw_input\u001b[0;34m(self, prompt)\u001b[0m\n\u001b[1;32m   1280\u001b[0m     msg \u001b[38;5;241m=\u001b[39m \u001b[38;5;124m\"\u001b[39m\u001b[38;5;124mraw_input was called, but this frontend does not support input requests.\u001b[39m\u001b[38;5;124m\"\u001b[39m\n\u001b[1;32m   1281\u001b[0m     \u001b[38;5;28;01mraise\u001b[39;00m StdinNotImplementedError(msg)\n\u001b[0;32m-> 1282\u001b[0m \u001b[38;5;28;01mreturn\u001b[39;00m \u001b[38;5;28;43mself\u001b[39;49m\u001b[38;5;241;43m.\u001b[39;49m\u001b[43m_input_request\u001b[49m\u001b[43m(\u001b[49m\n\u001b[1;32m   1283\u001b[0m \u001b[43m    \u001b[49m\u001b[38;5;28;43mstr\u001b[39;49m\u001b[43m(\u001b[49m\u001b[43mprompt\u001b[49m\u001b[43m)\u001b[49m\u001b[43m,\u001b[49m\n\u001b[1;32m   1284\u001b[0m \u001b[43m    \u001b[49m\u001b[38;5;28;43mself\u001b[39;49m\u001b[38;5;241;43m.\u001b[39;49m\u001b[43m_parent_ident\u001b[49m\u001b[43m[\u001b[49m\u001b[38;5;124;43m\"\u001b[39;49m\u001b[38;5;124;43mshell\u001b[39;49m\u001b[38;5;124;43m\"\u001b[39;49m\u001b[43m]\u001b[49m\u001b[43m,\u001b[49m\n\u001b[1;32m   1285\u001b[0m \u001b[43m    \u001b[49m\u001b[38;5;28;43mself\u001b[39;49m\u001b[38;5;241;43m.\u001b[39;49m\u001b[43mget_parent\u001b[49m\u001b[43m(\u001b[49m\u001b[38;5;124;43m\"\u001b[39;49m\u001b[38;5;124;43mshell\u001b[39;49m\u001b[38;5;124;43m\"\u001b[39;49m\u001b[43m)\u001b[49m\u001b[43m,\u001b[49m\n\u001b[1;32m   1286\u001b[0m \u001b[43m    \u001b[49m\u001b[43mpassword\u001b[49m\u001b[38;5;241;43m=\u001b[39;49m\u001b[38;5;28;43;01mFalse\u001b[39;49;00m\u001b[43m,\u001b[49m\n\u001b[1;32m   1287\u001b[0m \u001b[43m\u001b[49m\u001b[43m)\u001b[49m\n",
      "File \u001b[0;32m~/ai_quest_project/agentquest/.venv/lib/python3.10/site-packages/ipykernel/kernelbase.py:1325\u001b[0m, in \u001b[0;36mKernel._input_request\u001b[0;34m(self, prompt, ident, parent, password)\u001b[0m\n\u001b[1;32m   1322\u001b[0m \u001b[38;5;28;01mexcept\u001b[39;00m \u001b[38;5;167;01mKeyboardInterrupt\u001b[39;00m:\n\u001b[1;32m   1323\u001b[0m     \u001b[38;5;66;03m# re-raise KeyboardInterrupt, to truncate traceback\u001b[39;00m\n\u001b[1;32m   1324\u001b[0m     msg \u001b[38;5;241m=\u001b[39m \u001b[38;5;124m\"\u001b[39m\u001b[38;5;124mInterrupted by user\u001b[39m\u001b[38;5;124m\"\u001b[39m\n\u001b[0;32m-> 1325\u001b[0m     \u001b[38;5;28;01mraise\u001b[39;00m \u001b[38;5;167;01mKeyboardInterrupt\u001b[39;00m(msg) \u001b[38;5;28;01mfrom\u001b[39;00m \u001b[38;5;28;01mNone\u001b[39;00m\n\u001b[1;32m   1326\u001b[0m \u001b[38;5;28;01mexcept\u001b[39;00m \u001b[38;5;167;01mException\u001b[39;00m:\n\u001b[1;32m   1327\u001b[0m     \u001b[38;5;28mself\u001b[39m\u001b[38;5;241m.\u001b[39mlog\u001b[38;5;241m.\u001b[39mwarning(\u001b[38;5;124m\"\u001b[39m\u001b[38;5;124mInvalid Message:\u001b[39m\u001b[38;5;124m\"\u001b[39m, exc_info\u001b[38;5;241m=\u001b[39m\u001b[38;5;28;01mTrue\u001b[39;00m)\n",
      "\u001b[0;31mKeyboardInterrupt\u001b[0m: Interrupted by user"
     ]
    }
   ],
   "source": [
    "accumulated_metrics = []\n",
    "for problem in dataset.to_dict(orient=\"records\"):\n",
    "    print(problem)\n",
    "    if problem.get(\"file_name\", \"\"):\n",
    "        extra_filepath = GaiaUtils.get_filepath(problem.get(\"file_name\", \"\"))\n",
    "        print(\"File path for the problem: \", extra_filepath)\n",
    "\n",
    "    driver = GaiaDriver(\n",
    "        problem=problem[\"Question\"], goal=problem[\"Final answer\"], interactive=True\n",
    "    )\n",
    "    obs = driver.reset()\n",
    "\n",
    "    num_attempts = 1\n",
    "    while not obs.success and obs.can_proceed and (num_attempts <= 5):\n",
    "        human_input = input(obs.output)  # Can be replaced by agent input\n",
    "        obs = driver.step(GaiaAction(value=str(human_input)))\n",
    "        # obs = driver.step_raw(str(human_input))\n",
    "        print(obs.output)\n",
    "        num_attempts += 1\n",
    "\n",
    "    accumulated_metrics.append(\n",
    "        driver.metrics.export(\n",
    "            repetition_function_kwargs={\"theta_a\": 1, \"num_execution_steps\": 5}\n",
    "        )\n",
    "    )"
   ]
  },
  {
   "cell_type": "code",
   "execution_count": 14,
   "metadata": {},
   "outputs": [
    {
     "data": {
      "text/plain": [
       "[{'problem': 'A paper about AI regulation that was originally submitted to arXiv.org in June 2022 shows a figure with three axes, where each axis has a label word at both ends. Which of these words is used to describe a type of society in a Physics and Society article submitted to arXiv.org on August 11, 2016?',\n",
       "  'goal': 'egalitarian',\n",
       "  'success': True,\n",
       "  'actions': [{'value': 'egalitarian'}],\n",
       "  'states': [{'value': 'egalitarian'}],\n",
       "  'observations': [{'output': 'Correct answer!!!',\n",
       "    'success': True,\n",
       "    'can_proceed': False}]}]"
      ]
     },
     "execution_count": 14,
     "metadata": {},
     "output_type": "execute_result"
    }
   ],
   "source": [
    "accumulated_metrics"
   ]
  },
  {
   "cell_type": "markdown",
   "metadata": {},
   "source": [
    "### Making it ready for submission\n",
    "For GAIA, only the validation set has correct labels. The test set data does not have correct labels and you can submit it to see your scores in GAIA leaderboard. \n",
    "\n",
    "Link: https://huggingface.co/spaces/gaia-benchmark/leaderboard\n"
   ]
  },
  {
   "cell_type": "markdown",
   "metadata": {},
   "source": [
    "The code below is for non-interactive mode."
   ]
  },
  {
   "cell_type": "code",
   "execution_count": null,
   "metadata": {},
   "outputs": [],
   "source": [
    "dataset = GaiaUtils.load_data(category=\"2023_all\", split=\"test\")\n",
    "\n",
    "submissions = []\n",
    "for problem in dataset.to_dict(orient=\"records\"):\n",
    "    print(problem)\n",
    "    if problem.get(\"file_name\", \"\"):\n",
    "        extra_filepath = GaiaUtils.get_filepath(problem.get(\"file_name\", \"\"))\n",
    "        print(\"File path for the problem: \", extra_filepath)\n",
    "\n",
    "    driver = GaiaDriver(\n",
    "        problem=problem[\"Question\"], goal=problem[\"Final answer\"], interactive=False\n",
    "    )\n",
    "    obs = driver.reset()\n",
    "    # answer = agent.invoke(obs.output)\n",
    "    # Parse the agent output if needed\n",
    "    answer = input(obs.output)  # To be replaced by agent input\n",
    "    submissions.append({\"task_id\": problem[\"task_id\"], \"model_answer\": answer})"
   ]
  },
  {
   "cell_type": "markdown",
   "metadata": {},
   "source": [
    "### Making it ready for submission\n",
    "For GAIA, only the validation set has correct labels. The test set data does not have correct labels and you can submit it to see your scores in GAIA leaderboard. \n",
    "\n",
    "Link: https://huggingface.co/spaces/gaia-benchmark/leaderboard\n"
   ]
  },
  {
   "cell_type": "markdown",
   "metadata": {},
   "source": [
    "The code below is for non-interactive mode."
   ]
  },
  {
   "cell_type": "code",
   "execution_count": null,
   "metadata": {},
   "outputs": [
    {
     "name": "stdout",
     "output_type": "stream",
     "text": [
      "{'task_id': '6af95c8f-8cbf-4c12-b02c-f9a23cc1ecb9', 'Question': 'Here\\'s a fun riddle that I\\'d like you to try.\\n\\nAn adventurer exploring an ancient tomb came across a horde of gold coins, all neatly stacked in columns. As he reached to scoop them into his backpack, a mysterious voice filled the room. \"You have fallen for my trap adventurer,\" the voice began, and suddenly the doorway to the chamber was sealed by a heavy rolling disk of stone. The adventurer tried to move the stone disk but was unable to budge the heavy stone. Trapped, he was startled when the voice again spoke. \\n\\n\"If you solve my riddle, I will reward you with a portion of my riches, but if you are not clever, you will never leave this treasure chamber. Before you are 200 gold coins. I pose a challenge to you, adventurer. Within these stacks of coins, all but 30 are face-up. You must divide the coins into two piles, one is yours, and one is mine. You may place as many coins as you like in either pile. You may flip any coins over, but you may not balance any coins on their edges. For every face-down coin in your pile, you will be rewarded with two gold coins. But be warned, if both piles do not contain the same number of face-down coins, the door will remain sealed for all eternity!\"\\n\\nThe adventurer smiled, as this would be an easy task. All he had to do was flip over every coin so it was face down, and he would win the entire treasure! As he moved to the columns of coins, however, the light suddenly faded, and he was left in total darkness. The adventurer reached forward and picked up one of the coins, and was shocked when he realized that both sides felt almost the same. Without the light, he was unable to determine which side of the coin was heads and which side was tails. He carefully replaced the coin in its original orientation and tried to think of a way to solve the puzzle. Finally, out of desperation, the adventurer removed 30 coins to create his pile. He then carefully flipped over each coin in his pile, so its orientation was inverted from its original state.\\n\\n\"I\\'ve finished,\" he said, and the lights returned. Looking at the two piles, he noticed that the larger pile contained 14 face-down coins.\\n\\nWhat was the outcome for the adventurer? If he failed the challenge, please respond with \"The adventurer died.\" Otherwise, please provide the number of coins the adventurer won at the conclusion of the riddle. If the adventurer won any coins, provide your response as the number of coins, with no other text.', 'Level': 1, 'file_name': '', 'Final answer': '?', 'Annotator Metadata': {'Steps': '', 'Number of steps': '', 'How long did this take?': '', 'Tools': '', 'Number of tools': ''}, 'split': 'test'}\n",
      "{'task_id': 'c80ed443-b494-4e86-bec8-10ecb41c2326', 'Question': \"What animal is shown on page 54 of Anatomy and Physiology of Animals by Ruth Lawson in Dirk Hünniger's 2015 pdf conversion? Just give the common name, without any article.\", 'Level': 2, 'file_name': '', 'Final answer': '?', 'Annotator Metadata': {'Steps': '', 'Number of steps': '', 'How long did this take?': '', 'Tools': '', 'Number of tools': ''}, 'split': 'test'}\n",
      "{'task_id': 'e14448e9-5243-4b07-86e1-22e657f96bcf', 'Question': 'On the Wikipedia page for the animal in the provided image, how many revisions from before 2020 had \"visual edit\" tags?', 'Level': 3, 'file_name': 'e14448e9-5243-4b07-86e1-22e657f96bcf.jpg', 'Final answer': '?', 'Annotator Metadata': {'Steps': '', 'Number of steps': '', 'How long did this take?': '', 'Tools': '', 'Number of tools': ''}, 'split': 'test'}\n",
      "{'task_id': '198ffd8f-6041-458d-bacc-fe49872cfa43', 'Question': \"In the story I've attached with this message, the protagonist describes rescuing a family member of an important noble, which resulted in the protagonist earning a commission as a lieutenant. How many foes did the protagonist defeat during the rescue, earning the protagonist the rank?\", 'Level': 1, 'file_name': '198ffd8f-6041-458d-bacc-fe49872cfa43.txt', 'Final answer': '?', 'Annotator Metadata': {'Steps': '', 'Number of steps': '', 'How long did this take?': '', 'Tools': '', 'Number of tools': ''}, 'split': 'test'}\n",
      "{'task_id': '6583799b-573a-4e95-8b28-4f0397bd45c2', 'Question': 'In what year did someone first edit the english Wikipedia page for horror movie character Michael Myers on the day of Halloween?', 'Level': 2, 'file_name': '', 'Final answer': '?', 'Annotator Metadata': {'Steps': '', 'Number of steps': '', 'How long did this take?': '', 'Tools': '', 'Number of tools': ''}, 'split': 'test'}\n",
      "{'task_id': '12a682d7-8e8e-4d4c-8102-a97628027441', 'Question': 'The Manx Electric Railway operates trams on the Isle of Man. How many switches does a tram traveling from Groudle Glen to South Cape pass through? Disregard any changes to the track made after June 2023.', 'Level': 2, 'file_name': '', 'Final answer': '?', 'Annotator Metadata': {'Steps': '', 'Number of steps': '', 'How long did this take?': '', 'Tools': '', 'Number of tools': ''}, 'split': 'test'}\n",
      "{'task_id': '4044eab7-1282-42bd-a559-3bf3a4d5858e', 'Question': 'The attached file shows a library’s collection of books and films. What is the ISBN number of the book in the Hunger Games series that is currently checked out? Return the ISBN as it appears on Wikipedia in July of 2023.', 'Level': 2, 'file_name': '4044eab7-1282-42bd-a559-3bf3a4d5858e.pdf', 'Final answer': '?', 'Annotator Metadata': {'Steps': '', 'Number of steps': '', 'How long did this take?': '', 'Tools': '', 'Number of tools': ''}, 'split': 'test'}\n"
     ]
    },
    {
     "ename": "KeyboardInterrupt",
     "evalue": "Interrupted by user",
     "output_type": "error",
     "traceback": [
      "\u001b[0;31m---------------------------------------------------------------------------\u001b[0m",
      "\u001b[0;31mKeyboardInterrupt\u001b[0m                         Traceback (most recent call last)",
      "Cell \u001b[0;32mIn[3], line 11\u001b[0m\n\u001b[1;32m      9\u001b[0m obs \u001b[38;5;241m=\u001b[39m driver\u001b[38;5;241m.\u001b[39mreset()\n\u001b[1;32m     10\u001b[0m \u001b[38;5;66;03m# TODO: answer = agent.invoke(obs.output)\u001b[39;00m\n\u001b[0;32m---> 11\u001b[0m answer \u001b[38;5;241m=\u001b[39m \u001b[38;5;28;43minput\u001b[39;49m\u001b[43m(\u001b[49m\u001b[43mobs\u001b[49m\u001b[38;5;241;43m.\u001b[39;49m\u001b[43moutput\u001b[49m\u001b[43m)\u001b[49m  \u001b[38;5;66;03m# Can be replaced by agent input\u001b[39;00m\n\u001b[1;32m     12\u001b[0m submissions\u001b[38;5;241m.\u001b[39mappend({\n\u001b[1;32m     13\u001b[0m     \u001b[38;5;124m\"\u001b[39m\u001b[38;5;124mtask_id\u001b[39m\u001b[38;5;124m\"\u001b[39m: problem[\u001b[38;5;124m\"\u001b[39m\u001b[38;5;124mtask_id\u001b[39m\u001b[38;5;124m\"\u001b[39m],\n\u001b[1;32m     14\u001b[0m     \u001b[38;5;124m\"\u001b[39m\u001b[38;5;124mmodel_answer\u001b[39m\u001b[38;5;124m\"\u001b[39m: answer\n\u001b[1;32m     15\u001b[0m })\n",
      "File \u001b[0;32m~/ai_quest_project/agentquest/.venv/lib/python3.10/site-packages/ipykernel/kernelbase.py:1282\u001b[0m, in \u001b[0;36mKernel.raw_input\u001b[0;34m(self, prompt)\u001b[0m\n\u001b[1;32m   1280\u001b[0m     msg \u001b[38;5;241m=\u001b[39m \u001b[38;5;124m\"\u001b[39m\u001b[38;5;124mraw_input was called, but this frontend does not support input requests.\u001b[39m\u001b[38;5;124m\"\u001b[39m\n\u001b[1;32m   1281\u001b[0m     \u001b[38;5;28;01mraise\u001b[39;00m StdinNotImplementedError(msg)\n\u001b[0;32m-> 1282\u001b[0m \u001b[38;5;28;01mreturn\u001b[39;00m \u001b[38;5;28;43mself\u001b[39;49m\u001b[38;5;241;43m.\u001b[39;49m\u001b[43m_input_request\u001b[49m\u001b[43m(\u001b[49m\n\u001b[1;32m   1283\u001b[0m \u001b[43m    \u001b[49m\u001b[38;5;28;43mstr\u001b[39;49m\u001b[43m(\u001b[49m\u001b[43mprompt\u001b[49m\u001b[43m)\u001b[49m\u001b[43m,\u001b[49m\n\u001b[1;32m   1284\u001b[0m \u001b[43m    \u001b[49m\u001b[38;5;28;43mself\u001b[39;49m\u001b[38;5;241;43m.\u001b[39;49m\u001b[43m_parent_ident\u001b[49m\u001b[43m[\u001b[49m\u001b[38;5;124;43m\"\u001b[39;49m\u001b[38;5;124;43mshell\u001b[39;49m\u001b[38;5;124;43m\"\u001b[39;49m\u001b[43m]\u001b[49m\u001b[43m,\u001b[49m\n\u001b[1;32m   1285\u001b[0m \u001b[43m    \u001b[49m\u001b[38;5;28;43mself\u001b[39;49m\u001b[38;5;241;43m.\u001b[39;49m\u001b[43mget_parent\u001b[49m\u001b[43m(\u001b[49m\u001b[38;5;124;43m\"\u001b[39;49m\u001b[38;5;124;43mshell\u001b[39;49m\u001b[38;5;124;43m\"\u001b[39;49m\u001b[43m)\u001b[49m\u001b[43m,\u001b[49m\n\u001b[1;32m   1286\u001b[0m \u001b[43m    \u001b[49m\u001b[43mpassword\u001b[49m\u001b[38;5;241;43m=\u001b[39;49m\u001b[38;5;28;43;01mFalse\u001b[39;49;00m\u001b[43m,\u001b[49m\n\u001b[1;32m   1287\u001b[0m \u001b[43m\u001b[49m\u001b[43m)\u001b[49m\n",
      "File \u001b[0;32m~/ai_quest_project/agentquest/.venv/lib/python3.10/site-packages/ipykernel/kernelbase.py:1325\u001b[0m, in \u001b[0;36mKernel._input_request\u001b[0;34m(self, prompt, ident, parent, password)\u001b[0m\n\u001b[1;32m   1322\u001b[0m \u001b[38;5;28;01mexcept\u001b[39;00m \u001b[38;5;167;01mKeyboardInterrupt\u001b[39;00m:\n\u001b[1;32m   1323\u001b[0m     \u001b[38;5;66;03m# re-raise KeyboardInterrupt, to truncate traceback\u001b[39;00m\n\u001b[1;32m   1324\u001b[0m     msg \u001b[38;5;241m=\u001b[39m \u001b[38;5;124m\"\u001b[39m\u001b[38;5;124mInterrupted by user\u001b[39m\u001b[38;5;124m\"\u001b[39m\n\u001b[0;32m-> 1325\u001b[0m     \u001b[38;5;28;01mraise\u001b[39;00m \u001b[38;5;167;01mKeyboardInterrupt\u001b[39;00m(msg) \u001b[38;5;28;01mfrom\u001b[39;00m \u001b[38;5;28;01mNone\u001b[39;00m\n\u001b[1;32m   1326\u001b[0m \u001b[38;5;28;01mexcept\u001b[39;00m \u001b[38;5;167;01mException\u001b[39;00m:\n\u001b[1;32m   1327\u001b[0m     \u001b[38;5;28mself\u001b[39m\u001b[38;5;241m.\u001b[39mlog\u001b[38;5;241m.\u001b[39mwarning(\u001b[38;5;124m\"\u001b[39m\u001b[38;5;124mInvalid Message:\u001b[39m\u001b[38;5;124m\"\u001b[39m, exc_info\u001b[38;5;241m=\u001b[39m\u001b[38;5;28;01mTrue\u001b[39;00m)\n",
      "\u001b[0;31mKeyboardInterrupt\u001b[0m: Interrupted by user"
     ]
    }
   ],
   "source": [
    "dataset = GaiaUtils.load_data(category=\"2023_all\", split=\"test\")\n",
    "\n",
    "submissions = []\n",
    "for problem in dataset.to_dict(orient=\"records\"):\n",
    "    print(problem)\n",
    "    driver = GaiaDriver(\n",
    "        problem=problem[\"Question\"], goal=problem[\"Final answer\"], interactive=False\n",
    "    )\n",
    "    obs = driver.reset()\n",
    "    # TODO: answer = agent.invoke(obs.output)\n",
    "    # Parse the agent output if needed\n",
    "    answer = input(obs.output)  # Can be replaced by agent input\n",
    "    submissions.append({\"task_id\": problem[\"task_id\"], \"model_answer\": answer})"
   ]
  },
  {
   "cell_type": "code",
   "execution_count": 4,
   "metadata": {},
   "outputs": [
    {
     "data": {
      "text/plain": [
       "[{'task_id': '6af95c8f-8cbf-4c12-b02c-f9a23cc1ecb9', 'model_answer': 'nepal'},\n",
       " {'task_id': 'c80ed443-b494-4e86-bec8-10ecb41c2326', 'model_answer': 'home'},\n",
       " {'task_id': 'e14448e9-5243-4b07-86e1-22e657f96bcf', 'model_answer': 'there'},\n",
       " {'task_id': '198ffd8f-6041-458d-bacc-fe49872cfa43',\n",
       "  'model_answer': 'in the whole world'},\n",
       " {'task_id': '6583799b-573a-4e95-8b28-4f0397bd45c2', 'model_answer': 'okay'},\n",
       " {'task_id': '12a682d7-8e8e-4d4c-8102-a97628027441', 'model_answer': ''}]"
      ]
     },
     "execution_count": 4,
     "metadata": {},
     "output_type": "execute_result"
    }
   ],
   "source": [
    "submissions"
   ]
  },
  {
   "cell_type": "markdown",
   "metadata": {},
   "source": [
    "### Making it ready for submission\n",
    "For GAIA, only the validation set has correct labels. The test set data does not have correct labels and you can submit it to see your scores in GAIA leaderboard. \n",
    "\n",
    "Link: https://huggingface.co/spaces/gaia-benchmark/leaderboard\n"
   ]
  },
  {
   "cell_type": "markdown",
   "metadata": {},
   "source": [
    "The code below is for non-interactive mode."
   ]
  },
  {
   "cell_type": "code",
   "execution_count": null,
   "metadata": {},
   "outputs": [
    {
     "name": "stdout",
     "output_type": "stream",
     "text": [
      "{'task_id': '6af95c8f-8cbf-4c12-b02c-f9a23cc1ecb9', 'Question': 'Here\\'s a fun riddle that I\\'d like you to try.\\n\\nAn adventurer exploring an ancient tomb came across a horde of gold coins, all neatly stacked in columns. As he reached to scoop them into his backpack, a mysterious voice filled the room. \"You have fallen for my trap adventurer,\" the voice began, and suddenly the doorway to the chamber was sealed by a heavy rolling disk of stone. The adventurer tried to move the stone disk but was unable to budge the heavy stone. Trapped, he was startled when the voice again spoke. \\n\\n\"If you solve my riddle, I will reward you with a portion of my riches, but if you are not clever, you will never leave this treasure chamber. Before you are 200 gold coins. I pose a challenge to you, adventurer. Within these stacks of coins, all but 30 are face-up. You must divide the coins into two piles, one is yours, and one is mine. You may place as many coins as you like in either pile. You may flip any coins over, but you may not balance any coins on their edges. For every face-down coin in your pile, you will be rewarded with two gold coins. But be warned, if both piles do not contain the same number of face-down coins, the door will remain sealed for all eternity!\"\\n\\nThe adventurer smiled, as this would be an easy task. All he had to do was flip over every coin so it was face down, and he would win the entire treasure! As he moved to the columns of coins, however, the light suddenly faded, and he was left in total darkness. The adventurer reached forward and picked up one of the coins, and was shocked when he realized that both sides felt almost the same. Without the light, he was unable to determine which side of the coin was heads and which side was tails. He carefully replaced the coin in its original orientation and tried to think of a way to solve the puzzle. Finally, out of desperation, the adventurer removed 30 coins to create his pile. He then carefully flipped over each coin in his pile, so its orientation was inverted from its original state.\\n\\n\"I\\'ve finished,\" he said, and the lights returned. Looking at the two piles, he noticed that the larger pile contained 14 face-down coins.\\n\\nWhat was the outcome for the adventurer? If he failed the challenge, please respond with \"The adventurer died.\" Otherwise, please provide the number of coins the adventurer won at the conclusion of the riddle. If the adventurer won any coins, provide your response as the number of coins, with no other text.', 'Level': 1, 'file_name': '', 'Final answer': '?', 'Annotator Metadata': {'Steps': '', 'Number of steps': '', 'How long did this take?': '', 'Tools': '', 'Number of tools': ''}, 'split': 'test'}\n",
      "{'task_id': 'c80ed443-b494-4e86-bec8-10ecb41c2326', 'Question': \"What animal is shown on page 54 of Anatomy and Physiology of Animals by Ruth Lawson in Dirk Hünniger's 2015 pdf conversion? Just give the common name, without any article.\", 'Level': 2, 'file_name': '', 'Final answer': '?', 'Annotator Metadata': {'Steps': '', 'Number of steps': '', 'How long did this take?': '', 'Tools': '', 'Number of tools': ''}, 'split': 'test'}\n",
      "{'task_id': 'e14448e9-5243-4b07-86e1-22e657f96bcf', 'Question': 'On the Wikipedia page for the animal in the provided image, how many revisions from before 2020 had \"visual edit\" tags?', 'Level': 3, 'file_name': 'e14448e9-5243-4b07-86e1-22e657f96bcf.jpg', 'Final answer': '?', 'Annotator Metadata': {'Steps': '', 'Number of steps': '', 'How long did this take?': '', 'Tools': '', 'Number of tools': ''}, 'split': 'test'}\n",
      "{'task_id': '198ffd8f-6041-458d-bacc-fe49872cfa43', 'Question': \"In the story I've attached with this message, the protagonist describes rescuing a family member of an important noble, which resulted in the protagonist earning a commission as a lieutenant. How many foes did the protagonist defeat during the rescue, earning the protagonist the rank?\", 'Level': 1, 'file_name': '198ffd8f-6041-458d-bacc-fe49872cfa43.txt', 'Final answer': '?', 'Annotator Metadata': {'Steps': '', 'Number of steps': '', 'How long did this take?': '', 'Tools': '', 'Number of tools': ''}, 'split': 'test'}\n",
      "{'task_id': '6583799b-573a-4e95-8b28-4f0397bd45c2', 'Question': 'In what year did someone first edit the english Wikipedia page for horror movie character Michael Myers on the day of Halloween?', 'Level': 2, 'file_name': '', 'Final answer': '?', 'Annotator Metadata': {'Steps': '', 'Number of steps': '', 'How long did this take?': '', 'Tools': '', 'Number of tools': ''}, 'split': 'test'}\n",
      "{'task_id': '12a682d7-8e8e-4d4c-8102-a97628027441', 'Question': 'The Manx Electric Railway operates trams on the Isle of Man. How many switches does a tram traveling from Groudle Glen to South Cape pass through? Disregard any changes to the track made after June 2023.', 'Level': 2, 'file_name': '', 'Final answer': '?', 'Annotator Metadata': {'Steps': '', 'Number of steps': '', 'How long did this take?': '', 'Tools': '', 'Number of tools': ''}, 'split': 'test'}\n",
      "{'task_id': '4044eab7-1282-42bd-a559-3bf3a4d5858e', 'Question': 'The attached file shows a library’s collection of books and films. What is the ISBN number of the book in the Hunger Games series that is currently checked out? Return the ISBN as it appears on Wikipedia in July of 2023.', 'Level': 2, 'file_name': '4044eab7-1282-42bd-a559-3bf3a4d5858e.pdf', 'Final answer': '?', 'Annotator Metadata': {'Steps': '', 'Number of steps': '', 'How long did this take?': '', 'Tools': '', 'Number of tools': ''}, 'split': 'test'}\n"
     ]
    },
    {
     "ename": "KeyboardInterrupt",
     "evalue": "Interrupted by user",
     "output_type": "error",
     "traceback": [
      "\u001b[0;31m---------------------------------------------------------------------------\u001b[0m",
      "\u001b[0;31mKeyboardInterrupt\u001b[0m                         Traceback (most recent call last)",
      "Cell \u001b[0;32mIn[3], line 11\u001b[0m\n\u001b[1;32m      9\u001b[0m obs \u001b[38;5;241m=\u001b[39m driver\u001b[38;5;241m.\u001b[39mreset()\n\u001b[1;32m     10\u001b[0m \u001b[38;5;66;03m# TODO: answer = agent.invoke(obs.output)\u001b[39;00m\n\u001b[0;32m---> 11\u001b[0m answer \u001b[38;5;241m=\u001b[39m \u001b[38;5;28;43minput\u001b[39;49m\u001b[43m(\u001b[49m\u001b[43mobs\u001b[49m\u001b[38;5;241;43m.\u001b[39;49m\u001b[43moutput\u001b[49m\u001b[43m)\u001b[49m  \u001b[38;5;66;03m# Can be replaced by agent input\u001b[39;00m\n\u001b[1;32m     12\u001b[0m submissions\u001b[38;5;241m.\u001b[39mappend({\n\u001b[1;32m     13\u001b[0m     \u001b[38;5;124m\"\u001b[39m\u001b[38;5;124mtask_id\u001b[39m\u001b[38;5;124m\"\u001b[39m: problem[\u001b[38;5;124m\"\u001b[39m\u001b[38;5;124mtask_id\u001b[39m\u001b[38;5;124m\"\u001b[39m],\n\u001b[1;32m     14\u001b[0m     \u001b[38;5;124m\"\u001b[39m\u001b[38;5;124mmodel_answer\u001b[39m\u001b[38;5;124m\"\u001b[39m: answer\n\u001b[1;32m     15\u001b[0m })\n",
      "File \u001b[0;32m~/ai_quest_project/agentquest/.venv/lib/python3.10/site-packages/ipykernel/kernelbase.py:1282\u001b[0m, in \u001b[0;36mKernel.raw_input\u001b[0;34m(self, prompt)\u001b[0m\n\u001b[1;32m   1280\u001b[0m     msg \u001b[38;5;241m=\u001b[39m \u001b[38;5;124m\"\u001b[39m\u001b[38;5;124mraw_input was called, but this frontend does not support input requests.\u001b[39m\u001b[38;5;124m\"\u001b[39m\n\u001b[1;32m   1281\u001b[0m     \u001b[38;5;28;01mraise\u001b[39;00m StdinNotImplementedError(msg)\n\u001b[0;32m-> 1282\u001b[0m \u001b[38;5;28;01mreturn\u001b[39;00m \u001b[38;5;28;43mself\u001b[39;49m\u001b[38;5;241;43m.\u001b[39;49m\u001b[43m_input_request\u001b[49m\u001b[43m(\u001b[49m\n\u001b[1;32m   1283\u001b[0m \u001b[43m    \u001b[49m\u001b[38;5;28;43mstr\u001b[39;49m\u001b[43m(\u001b[49m\u001b[43mprompt\u001b[49m\u001b[43m)\u001b[49m\u001b[43m,\u001b[49m\n\u001b[1;32m   1284\u001b[0m \u001b[43m    \u001b[49m\u001b[38;5;28;43mself\u001b[39;49m\u001b[38;5;241;43m.\u001b[39;49m\u001b[43m_parent_ident\u001b[49m\u001b[43m[\u001b[49m\u001b[38;5;124;43m\"\u001b[39;49m\u001b[38;5;124;43mshell\u001b[39;49m\u001b[38;5;124;43m\"\u001b[39;49m\u001b[43m]\u001b[49m\u001b[43m,\u001b[49m\n\u001b[1;32m   1285\u001b[0m \u001b[43m    \u001b[49m\u001b[38;5;28;43mself\u001b[39;49m\u001b[38;5;241;43m.\u001b[39;49m\u001b[43mget_parent\u001b[49m\u001b[43m(\u001b[49m\u001b[38;5;124;43m\"\u001b[39;49m\u001b[38;5;124;43mshell\u001b[39;49m\u001b[38;5;124;43m\"\u001b[39;49m\u001b[43m)\u001b[49m\u001b[43m,\u001b[49m\n\u001b[1;32m   1286\u001b[0m \u001b[43m    \u001b[49m\u001b[43mpassword\u001b[49m\u001b[38;5;241;43m=\u001b[39;49m\u001b[38;5;28;43;01mFalse\u001b[39;49;00m\u001b[43m,\u001b[49m\n\u001b[1;32m   1287\u001b[0m \u001b[43m\u001b[49m\u001b[43m)\u001b[49m\n",
      "File \u001b[0;32m~/ai_quest_project/agentquest/.venv/lib/python3.10/site-packages/ipykernel/kernelbase.py:1325\u001b[0m, in \u001b[0;36mKernel._input_request\u001b[0;34m(self, prompt, ident, parent, password)\u001b[0m\n\u001b[1;32m   1322\u001b[0m \u001b[38;5;28;01mexcept\u001b[39;00m \u001b[38;5;167;01mKeyboardInterrupt\u001b[39;00m:\n\u001b[1;32m   1323\u001b[0m     \u001b[38;5;66;03m# re-raise KeyboardInterrupt, to truncate traceback\u001b[39;00m\n\u001b[1;32m   1324\u001b[0m     msg \u001b[38;5;241m=\u001b[39m \u001b[38;5;124m\"\u001b[39m\u001b[38;5;124mInterrupted by user\u001b[39m\u001b[38;5;124m\"\u001b[39m\n\u001b[0;32m-> 1325\u001b[0m     \u001b[38;5;28;01mraise\u001b[39;00m \u001b[38;5;167;01mKeyboardInterrupt\u001b[39;00m(msg) \u001b[38;5;28;01mfrom\u001b[39;00m \u001b[38;5;28;01mNone\u001b[39;00m\n\u001b[1;32m   1326\u001b[0m \u001b[38;5;28;01mexcept\u001b[39;00m \u001b[38;5;167;01mException\u001b[39;00m:\n\u001b[1;32m   1327\u001b[0m     \u001b[38;5;28mself\u001b[39m\u001b[38;5;241m.\u001b[39mlog\u001b[38;5;241m.\u001b[39mwarning(\u001b[38;5;124m\"\u001b[39m\u001b[38;5;124mInvalid Message:\u001b[39m\u001b[38;5;124m\"\u001b[39m, exc_info\u001b[38;5;241m=\u001b[39m\u001b[38;5;28;01mTrue\u001b[39;00m)\n",
      "\u001b[0;31mKeyboardInterrupt\u001b[0m: Interrupted by user"
     ]
    }
   ],
   "source": [
    "dataset = GaiaUtils.load_data(category=\"2023_all\", split=\"test\")\n",
    "\n",
    "submissions = []\n",
    "for problem in dataset.to_dict(orient=\"records\"):\n",
    "    print(problem)\n",
    "    driver = GaiaDriver(\n",
    "        problem=problem[\"Question\"], goal=problem[\"Final answer\"], interactive=False\n",
    "    )\n",
    "    obs = driver.reset()\n",
    "    # TODO: answer = agent.invoke(obs.output)\n",
    "    # Parse the agent output if needed\n",
    "    answer = input(obs.output)  # Can be replaced by agent input\n",
    "    submissions.append({\"task_id\": problem[\"task_id\"], \"model_answer\": answer})"
   ]
  },
  {
   "cell_type": "code",
   "execution_count": 4,
   "metadata": {},
   "outputs": [
    {
     "data": {
      "text/plain": [
       "[{'task_id': '6af95c8f-8cbf-4c12-b02c-f9a23cc1ecb9', 'model_answer': 'nepal'},\n",
       " {'task_id': 'c80ed443-b494-4e86-bec8-10ecb41c2326', 'model_answer': 'home'},\n",
       " {'task_id': 'e14448e9-5243-4b07-86e1-22e657f96bcf', 'model_answer': 'there'},\n",
       " {'task_id': '198ffd8f-6041-458d-bacc-fe49872cfa43',\n",
       "  'model_answer': 'in the whole world'},\n",
       " {'task_id': '6583799b-573a-4e95-8b28-4f0397bd45c2', 'model_answer': 'okay'},\n",
       " {'task_id': '12a682d7-8e8e-4d4c-8102-a97628027441', 'model_answer': ''}]"
      ]
     },
     "execution_count": 4,
     "metadata": {},
     "output_type": "execute_result"
    }
   ],
   "source": [
    "submissions"
   ]
  },
  {
   "cell_type": "code",
   "execution_count": null,
   "metadata": {},
   "outputs": [],
   "source": [
    "submissions"
   ]
  }
 ],
 "metadata": {
  "kernelspec": {
   "display_name": ".venv",
   "language": "python",
   "name": "python3"
  },
  "language_info": {
   "codemirror_mode": {
    "name": "ipython",
    "version": 3
   },
   "file_extension": ".py",
   "mimetype": "text/x-python",
   "name": "python",
   "nbconvert_exporter": "python",
   "pygments_lexer": "ipython3",
   "version": "3.10.14"
  }
 },
 "nbformat": 4,
 "nbformat_minor": 2
}
