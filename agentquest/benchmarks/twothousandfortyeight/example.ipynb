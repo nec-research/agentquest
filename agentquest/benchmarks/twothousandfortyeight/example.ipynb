{
 "cells": [
  {
   "cell_type": "markdown",
   "metadata": {},
   "source": [
    "## Twothousandfortyeight\n",
    "\n",
    "2048 is a game where you attempt to reach the 2048 block by combining blocks on the board of the same numerical value, if two blocks are combined the new block will be the sum of their previous values, hence doubling the number. new blocks are placed randomly, a '2' having a 90% chance to appear and a '4' having a 10% chance to appear. Feedback is provided after each guess, indicating whether the input (either w,a,s,d) is valid as well as a representation of the matrix of numbers.\n",
    "\n",
    "The reasoning type categiory for this benchmark is Spatial Reasoning. Players must deduce how to move numbers in order to combine like-value blocks to reach 2048."
   ]
  },
  {
   "cell_type": "code",
   "execution_count": 1,
   "metadata": {},
   "outputs": [],
   "source": [
    "from agentquest.benchmarks.twothousandfortyeight import TTFEDriver, TTFEAction"
   ]
  },
  {
   "cell_type": "markdown",
   "metadata": {},
   "source": [
    "Initialize the 2048 metrics and driver. "
   ]
  },
  {
   "cell_type": "code",
   "execution_count": 2,
   "metadata": {},
   "outputs": [
    {
     "name": "stdout",
     "output_type": "stream",
     "text": [
      "Welcome to 2048!\n",
      "Use 'w', 'a', 's', 'd' to move the tiles, where each move respectively moves all blocks that can move in the given direction:\n",
      "'up', 'left', 'down', 'right'.\n",
      "Your goal is to make the 2048 block, you work towards this by merging tiles of the same value with your movement keys.\n",
      "The merged block will be the sum of the previous values of the blocks. You lose when no valid moves are possible.\n",
      "Initially, two blocks appear, after each move following that a block will spawn. There is a 90 percent chance for it to be a '2' and a 10 percent chance for it to be a '4'.\n",
      "You will receive feedback after you make a move: verbally and with a matrix. Base your moves on the feedback provided.\n",
      "Your response should be strictly in the following format: \n",
      "Move: <w|a|s|d>\n",
      "╔══════╦══════╦══════╦══════╗\n",
      "║      ║      ║  2   ║      ║\n",
      "╠══════╬══════╬══════╬══════╣\n",
      "║      ║      ║      ║  2   ║\n",
      "╠══════╬══════╬══════╬══════╣\n",
      "║      ║      ║      ║      ║\n",
      "╠══════╬══════╬══════╬══════╣\n",
      "║      ║      ║      ║      ║\n",
      "╚══════╩══════╩══════╩══════╝\n",
      "\n"
     ]
    }
   ],
   "source": [
    "driver = TTFEDriver(goal=2048)\n",
    "obs = driver.reset()\n",
    "print(obs.output)"
   ]
  },
  {
   "cell_type": "markdown",
   "metadata": {},
   "source": [
    "Start sending the inputs."
   ]
  },
  {
   "cell_type": "code",
   "execution_count": 3,
   "metadata": {},
   "outputs": [
    {
     "name": "stdout",
     "output_type": "stream",
     "text": [
      "Valid move, enter your next move:\n",
      "\n",
      "╔══════╦══════╦══════╦══════╗\n",
      "║      ║      ║  2   ║  2   ║\n",
      "╠══════╬══════╬══════╬══════╣\n",
      "║      ║      ║      ║      ║\n",
      "╠══════╬══════╬══════╬══════╣\n",
      "║      ║      ║      ║      ║\n",
      "╠══════╬══════╬══════╬══════╣\n",
      "║  2   ║      ║      ║      ║\n",
      "╚══════╩══════╩══════╩══════╝\n",
      "\n"
     ]
    }
   ],
   "source": [
    "inp = TTFEAction(value=\"w\")\n",
    "obs = driver.step(inp)\n",
    "print(obs.output)"
   ]
  },
  {
   "cell_type": "code",
   "execution_count": 4,
   "metadata": {},
   "outputs": [
    {
     "name": "stdout",
     "output_type": "stream",
     "text": [
      "Valid move, enter your next move:\n",
      "\n",
      "╔══════╦══════╦══════╦══════╗\n",
      "║  4   ║      ║      ║      ║\n",
      "╠══════╬══════╬══════╬══════╣\n",
      "║      ║      ║      ║      ║\n",
      "╠══════╬══════╬══════╬══════╣\n",
      "║      ║      ║      ║      ║\n",
      "╠══════╬══════╬══════╬══════╣\n",
      "║  2   ║  2   ║      ║      ║\n",
      "╚══════╩══════╩══════╩══════╝\n",
      "\n"
     ]
    }
   ],
   "source": [
    "inp = TTFEAction(value=\"a\")\n",
    "obs = driver.step(inp)\n",
    "print(obs.output)"
   ]
  },
  {
   "cell_type": "code",
   "execution_count": 7,
   "metadata": {},
   "outputs": [
    {
     "data": {
      "text/plain": [
       "{'goal': 2048,\n",
       " 'success': False,\n",
       " 'actions': [{'value': 'w'}, {'value': 'a'}],\n",
       " 'states': [{'value': [[0, 0, 2, 2],\n",
       "    [0, 0, 0, 0],\n",
       "    [0, 0, 0, 0],\n",
       "    [2, 0, 0, 0]]},\n",
       "  {'value': [[4, 0, 0, 0], [0, 0, 0, 0], [0, 0, 0, 0], [2, 2, 0, 0]]}],\n",
       " 'observations': [{'output': 'Valid move, enter your next move:\\n\\n╔══════╦══════╦══════╦══════╗\\n║      ║      ║  2   ║  2   ║\\n╠══════╬══════╬══════╬══════╣\\n║      ║      ║      ║      ║\\n╠══════╬══════╬══════╬══════╣\\n║      ║      ║      ║      ║\\n╠══════╬══════╬══════╬══════╣\\n║  2   ║      ║      ║      ║\\n╚══════╩══════╩══════╩══════╝\\n',\n",
       "   'success': False,\n",
       "   'can_proceed': True},\n",
       "  {'output': 'Valid move, enter your next move:\\n\\n╔══════╦══════╦══════╦══════╗\\n║  4   ║      ║      ║      ║\\n╠══════╬══════╬══════╬══════╣\\n║      ║      ║      ║      ║\\n╠══════╬══════╬══════╬══════╣\\n║      ║      ║      ║      ║\\n╠══════╬══════╬══════╬══════╣\\n║  2   ║  2   ║      ║      ║\\n╚══════╩══════╩══════╩══════╝\\n',\n",
       "   'success': False,\n",
       "   'can_proceed': True}],\n",
       " 'repetition_rate': 0.0,\n",
       " 'progress': [0.09, 0.18]}"
      ]
     },
     "execution_count": 7,
     "metadata": {},
     "output_type": "execute_result"
    }
   ],
   "source": [
    "driver.metrics.export(\n",
    "    repetition_function_kwargs={\"theta_a\": 1, \"num_execution_steps\": 10}\n",
    ")"
   ]
  },
  {
   "cell_type": "code",
   "execution_count": null,
   "metadata": {},
   "outputs": [],
   "source": [
    "inp = TTFEAction(value=\"s\")\n",
    "obs = driver.step(inp)\n",
    "print(obs.output)"
   ]
  },
  {
   "cell_type": "code",
   "execution_count": null,
   "metadata": {},
   "outputs": [],
   "source": [
    "inp = TTFEAction(value=\"e\")\n",
    "obs = driver.step(inp)\n",
    "print(obs.output)"
   ]
  },
  {
   "cell_type": "code",
   "execution_count": null,
   "metadata": {},
   "outputs": [],
   "source": [
    "obs = driver.step_raw(\"Move: e\")\n",
    "print(obs.output)"
   ]
  },
  {
   "cell_type": "code",
   "execution_count": null,
   "metadata": {},
   "outputs": [],
   "source": [
    "obs = driver.step_raw(\"Let's move the game away. Move: a\")\n",
    "print(obs.output)"
   ]
  },
  {
   "cell_type": "code",
   "execution_count": null,
   "metadata": {},
   "outputs": [],
   "source": [
    "inp = TTFEAction(value=\"d\")\n",
    "obs = driver.step(inp)\n",
    "print(obs.output)"
   ]
  },
  {
   "cell_type": "code",
   "execution_count": null,
   "metadata": {},
   "outputs": [],
   "source": [
    "inp = TTFEAction(value=\"d\")\n",
    "obs = driver.step(inp)\n",
    "print(obs.output)"
   ]
  },
  {
   "cell_type": "code",
   "execution_count": null,
   "metadata": {},
   "outputs": [],
   "source": [
    "driver.metrics.progress_function(driver.current_state)"
   ]
  },
  {
   "cell_type": "code",
   "execution_count": null,
   "metadata": {},
   "outputs": [],
   "source": [
    "driver.metrics.get_repetition_rate(theta_a=1, num_execution_steps=100)"
   ]
  },
  {
   "cell_type": "code",
   "execution_count": null,
   "metadata": {},
   "outputs": [],
   "source": [
    "driver.metrics.export(\n",
    "    repetition_function_kwargs={\"theta_a\": 1, \"num_execution_steps\": 60}\n",
    ")"
   ]
  },
  {
   "cell_type": "code",
   "execution_count": null,
   "metadata": {},
   "outputs": [],
   "source": [
    "driver.metrics"
   ]
  }
 ],
 "metadata": {
  "kernelspec": {
   "display_name": ".venv",
   "language": "python",
   "name": "python3"
  },
  "language_info": {
   "codemirror_mode": {
    "name": "ipython",
    "version": 3
   },
   "file_extension": ".py",
   "mimetype": "text/x-python",
   "name": "python",
   "nbconvert_exporter": "python",
   "pygments_lexer": "ipython3",
   "version": "3.12.3"
  }
 },
 "nbformat": 4,
 "nbformat_minor": 2
}
