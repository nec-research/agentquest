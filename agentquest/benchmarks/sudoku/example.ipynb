{
 "cells": [
  {
   "cell_type": "markdown",
   "metadata": {},
   "source": [
    "This is the example to run the Sudoku driver."
   ]
  },
  {
   "cell_type": "code",
   "execution_count": 1,
   "metadata": {},
   "outputs": [],
   "source": [
    "from agentquest.lib import cpprint\n",
    "from agentquest.benchmarks.sudoku import SudokuDriver, SudokuUtils, SudokuAction"
   ]
  },
  {
   "cell_type": "code",
   "execution_count": 17,
   "metadata": {},
   "outputs": [],
   "source": [
    "game = SudokuUtils.load_data(data_path=\"__default__\", category=\"easy\")[1]\n",
    "initial = SudokuUtils.convert_board_to_list_of_lists(game[\"board\"])\n",
    "goal = SudokuUtils.convert_board_to_list_of_lists(game[\"answer\"])"
   ]
  },
  {
   "cell_type": "code",
   "execution_count": 7,
   "metadata": {},
   "outputs": [
    {
     "name": "stdout",
     "output_type": "stream",
     "text": [
      "\u001b[97mWelcome to Sudoku.\n",
      " Sudoku is a logic-based number puzzle game played on a 9x9 grid, divided \n",
      " into nine 3x3 subgrids called \"regions.\"\n",
      " The objective is to fill the grid so that each row, each column, and each \n",
      " 3x3 region contains all digits from 1 to 9 without repetition.\n",
      " The puzzle starts with some cells pre-filled with numbers, which serve as \n",
      " clues.\n",
      " You will be provided the state of the game every time the game progresses.\n",
      " Your response should contain what the next number will be and in which row \n",
      " and column.\n",
      " The rows and columns both range from 0 to 8 zero-based indexing, and the \n",
      " value of digits is from 1 to 9.\n",
      " The response should be exactly in the following format:\n",
      " Row: <row_number>, Column: <column_number>, Value: <value>\n",
      " Current game state: \n",
      " \"[[*, 6, 4, *, *, 3, 8, *, 9], [*, 3, *, 7, *, \"\n",
      " \"9, *, 4, *], [*, 9, 7, 4, 5, *, *, 1, *], [9, \"\n",
      " \"7, *, *, 6, *, *, *, 4], [6, *, 3, *, 1, 4, 9, \"\n",
      " \"8, *], [1, 4, *, 8, 9, *, *, *, 5], [*, *, 6, \"\n",
      " \"5, 3, 1, *, *, 8], [3, *, 5, *, *, 8, 4, 6, \"\n",
      " \"2], [7, *, *, 6, 4, 2, *, 5, 1]]\"\u001b[0m\n"
     ]
    }
   ],
   "source": [
    "driver = SudokuDriver(goal, initial)\n",
    "obs = driver.reset()\n",
    "cpprint(obs.output)"
   ]
  },
  {
   "cell_type": "code",
   "execution_count": 8,
   "metadata": {},
   "outputs": [
    {
     "name": "stdout",
     "output_type": "stream",
     "text": [
      "\u001b[97mInadmissible action. There is already a 1 in the provided quadrant.\u001b[0m\n"
     ]
    }
   ],
   "source": [
    "obs = driver.step(action=SudokuAction(value=\"1\", row=8, column=7))\n",
    "cpprint(obs.output)"
   ]
  },
  {
   "cell_type": "code",
   "execution_count": 9,
   "metadata": {},
   "outputs": [
    {
     "name": "stdout",
     "output_type": "stream",
     "text": [
      "\u001b[97mInadmissible action. There is already a 9 in the provided quadrant.\u001b[0m\n"
     ]
    }
   ],
   "source": [
    "obs = driver.step(action=SudokuAction(value=\"9\", row=1, column=1))\n",
    "cpprint(obs.output)"
   ]
  },
  {
   "cell_type": "code",
   "execution_count": 10,
   "metadata": {},
   "outputs": [
    {
     "name": "stdout",
     "output_type": "stream",
     "text": [
      "\u001b[97mInadmissible action. There is already a 9 in the provided quadrant.\u001b[0m\n"
     ]
    }
   ],
   "source": [
    "obs = driver.step(action=SudokuAction(value=\"9\", row=1, column=1))\n",
    "cpprint(obs.output)"
   ]
  },
  {
   "cell_type": "code",
   "execution_count": 11,
   "metadata": {},
   "outputs": [
    {
     "name": "stdout",
     "output_type": "stream",
     "text": [
      "\u001b[97m[[*, 6, 4, *, *, 3, 8, *, 9],\n",
      " [8, 3, *, 7, *, 9, *, 4, *],\n",
      " [*, 9, 7, 4, 5, *, *, 1, *],\n",
      " [9, 7, *, *, 6, *, *, *, 4],\n",
      " [6, *, 3, *, 1, 4, 9, 8, *],\n",
      " [1, 4, *, 8, 9, *, *, *, 5],\n",
      " [*, *, 6, 5, 3, 1, *, *, 8],\n",
      " [3, *, 5, *, *, 8, 4, 6, 2],\n",
      " [7, *, *, 6, 4, 2, *, 5, 1]]\u001b[0m\n"
     ]
    }
   ],
   "source": [
    "obs = driver.step(action=SudokuAction(value=\"8\", row=1, column=0))\n",
    "cpprint(obs.output)"
   ]
  },
  {
   "cell_type": "code",
   "execution_count": 12,
   "metadata": {},
   "outputs": [
    {
     "name": "stdout",
     "output_type": "stream",
     "text": [
      "\u001b[97mInadmissible action. There is already a 4 in the provided quadrant.\u001b[0m\n"
     ]
    }
   ],
   "source": [
    "obs = driver.step_raw(\"Row: 0, Column: 2, Value: 4\\n\")\n",
    "cpprint(obs.output)"
   ]
  },
  {
   "cell_type": "code",
   "execution_count": 13,
   "metadata": {},
   "outputs": [
    {
     "name": "stdout",
     "output_type": "stream",
     "text": [
      "\u001b[97mInadmissible action. There is already a 4 in the provided quadrant.\u001b[0m\n"
     ]
    }
   ],
   "source": [
    "obs = driver.step(action=SudokuAction(value=\"4\", row=0, column=2))\n",
    "cpprint(obs.output)"
   ]
  },
  {
   "cell_type": "code",
   "execution_count": 14,
   "metadata": {},
   "outputs": [
    {
     "name": "stdout",
     "output_type": "stream",
     "text": [
      "\u001b[97m{actions: [{column: 7, row: 8, value: 1},\n",
      "             {column: 1, row: 1, value: 9},\n",
      "             {column: 1, row: 1, value: 9},\n",
      "             {column: 0, row: 1, value: 8},\n",
      "             {column: 2, row: 0, value: 4},\n",
      "             {column: 2, row: 0, value: 4}],\n",
      " goal: [[5, 6, 4, 1, 2, 3, 8, 7, 9],\n",
      "          [2, 3, 1, 7, 8, 9, 5, 4, 6],\n",
      "          [8, 9, 7, 4, 5, 6, 2, 1, 3],\n",
      "          [9, 7, 8, 3, 6, 5, 1, 2, 4],\n",
      "          [6, 5, 3, 2, 1, 4, 9, 8, 7],\n",
      "          [1, 4, 2, 8, 9, 7, 6, 3, 5],\n",
      "          [4, 2, 6, 5, 3, 1, 7, 9, 8],\n",
      "          [3, 1, 5, 9, 7, 8, 4, 6, 2],\n",
      "          [7, 8, 9, 6, 4, 2, 3, 5, 1]],\n",
      " observations: [{can_proceed: True,\n",
      "                   output: Inadmissible action. There is already a 1 in the \n",
      "                             provided quadrant.,\n",
      "                   success: False},\n",
      "                  {can_proceed: True,\n",
      "                   output: Inadmissible action. There is already a 9 in the \n",
      "                             provided quadrant.,\n",
      "                   success: False},\n",
      "                  {can_proceed: True,\n",
      "                   output: Inadmissible action. There is already a 9 in the \n",
      "                             provided quadrant.,\n",
      "                   success: False},\n",
      "                  {can_proceed: True,\n",
      "                   output: \"[[*, 6, 4, *, *, 3, 8, *, 9], \"\n",
      "                             \"[8, 3, *, 7, *, 9, *, 4, *], \"\n",
      "                             \"[*, 9, 7, 4, 5, *, *, 1, *], \"\n",
      "                             \"[9, 7, *, *, 6, *, *, *, 4], \"\n",
      "                             \"[6, *, 3, *, 1, 4, 9, 8, *], \"\n",
      "                             \"[1, 4, *, 8, 9, *, *, *, 5], \"\n",
      "                             \"[*, *, 6, 5, 3, 1, *, *, 8], \"\n",
      "                             \"[3, *, 5, *, *, 8, 4, 6, 2], \"\n",
      "                             \"[7, *, *, 6, 4, 2, *, 5, 1]]\",\n",
      "                   success: False},\n",
      "                  {can_proceed: True,\n",
      "                   output: Inadmissible action. There is already a 4 in the \n",
      "                             provided quadrant.,\n",
      "                   success: False},\n",
      "                  {can_proceed: True,\n",
      "                   output: Inadmissible action. There is already a 4 in the \n",
      "                             provided quadrant.,\n",
      "                   success: False}],\n",
      " progress: [0.5679012345679012,\n",
      "              0.5679012345679012,\n",
      "              0.5679012345679012,\n",
      "              0.5802469135802469,\n",
      "              0.5802469135802469,\n",
      "              0.5802469135802469],\n",
      " repetition_rate: 0.2222222222222222,\n",
      " states: [{value: [[*, 6, 4, *, *, 3, 8, *, 9],\n",
      "                       [*, 3, *, 7, *, 9, *, 4, *],\n",
      "                       [*, 9, 7, 4, 5, *, *, 1, *],\n",
      "                       [9, 7, *, *, 6, *, *, *, 4],\n",
      "                       [6, *, 3, *, 1, 4, 9, 8, *],\n",
      "                       [1, 4, *, 8, 9, *, *, *, 5],\n",
      "                       [*, *, 6, 5, 3, 1, *, *, 8],\n",
      "                       [3, *, 5, *, *, 8, 4, 6, 2],\n",
      "                       [7, *, *, 6, 4, 2, *, 5, 1]]},\n",
      "            {value: [[*, 6, 4, *, *, 3, 8, *, 9],\n",
      "                       [*, 3, *, 7, *, 9, *, 4, *],\n",
      "                       [*, 9, 7, 4, 5, *, *, 1, *],\n",
      "                       [9, 7, *, *, 6, *, *, *, 4],\n",
      "                       [6, *, 3, *, 1, 4, 9, 8, *],\n",
      "                       [1, 4, *, 8, 9, *, *, *, 5],\n",
      "                       [*, *, 6, 5, 3, 1, *, *, 8],\n",
      "                       [3, *, 5, *, *, 8, 4, 6, 2],\n",
      "                       [7, *, *, 6, 4, 2, *, 5, 1]]},\n",
      "            {value: [[*, 6, 4, *, *, 3, 8, *, 9],\n",
      "                       [*, 3, *, 7, *, 9, *, 4, *],\n",
      "                       [*, 9, 7, 4, 5, *, *, 1, *],\n",
      "                       [9, 7, *, *, 6, *, *, *, 4],\n",
      "                       [6, *, 3, *, 1, 4, 9, 8, *],\n",
      "                       [1, 4, *, 8, 9, *, *, *, 5],\n",
      "                       [*, *, 6, 5, 3, 1, *, *, 8],\n",
      "                       [3, *, 5, *, *, 8, 4, 6, 2],\n",
      "                       [7, *, *, 6, 4, 2, *, 5, 1]]},\n",
      "            {value: [[*, 6, 4, *, *, 3, 8, *, 9],\n",
      "                       [8, 3, *, 7, *, 9, *, 4, *],\n",
      "                       [*, 9, 7, 4, 5, *, *, 1, *],\n",
      "                       [9, 7, *, *, 6, *, *, *, 4],\n",
      "                       [6, *, 3, *, 1, 4, 9, 8, *],\n",
      "                       [1, 4, *, 8, 9, *, *, *, 5],\n",
      "                       [*, *, 6, 5, 3, 1, *, *, 8],\n",
      "                       [3, *, 5, *, *, 8, 4, 6, 2],\n",
      "                       [7, *, *, 6, 4, 2, *, 5, 1]]},\n",
      "            {value: [[*, 6, 4, *, *, 3, 8, *, 9],\n",
      "                       [8, 3, *, 7, *, 9, *, 4, *],\n",
      "                       [*, 9, 7, 4, 5, *, *, 1, *],\n",
      "                       [9, 7, *, *, 6, *, *, *, 4],\n",
      "                       [6, *, 3, *, 1, 4, 9, 8, *],\n",
      "                       [1, 4, *, 8, 9, *, *, *, 5],\n",
      "                       [*, *, 6, 5, 3, 1, *, *, 8],\n",
      "                       [3, *, 5, *, *, 8, 4, 6, 2],\n",
      "                       [7, *, *, 6, 4, 2, *, 5, 1]]},\n",
      "            {value: [[*, 6, 4, *, *, 3, 8, *, 9],\n",
      "                       [8, 3, *, 7, *, 9, *, 4, *],\n",
      "                       [*, 9, 7, 4, 5, *, *, 1, *],\n",
      "                       [9, 7, *, *, 6, *, *, *, 4],\n",
      "                       [6, *, 3, *, 1, 4, 9, 8, *],\n",
      "                       [1, 4, *, 8, 9, *, *, *, 5],\n",
      "                       [*, *, 6, 5, 3, 1, *, *, 8],\n",
      "                       [3, *, 5, *, *, 8, 4, 6, 2],\n",
      "                       [7, *, *, 6, 4, 2, *, 5, 1]]}],\n",
      " success: False}\u001b[0m\n"
     ]
    }
   ],
   "source": [
    "cpprint(\n",
    "    driver.metrics.export(\n",
    "        repetition_function_kwargs={\"theta_a\": 1, \"num_execution_steps\": 10}\n",
    "    )\n",
    ")"
   ]
  },
  {
   "cell_type": "code",
   "execution_count": null,
   "metadata": {},
   "outputs": [],
   "source": []
  }
 ],
 "metadata": {
  "kernelspec": {
   "display_name": ".venv",
   "language": "python",
   "name": "python3"
  },
  "language_info": {
   "codemirror_mode": {
    "name": "ipython",
    "version": 3
   },
   "file_extension": ".py",
   "mimetype": "text/x-python",
   "name": "python",
   "nbconvert_exporter": "python",
   "pygments_lexer": "ipython3",
   "version": "3.10.14"
  }
 },
 "nbformat": 4,
 "nbformat_minor": 2
}
