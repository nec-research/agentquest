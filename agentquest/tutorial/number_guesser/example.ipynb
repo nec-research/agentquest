{
 "cells": [
  {
   "cell_type": "markdown",
   "metadata": {},
   "source": [
    "# NumberGuesser Game"
   ]
  },
  {
   "cell_type": "code",
   "execution_count": 1,
   "metadata": {},
   "outputs": [],
   "source": [
    "from agentquest.tutorial.number_guesser import (\n",
    "    NumberGuesserAction,\n",
    "    NumberGuesserDriver,\n",
    ")"
   ]
  },
  {
   "cell_type": "code",
   "execution_count": 2,
   "metadata": {},
   "outputs": [
    {
     "name": "stdout",
     "output_type": "stream",
     "text": [
      "1172\n"
     ]
    }
   ],
   "source": [
    "import random\n",
    "\n",
    "goal = str(random.randint(1000, 2000))\n",
    "print(goal)"
   ]
  },
  {
   "cell_type": "code",
   "execution_count": 4,
   "metadata": {},
   "outputs": [
    {
     "name": "stdout",
     "output_type": "stream",
     "text": [
      "Welcome to number guessing game. Your goal is to guess the integer number.\n",
      "On each guess, you shall be provided the information if the actual number is greater or smaller than the guess.\n",
      "Based on the feedback, correct your guess.\n",
      "Make a guess.\n",
      "\n",
      "The target number is smaller than the guessed number. Guess again.\n",
      "\n",
      "The target number is greater than the guessed number. Guess again.\n",
      "\n",
      "The target number is greater than the guessed number. Guess again.\n",
      "\n",
      "The target number is greater than the guessed number. Guess again.\n",
      "\n",
      "The target number is greater than the guessed number. Guess again.\n",
      "\n",
      "The target number is smaller than the guessed number. Guess again.\n",
      "\n",
      "The target number is smaller than the guessed number. Guess again.\n",
      "\n",
      "The target number is smaller than the guessed number. Guess again.\n",
      "\n",
      "The target number is smaller than the guessed number. Guess again.\n",
      "\n",
      "The target number is greater than the guessed number. Guess again.\n",
      "\n",
      "You have won!!!\n",
      "\n"
     ]
    }
   ],
   "source": [
    "driver = NumberGuesserDriver(goal=goal)\n",
    "obs = driver.reset()\n",
    "print(obs.output)\n",
    "\n",
    "\n",
    "while not obs.success and obs.can_proceed:\n",
    "    human_input = input()\n",
    "    obs = driver.step(NumberGuesserAction(value=human_input))\n",
    "    print(obs.output)"
   ]
  },
  {
   "cell_type": "code",
   "execution_count": 5,
   "metadata": {},
   "outputs": [
    {
     "data": {
      "text/plain": [
       "{'goal': '1172',\n",
       " 'success': False,\n",
       " 'actions': [{'value': '1200'},\n",
       "  {'value': '600'},\n",
       "  {'value': '900'},\n",
       "  {'value': '1100'},\n",
       "  {'value': '1150'},\n",
       "  {'value': '1199'},\n",
       "  {'value': '1188'},\n",
       "  {'value': '1180'},\n",
       "  {'value': '1178'},\n",
       "  {'value': '1168'},\n",
       "  {'value': '1172'}],\n",
       " 'states': [{'value': '1200'},\n",
       "  {'value': '600'},\n",
       "  {'value': '900'},\n",
       "  {'value': '1100'},\n",
       "  {'value': '1150'},\n",
       "  {'value': '1199'},\n",
       "  {'value': '1188'},\n",
       "  {'value': '1180'},\n",
       "  {'value': '1178'},\n",
       "  {'value': '1168'},\n",
       "  {'value': '1172'}],\n",
       " 'observations': [{'output': 'The target number is smaller than the guessed number. Guess again.\\n',\n",
       "   'success': False,\n",
       "   'can_proceed': True},\n",
       "  {'output': 'The target number is greater than the guessed number. Guess again.\\n',\n",
       "   'success': False,\n",
       "   'can_proceed': True},\n",
       "  {'output': 'The target number is greater than the guessed number. Guess again.\\n',\n",
       "   'success': False,\n",
       "   'can_proceed': True},\n",
       "  {'output': 'The target number is greater than the guessed number. Guess again.\\n',\n",
       "   'success': False,\n",
       "   'can_proceed': True},\n",
       "  {'output': 'The target number is greater than the guessed number. Guess again.\\n',\n",
       "   'success': False,\n",
       "   'can_proceed': True},\n",
       "  {'output': 'The target number is smaller than the guessed number. Guess again.\\n',\n",
       "   'success': False,\n",
       "   'can_proceed': True},\n",
       "  {'output': 'The target number is smaller than the guessed number. Guess again.\\n',\n",
       "   'success': False,\n",
       "   'can_proceed': True},\n",
       "  {'output': 'The target number is smaller than the guessed number. Guess again.\\n',\n",
       "   'success': False,\n",
       "   'can_proceed': True},\n",
       "  {'output': 'The target number is smaller than the guessed number. Guess again.\\n',\n",
       "   'success': False,\n",
       "   'can_proceed': True},\n",
       "  {'output': 'The target number is greater than the guessed number. Guess again.\\n',\n",
       "   'success': False,\n",
       "   'can_proceed': True},\n",
       "  {'output': 'You have won!!!\\n', 'success': True, 'can_proceed': False}],\n",
       " 'repetition_rate': 0.0,\n",
       " 'progress': [0.22897464218793187,\n",
       "  0.13603802841420318,\n",
       "  0.15129802062677777,\n",
       "  0.18901950031450043,\n",
       "  0.24180906749867698,\n",
       "  0.23082936127582715,\n",
       "  0.26087773109487916,\n",
       "  0.312771272649591,\n",
       "  0.3394536660667255,\n",
       "  0.383224293337255,\n",
       "  1.0]}"
      ]
     },
     "execution_count": 5,
     "metadata": {},
     "output_type": "execute_result"
    }
   ],
   "source": [
    "driver.metrics.export(\n",
    "    repetition_function_kwargs={\"theta_a\": 1, \"num_execution_steps\": 10}\n",
    ")"
   ]
  }
 ],
 "metadata": {
  "kernelspec": {
   "display_name": ".venv",
   "language": "python",
   "name": "python3"
  },
  "language_info": {
   "codemirror_mode": {
    "name": "ipython",
    "version": 3
   },
   "file_extension": ".py",
   "mimetype": "text/x-python",
   "name": "python",
   "nbconvert_exporter": "python",
   "pygments_lexer": "ipython3",
   "version": "3.12.3"
  }
 },
 "nbformat": 4,
 "nbformat_minor": 2
}
