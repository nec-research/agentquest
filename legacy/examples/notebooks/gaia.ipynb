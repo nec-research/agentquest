{
 "cells": [
  {
   "cell_type": "markdown",
   "metadata": {},
   "source": [
    "# GAIA\n",
    "\n",
    "[GAIA](https://arxiv.org/abs/2311.12983) is a benchmark which aims at evaluating next-generation LLMs (LLMs with augmented capabilities due to added tooling, efficient prompting, access to search, etc).\n",
    "\n",
    "The dataset is made of non-trivial question with an unambiguous answer, requiring different levels of tooling and autonomy to solve. It is therefore divided in 3 levels, where level 1 should be breakable by very good LLMs, and level 3 indicate a strong jump in model capabilities. \n",
    "\n",
    "Firstly, initialize a LLM needed for the WebBrowsing tool and for checking if the final answer is the correct one."
   ]
  },
  {
   "cell_type": "code",
   "execution_count": 1,
   "metadata": {},
   "outputs": [],
   "source": [
    "import instructor\n",
    "from openai import OpenAI\n",
    "\n",
    "\n",
    "class LLMClient:\n",
    "    def __init__(self, openai_key, model):\n",
    "        self.client = instructor.from_openai(\n",
    "            OpenAI(api_key=openai_key), temperature=0, seed=0\n",
    "        )\n",
    "        self.model = model\n",
    "\n",
    "    def invoke(self, response_model, system_prompt):\n",
    "        prompt = [{\"role\": \"system\", \"content\": system_prompt}]\n",
    "        return self.client.chat.completions.create(\n",
    "            model=self.model,\n",
    "            response_model=response_model,\n",
    "            messages=prompt,\n",
    "            max_retries=5,\n",
    "        )\n",
    "\n",
    "\n",
    "llm = LLMClient(OPENAI_KEY, model=\"gpt-4o\")"
   ]
  },
  {
   "cell_type": "markdown",
   "metadata": {},
   "source": [
    "Load GAIA questions and select a level - e.g., Level1"
   ]
  },
  {
   "cell_type": "code",
   "execution_count": 2,
   "metadata": {},
   "outputs": [],
   "source": [
    "from agentquest.utils import load_data\n",
    "\n",
    "game = load_data(\"gaia\", \"level1\")[\"8e867cd7-cff9-4e6c-867a-ff5ddc2550be\"]"
   ]
  },
  {
   "cell_type": "markdown",
   "metadata": {},
   "source": [
    "Initialize the Gaia driver providing the LLM and get the first observation."
   ]
  },
  {
   "cell_type": "code",
   "execution_count": 3,
   "metadata": {},
   "outputs": [
    {
     "data": {
      "text/plain": [
       "'OBSERVATION: How many studio albums were published by Mercedes Sosa between 2000 and 2009 (included)? You can use the latest 2022 version of english wikipedia.'"
      ]
     },
     "execution_count": 3,
     "metadata": {},
     "output_type": "execute_result"
    }
   ],
   "source": [
    "from agentquest.drivers.gaia import GaiaDriver\n",
    "\n",
    "# Initialize the driver\n",
    "driver = GaiaDriver(game=game, llm=llm)\n",
    "# Get the first observation\n",
    "obs = driver.reset()\n",
    "f\"OBSERVATION: {obs.output}\""
   ]
  },
  {
   "cell_type": "markdown",
   "metadata": {},
   "source": [
    "You can use the `WebBrowser` tool to run an online search. The tool supports the following actions:\n",
    "- `Search`: use DuckDuckGo to retrieve the first 5 links related to a search query\n",
    "- `WebRead`: scrape a web page providing a URL and rely on the LLM to extract the text related to a search query\n",
    "- `Download`: download a (typically) .pdf in `/tmp/` file from a URL.\n",
    "\n",
    "Start online searching 'Mercedes Sosa discography'"
   ]
  },
  {
   "cell_type": "code",
   "execution_count": 9,
   "metadata": {},
   "outputs": [
    {
     "name": "stdout",
     "output_type": "stream",
     "text": [
      "\n",
      "Title: Mercedes Sosa Discography | Discogs\n",
      "Link: https://www.discogs.com/artist/333361-Mercedes-Sosa\n",
      "Snippet: Mercedes Sosa. Mercedes Sosa, known as La Negra, (born July 9, 1935 in San Miguel de Tucuman, Argentina - Death October 4, 2009 in Buenos Aires) was an Argentine singer who was and remains immensely popular throughout Latin America and internationally. With her roots in Argentine folk music, in 1950, at age fifteen, she won a singing ...\n",
      "\n",
      "Title: Mercedes Sosa - Wikipedia\n",
      "Link: https://en.wikipedia.org/wiki/Mercedes_Sosa\n",
      "Snippet: Haydée Mercedes Sosa (Latin American Spanish: [meɾˈseðes ˈsosa]; 9 July 1935 - 4 October 2009), sometimes known as La Negra (lit. ' The Black ', an affectionate nickname for people with a darker complexion in Argentina), was an Argentine singer who was popular throughout Latin America and many countries outside the region. With her roots in Argentine folk music, Sosa became one of the ...\n",
      "\n",
      "Title: Mercedes Sosa Songs, Albums, Reviews, Bio & Mo... | AllMusic\n",
      "Link: https://www.allmusic.com/artist/mercedes-sosa-mn0000869068\n",
      "Snippet: Explore Mercedes Sosa's discography including top tracks, albums, and reviews. Learn all about Mercedes Sosa on AllMusic.\n",
      "\n",
      "Title: Mercedes Sosa Discography\n",
      "Link: https://www.mercedes-sosa.com/discographie\n",
      "Snippet: Mercedes Sosa Discography. Aufnahmen vor dem Exil. Cancíones con fundamento (1959) La voz de la zafra (1961) Hermano (1966) Yo no canto por cantar (1966) Para cantarle a mi gente (1967) Con sabor a Mercedes Sosa (1968) Mujeres Argentinas (1969)\n",
      "\n",
      "Title: Mercedes Sosa Albums: songs, discography, biography, and listening ...\n",
      "Link: https://rateyourmusic.com/artist/mercedes-sosa\n",
      "Snippet: Mercedes Sosa discography and songs: Music profile for Mercedes Sosa, born 9 July 1935. Genres: Nuevo Cancionero, Hispanic American Folk Music, Nueva canción latinoamericana. Albums include Geraes, El amor después del amor, and Mercedes Sosa en Argentina.\n",
      "\n"
     ]
    }
   ],
   "source": [
    "from agentquest.utils import Action\n",
    "from agentquest.tools.browsing import OnlineSearch\n",
    "from pprint import pprint\n",
    "\n",
    "action = OnlineSearch(search_query=\"Mercedes Sosa discography\")\n",
    "action = Action(action_value=action)\n",
    "obs = driver.step(action)\n",
    "print(obs.output)"
   ]
  },
  {
   "cell_type": "markdown",
   "metadata": {},
   "source": [
    "Try to find the answer to the question by inspecting the first link and providing a query."
   ]
  },
  {
   "cell_type": "code",
   "execution_count": 8,
   "metadata": {},
   "outputs": [
    {
     "name": "stdout",
     "output_type": "stream",
     "text": [
      "Extracted text: Between 2000 and 2009, Mercedes Sosa released the following albums: Misa Criolla (2000), Acústico (2002), Corazón Libre (2005), Cantora 1 (2009), and Cantora 2 (2009).\n",
      "Useful links:\n",
      "\t- Misa Criolla (2000) - Mercedes Sosa: https://www.discogs.com/release/1234567-Mercedes-Sosa-Misa-Criolla\n",
      "\t- Acústico (2002) - Mercedes Sosa: https://www.discogs.com/release/2345678-Mercedes-Sosa-Ac%C3%BAstico\n",
      "\t- Corazón Libre (2005) - Mercedes Sosa: https://www.discogs.com/release/3456789-Mercedes-Sosa-Coraz%C3%B3n-Libre\n",
      "\t- Cantora 1 (2009) - Mercedes Sosa: https://www.discogs.com/release/4567890-Mercedes-Sosa-Cantora-1\n",
      "\t- Cantora 2 (2009) - Mercedes Sosa: https://www.discogs.com/release/5678901-Mercedes-Sosa-Cantora-2\n",
      "\n"
     ]
    }
   ],
   "source": [
    "from agentquest.tools.browsing import WebBrowse\n",
    "\n",
    "action = WebBrowse(\n",
    "    page_url=\"https://www.discogs.com/artist/333361-Mercedes-Sosa\",\n",
    "    web_query=\"Mercedes Sosa discography between 2000 and 2009 (included)\",\n",
    ")\n",
    "action = Action(action_value=action)\n",
    "obs = driver.step(action)\n",
    "print(obs.output)"
   ]
  },
  {
   "cell_type": "markdown",
   "metadata": {},
   "source": [
    "Provide the final answer."
   ]
  },
  {
   "cell_type": "code",
   "execution_count": 7,
   "metadata": {},
   "outputs": [
    {
     "name": "stdout",
     "output_type": "stream",
     "text": [
      "You won!\n"
     ]
    }
   ],
   "source": [
    "from agentquest.tools.questions import FinalAnswer\n",
    "\n",
    "action = FinalAnswer(answer=\"three albums\")\n",
    "action = Action(action_value=action)\n",
    "obs = driver.step(action)\n",
    "print(obs.output)"
   ]
  },
  {
   "cell_type": "markdown",
   "metadata": {},
   "source": [
    "Use the `Download` action to download a .pdf file locally."
   ]
  },
  {
   "cell_type": "code",
   "execution_count": null,
   "metadata": {},
   "outputs": [
    {
     "name": "stdout",
     "output_type": "stream",
     "text": [
      "'Successfully downloaded file 684.pdf'\n"
     ]
    }
   ],
   "source": [
    "from agentquest.tools.browsing import FileDownload\n",
    "\n",
    "action = FileDownload(\n",
    "    file_url=\"https://journals.le.ac.uk/ojs1/index.php/jist/article/download/733/684\",\n",
    ")\n",
    "action = Action(action_value=action)\n",
    "obs = driver.step(action)\n",
    "pprint(obs.output)"
   ]
  },
  {
   "cell_type": "markdown",
   "metadata": {},
   "source": [
    "Use the `FileReader` tool to read a .pdf file and rely on the LLM to extract the first-3-pages text related to a search query."
   ]
  },
  {
   "cell_type": "code",
   "execution_count": null,
   "metadata": {},
   "outputs": [
    {
     "name": "stdout",
     "output_type": "stream",
     "text": [
      "('The fish bag is modeled as a cylinder. Hiccup, who is 1.625 meters tall, is '\n",
      " \"used as a reference to estimate the bag's height, which is approximately 3/8 \"\n",
      " 'of his height, resulting in a bag height of 0.6094 meters. The volume of the '\n",
      " 'bag is calculated using the formula for the volume of a cylinder (V = πr²h). '\n",
      " 'With a radius of 0.3047 meters and a height of 0.6094 meters, the volume of '\n",
      " 'the bag is approximately 0.1777 cubic meters.')\n"
     ]
    }
   ],
   "source": [
    "from pprint import pprint\n",
    "from agentquest.tools.files import FileReader\n",
    "\n",
    "action = FileReader(file_name=\"684.pdf\", file_query=\"Volume of fishbag in m^3\")\n",
    "action = Action(action_value=action)\n",
    "obs = driver.step(action)\n",
    "pprint(obs.output)"
   ]
  }
 ],
 "metadata": {
  "kernelspec": {
   "display_name": ".venv",
   "language": "python",
   "name": "python3"
  },
  "language_info": {
   "codemirror_mode": {
    "name": "ipython",
    "version": 3
   },
   "file_extension": ".py",
   "mimetype": "text/x-python",
   "name": "python",
   "nbconvert_exporter": "python",
   "pygments_lexer": "ipython3",
   "version": "3.10.12"
  }
 },
 "nbformat": 4,
 "nbformat_minor": 2
}
