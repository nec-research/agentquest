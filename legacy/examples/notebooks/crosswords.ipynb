{
 "cells": [
  {
   "cell_type": "markdown",
   "metadata": {},
   "source": [
    "# CrossWords"
   ]
  },
  {
   "cell_type": "code",
   "execution_count": 1,
   "metadata": {},
   "outputs": [],
   "source": [
    "from agentquest.drivers.crosswords import CrosswordsDriver\n",
    "from agentquest.utils import Action, load_data"
   ]
  },
  {
   "cell_type": "markdown",
   "metadata": {},
   "source": [
    "## `start_end` Category\n",
    "\n",
    "The hints are:\n",
    "- Word length\n",
    "- Starting letter\n",
    "- Ending letter"
   ]
  },
  {
   "cell_type": "markdown",
   "metadata": {},
   "source": [
    "Load CrossWords games and select a generic 4 digits game."
   ]
  },
  {
   "cell_type": "code",
   "execution_count": 2,
   "metadata": {},
   "outputs": [
    {
     "data": {
      "text/plain": [
       "{'id': 0,\n",
       " 'clue': 'Saw some music upside down',\n",
       " 'answer': 'tenon',\n",
       " 'hints': ['The word should start with letter t',\n",
       "  'The letter at position 2 is e',\n",
       "  'The letter at position 3 is n',\n",
       "  'The letter at position 4 is o',\n",
       "  'The word should end with letter n'],\n",
       " 'sequence': [0, 4]}"
      ]
     },
     "execution_count": 2,
     "metadata": {},
     "output_type": "execute_result"
    }
   ],
   "source": [
    "# Select a generic 4 digits game\n",
    "game = load_data(\"crosswords\", \"start_end\")[0]\n",
    "\n",
    "game"
   ]
  },
  {
   "cell_type": "markdown",
   "metadata": {},
   "source": [
    "Initialize CrossWords driver and get the first observation"
   ]
  },
  {
   "cell_type": "code",
   "execution_count": 3,
   "metadata": {},
   "outputs": [
    {
     "data": {
      "text/plain": [
       "\"Guess a 5 letters word whose definition is 'Saw some music upside down'\""
      ]
     },
     "execution_count": 3,
     "metadata": {},
     "output_type": "execute_result"
    }
   ],
   "source": [
    "driver = CrosswordsDriver(game)\n",
    "obs = driver.reset()  # Get the first observation\n",
    "obs.output"
   ]
  },
  {
   "cell_type": "markdown",
   "metadata": {},
   "source": [
    "Start guessing the correct word."
   ]
  },
  {
   "cell_type": "code",
   "execution_count": 4,
   "metadata": {},
   "outputs": [
    {
     "data": {
      "text/plain": [
       "'Wrong! The word to guess has 5 letters.'"
      ]
     },
     "execution_count": 4,
     "metadata": {},
     "output_type": "execute_result"
    }
   ],
   "source": [
    "guess = Action(action_value=\"test\")\n",
    "obs = driver.step(guess)\n",
    "obs.output"
   ]
  },
  {
   "cell_type": "code",
   "execution_count": 5,
   "metadata": {},
   "outputs": [
    {
     "data": {
      "text/plain": [
       "'Wrong! The word should start with letter t'"
      ]
     },
     "execution_count": 5,
     "metadata": {},
     "output_type": "execute_result"
    }
   ],
   "source": [
    "guess = Action(action_value=\"lestt\")\n",
    "obs = driver.step(guess)\n",
    "obs.output"
   ]
  },
  {
   "cell_type": "code",
   "execution_count": 6,
   "metadata": {},
   "outputs": [
    {
     "data": {
      "text/plain": [
       "'Wrong! The word should end with letter n'"
      ]
     },
     "execution_count": 6,
     "metadata": {},
     "output_type": "execute_result"
    }
   ],
   "source": [
    "guess = Action(action_value=\"tenor\")\n",
    "obs = driver.step(guess)\n",
    "obs.output"
   ]
  },
  {
   "cell_type": "code",
   "execution_count": 7,
   "metadata": {},
   "outputs": [
    {
     "data": {
      "text/plain": [
       "'Wrong! Try another guess'"
      ]
     },
     "execution_count": 7,
     "metadata": {},
     "output_type": "execute_result"
    }
   ],
   "source": [
    "guess = Action(action_value=\"treen\")\n",
    "obs = driver.step(guess)\n",
    "obs.output"
   ]
  },
  {
   "cell_type": "code",
   "execution_count": 8,
   "metadata": {},
   "outputs": [
    {
     "data": {
      "text/plain": [
       "'You won!'"
      ]
     },
     "execution_count": 8,
     "metadata": {},
     "output_type": "execute_result"
    }
   ],
   "source": [
    "guess = Action(action_value=\"tenon\")\n",
    "obs = driver.step(guess)\n",
    "obs.output"
   ]
  },
  {
   "cell_type": "markdown",
   "metadata": {},
   "source": [
    "## `start_middle_end` Category\n",
    "\n",
    "The hints are:\n",
    "- Word length\n",
    "- Starting letter\n",
    "- Ending letter\n",
    "- All the letters in the middle"
   ]
  },
  {
   "cell_type": "code",
   "execution_count": 7,
   "metadata": {},
   "outputs": [
    {
     "data": {
      "text/plain": [
       "{'id': 0,\n",
       " 'clue': 'Saw some music upside down',\n",
       " 'answer': 'tenon',\n",
       " 'hints': ['The word should start with letter t',\n",
       "  'The letter at position 2 is e',\n",
       "  'The letter at position 3 is n',\n",
       "  'The letter at position 4 is o',\n",
       "  'The word should end with letter n'],\n",
       " 'sequence': [3, 1, 2, 4, 0]}"
      ]
     },
     "execution_count": 7,
     "metadata": {},
     "output_type": "execute_result"
    }
   ],
   "source": [
    "# Select a generic 4 digits game\n",
    "game = load_data(\"crosswords\", \"start_middle_end\")[0]\n",
    "\n",
    "game"
   ]
  },
  {
   "cell_type": "markdown",
   "metadata": {},
   "source": [
    "Initialize CrossWords driver and get the first observation"
   ]
  },
  {
   "cell_type": "code",
   "execution_count": 8,
   "metadata": {},
   "outputs": [
    {
     "data": {
      "text/plain": [
       "\"Guess a 5 letters word whose definition is 'Saw some music upside down'\""
      ]
     },
     "execution_count": 8,
     "metadata": {},
     "output_type": "execute_result"
    }
   ],
   "source": [
    "driver = CrosswordsDriver(game)\n",
    "obs = driver.reset()  # Get the first observation\n",
    "obs.output"
   ]
  },
  {
   "cell_type": "markdown",
   "metadata": {},
   "source": [
    "Start guessing the correct word."
   ]
  },
  {
   "cell_type": "code",
   "execution_count": 9,
   "metadata": {},
   "outputs": [
    {
     "data": {
      "text/plain": [
       "'Wrong! The word to guess has 5 letters.'"
      ]
     },
     "execution_count": 9,
     "metadata": {},
     "output_type": "execute_result"
    }
   ],
   "source": [
    "guess = Action(action_value=\"test\")\n",
    "obs = driver.step(guess)\n",
    "obs.output"
   ]
  },
  {
   "cell_type": "code",
   "execution_count": 10,
   "metadata": {},
   "outputs": [
    {
     "data": {
      "text/plain": [
       "'Wrong! The letter at position 4 is o'"
      ]
     },
     "execution_count": 10,
     "metadata": {},
     "output_type": "execute_result"
    }
   ],
   "source": [
    "guess = Action(action_value=\"lestt\")\n",
    "obs = driver.step(guess)\n",
    "obs.output"
   ]
  },
  {
   "cell_type": "code",
   "execution_count": 11,
   "metadata": {},
   "outputs": [
    {
     "data": {
      "text/plain": [
       "'Wrong! The word should end with letter n'"
      ]
     },
     "execution_count": 11,
     "metadata": {},
     "output_type": "execute_result"
    }
   ],
   "source": [
    "guess = Action(action_value=\"tenor\")\n",
    "obs = driver.step(guess)\n",
    "obs.output"
   ]
  },
  {
   "cell_type": "code",
   "execution_count": 12,
   "metadata": {},
   "outputs": [
    {
     "data": {
      "text/plain": [
       "'You won!'"
      ]
     },
     "execution_count": 12,
     "metadata": {},
     "output_type": "execute_result"
    }
   ],
   "source": [
    "guess = Action(action_value=\"tenon\")\n",
    "obs = driver.step(guess)\n",
    "obs.output"
   ]
  }
 ],
 "metadata": {
  "kernelspec": {
   "display_name": "Python 3",
   "language": "python",
   "name": "python3"
  },
  "language_info": {
   "codemirror_mode": {
    "name": "ipython",
    "version": 3
   },
   "file_extension": ".py",
   "mimetype": "text/x-python",
   "name": "python",
   "nbconvert_exporter": "python",
   "pygments_lexer": "ipython3",
   "version": "3.10.12"
  }
 },
 "nbformat": 4,
 "nbformat_minor": 2
}
