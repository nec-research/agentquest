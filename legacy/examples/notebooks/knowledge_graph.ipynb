{
 "cells": [
  {
   "cell_type": "markdown",
   "metadata": {},
   "source": [
    "# Knowledge Graph"
   ]
  },
  {
   "cell_type": "code",
   "execution_count": 1,
   "metadata": {},
   "outputs": [],
   "source": [
    "from agentquest.drivers.knowledgegraph import KnowledgeGraphDriver\n",
    "from agentquest.utils import Action, load_data"
   ]
  },
  {
   "cell_type": "markdown",
   "metadata": {},
   "source": [
    "Load Knowledge Graph games and select a generic game"
   ]
  },
  {
   "cell_type": "code",
   "execution_count": 2,
   "metadata": {},
   "outputs": [],
   "source": [
    "game = load_data(\"knowledgegraph\")[0]"
   ]
  },
  {
   "cell_type": "markdown",
   "metadata": {},
   "source": [
    "Initialize the Knowledge Graph driver and get the first observation"
   ]
  },
  {
   "cell_type": "code",
   "execution_count": 3,
   "metadata": {},
   "outputs": [
    {
     "data": {
      "text/plain": [
       "'{\"question\": \"what is the attitude of the first dog and the german shepherds?\", \"entities\": {\"first dog\": \"m.05t073s\", \"german shepherds\": \"m.0km5c\"}}'"
      ]
     },
     "execution_count": 3,
     "metadata": {},
     "output_type": "execute_result"
    }
   ],
   "source": [
    "driver = KnowledgeGraphDriver(game)\n",
    "obs = driver.reset()  # Get the first observation\n",
    "obs.output"
   ]
  },
  {
   "cell_type": "markdown",
   "metadata": {},
   "source": [
    "Find the relations of the first dog."
   ]
  },
  {
   "cell_type": "code",
   "execution_count": null,
   "metadata": {},
   "outputs": [],
   "source": [
    "act = Action(action_value=\"get_relations('m.05t073s')\")\n",
    "obs = driver.step(guess)\n",
    "obs.output"
   ]
  },
  {
   "cell_type": "markdown",
   "metadata": {},
   "source": [
    "Find the breed of the first dog"
   ]
  },
  {
   "cell_type": "code",
   "execution_count": null,
   "metadata": {},
   "outputs": [],
   "source": [
    "act = Action(\n",
    "    action_value=\"get_neighbors('m.05t073s', 'biology.pedigreed_animal.breed')\"\n",
    ")\n",
    "obs = driver.step(act)\n",
    "obs.output"
   ]
  },
  {
   "cell_type": "markdown",
   "metadata": {},
   "source": [
    "Find the relations of the German shepherds to see if there's any relation that could lead to their attitude."
   ]
  },
  {
   "cell_type": "code",
   "execution_count": null,
   "metadata": {},
   "outputs": [],
   "source": [
    "act = Action(action_value=\"get_relations('m.0km5c')\")\n",
    "obs = driver.step(act)\n",
    "obs.output"
   ]
  },
  {
   "cell_type": "markdown",
   "metadata": {},
   "source": [
    "Find the temperament of the German shepherds."
   ]
  },
  {
   "cell_type": "code",
   "execution_count": null,
   "metadata": {},
   "outputs": [],
   "source": [
    "act = Action(\n",
    "    action_value=\"get_neighbors('m.0km5c', 'biology.animal_breed.temperament')\"\n",
    ")\n",
    "obs = driver.step(act)\n",
    "obs.output"
   ]
  },
  {
   "cell_type": "markdown",
   "metadata": {},
   "source": [
    "Find the relations of the breed of the first dog to see if there's any relation that could lead to its temperament."
   ]
  },
  {
   "cell_type": "code",
   "execution_count": null,
   "metadata": {},
   "outputs": [],
   "source": [
    "act = Action(action_value=\"get_relations(#0)\")\n",
    "obs = driver.step(act)\n",
    "obs.output"
   ]
  },
  {
   "cell_type": "markdown",
   "metadata": {},
   "source": [
    "Find the temperament of the breed of the first dog."
   ]
  },
  {
   "cell_type": "code",
   "execution_count": null,
   "metadata": {},
   "outputs": [],
   "source": [
    "act = Action(action_value=\"get_neighbors(#0, 'biology.animal_breed.temperament')\")\n",
    "obs = driver.step(act)\n",
    "obs.output"
   ]
  },
  {
   "cell_type": "markdown",
   "metadata": {},
   "source": [
    "The question asks for the attitude of both, so the answer should be the intersection of the two temperaments"
   ]
  },
  {
   "cell_type": "code",
   "execution_count": null,
   "metadata": {},
   "outputs": [],
   "source": [
    "act = Action(action_value=\"intersection(#1, #2)\")\n",
    "obs = driver.step(act)\n",
    "obs.output"
   ]
  },
  {
   "cell_type": "markdown",
   "metadata": {},
   "source": [
    "The intersection of the temperaments of the first dog and the German shepherds is the answer to the question."
   ]
  },
  {
   "cell_type": "code",
   "execution_count": null,
   "metadata": {},
   "outputs": [],
   "source": [
    "act = Action(action_value=\"FINAL ANSWER: #3\")\n",
    "obs = driver.step(act)\n",
    "obs.output"
   ]
  }
 ],
 "metadata": {
  "kernelspec": {
   "display_name": ".kgvenv",
   "language": "python",
   "name": "python3"
  },
  "language_info": {
   "codemirror_mode": {
    "name": "ipython",
    "version": 3
   },
   "file_extension": ".py",
   "mimetype": "text/x-python",
   "name": "python",
   "nbconvert_exporter": "python",
   "pygments_lexer": "ipython3",
   "version": "3.10.12"
  }
 },
 "nbformat": 4,
 "nbformat_minor": 2
}
